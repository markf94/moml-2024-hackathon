{
 "cells": [
  {
   "cell_type": "code",
   "execution_count": 1,
   "id": "8394ffdc-5ec1-447a-9cce-af7758f18f4c",
   "metadata": {},
   "outputs": [
    {
     "name": "stderr",
     "output_type": "stream",
     "text": [
      "/home/ubuntu/micromamba/envs/moml-ilya/lib/python3.11/site-packages/tqdm/auto.py:21: TqdmWarning: IProgress not found. Please update jupyter and ipywidgets. See https://ipywidgets.readthedocs.io/en/stable/user_install.html\n",
      "  from .autonotebook import tqdm as notebook_tqdm\n",
      "\u001b[32m2024-06-21 00:50:36.737\u001b[0m | \u001b[1mINFO    \u001b[0m | \u001b[36mpolaris._artifact\u001b[0m:\u001b[36m_validate_version\u001b[0m:\u001b[36m66\u001b[0m - \u001b[1mThe version of Polaris that was used to create the artifact (0.0.0) is different from the currently installed version of Polaris (dev).\u001b[0m\n",
      "\u001b[32m2024-06-21 00:50:36.750\u001b[0m | \u001b[1mINFO    \u001b[0m | \u001b[36mpolaris._artifact\u001b[0m:\u001b[36m_validate_version\u001b[0m:\u001b[36m66\u001b[0m - \u001b[1mThe version of Polaris that was used to create the artifact (0.0.0) is different from the currently installed version of Polaris (dev).\u001b[0m\n"
     ]
    }
   ],
   "source": [
    "from functools import partial\n",
    "\n",
    "from imblearn.over_sampling import SMOTE\n",
    "import polaris as po\n",
    "import datamol as dm\n",
    "import numpy as np\n",
    "\n",
    "mapping = {\n",
    " (0.0, 0.0, 0.0): 0,\n",
    " (1.0, 0.0, 0.0): 1,\n",
    " (1.0, 0.0, 1.0): 2,\n",
    " (1.0, 1.0, 0.0): 3,\n",
    " (1.0, 1.0, 1.0): 4,\n",
    "}\n",
    "inv_mapping = {v: k for k, v in mapping.items()}\n",
    "\n",
    "# load dataset\n",
    "benchmark = po.load_benchmark(\"polaris/pkis1-kit-wt-mut-c-1\")\n",
    "# use ECFP fingerprint\n",
    "train, test = benchmark.get_train_test_split(featurization_fn=partial(dm.to_fp, fp_type='ecfp'))\n",
    "\n",
    "# define order of target values\n",
    "target_order = ['CLASS_KIT', 'CLASS_KIT_(T6701_mutant)', 'CLASS_KIT_(V560G_mutant)']\n",
    "\n",
    "# reshape the y values for convenience\n",
    "ys = train.y\n",
    "ys = np.stack([ys[target] for target in target_order], axis=1)\n",
    "ys.shape\n",
    "\n",
    "# remove the rows with NaN values\n",
    "mask = ~np.any(np.isnan(ys), axis=1)\n",
    "mask.sum()\n",
    "X = train.X[mask]\n",
    "ys = ys[mask]\n",
    "\n",
    "ys_scalarized = [tuple(item) for item in ys]\n",
    "ys_scalarized = [mapping[item] for i, item in enumerate(ys_scalarized)]\n",
    "\n",
    "X_resampled, y_resampled = SMOTE(k_neighbors=2).fit_resample(X, ys_scalarized)\n",
    "y_resampled = [inv_mapping[item] for i, item in enumerate(y_resampled)]\n"
   ]
  },
  {
   "cell_type": "code",
   "execution_count": 8,
   "id": "613d9765-cd0e-4d92-bb69-75cac19eca69",
   "metadata": {},
   "outputs": [
    {
     "name": "stderr",
     "output_type": "stream",
     "text": [
      "\u001b[32m2024-06-21 00:55:06.115\u001b[0m | \u001b[1mINFO    \u001b[0m | \u001b[36mpolaris._artifact\u001b[0m:\u001b[36m_validate_version\u001b[0m:\u001b[36m66\u001b[0m - \u001b[1mThe version of Polaris that was used to create the artifact (0.0.0) is different from the currently installed version of Polaris (dev).\u001b[0m\n",
      "\u001b[32m2024-06-21 00:55:06.122\u001b[0m | \u001b[1mINFO    \u001b[0m | \u001b[36mpolaris._artifact\u001b[0m:\u001b[36m_validate_version\u001b[0m:\u001b[36m66\u001b[0m - \u001b[1mThe version of Polaris that was used to create the artifact (0.0.0) is different from the currently installed version of Polaris (dev).\u001b[0m\n"
     ]
    }
   ],
   "source": [
    "benchmark = po.load_benchmark(\"polaris/pkis1-kit-wt-mut-c-1\")\n",
    "train, test = benchmark.get_train_test_split(featurization_fn=dm.to_fp)\n",
    "#train, test = benchmark.get_train_test_split()\n",
    "\n",
    "ys = train.y\n",
    "ys = np.stack([ys[target] for target in benchmark.target_cols], axis=1)\n",
    "mask = ~np.any(np.isnan(ys), axis=1)\n",
    "mask.sum()\n",
    "\n",
    "X_train = train.X[mask]\n",
    "y_train = ys[mask]"
   ]
  },
  {
   "cell_type": "code",
   "execution_count": 9,
   "id": "0c39e155-66d4-4691-9c8a-667d6283b296",
   "metadata": {},
   "outputs": [
    {
     "data": {
      "text/plain": [
       "(1230, 2048)"
      ]
     },
     "execution_count": 9,
     "metadata": {},
     "output_type": "execute_result"
    }
   ],
   "source": [
    "X_resampled.shape"
   ]
  },
  {
   "cell_type": "code",
   "execution_count": 7,
   "id": "f31a897c-aec5-4639-b5c3-530acd0120de",
   "metadata": {},
   "outputs": [
    {
     "data": {
      "text/plain": [
       "(1230, 1784)"
      ]
     },
     "execution_count": 7,
     "metadata": {},
     "output_type": "execute_result"
    }
   ],
   "source": [
    "unique_columns1 = np.all(X_resampled == X_resampled[0, :], axis=0)\n",
    "filtered_arr1 = X_resampled[:, ~unique_columns1]\n",
    "filtered_arr1.shape"
   ]
  },
  {
   "cell_type": "code",
   "execution_count": 11,
   "id": "418ecc05-bc92-45de-95e4-6ca76172379c",
   "metadata": {},
   "outputs": [
    {
     "name": "stdout",
     "output_type": "stream",
     "text": [
      "(276, 2048)\n"
     ]
    },
    {
     "data": {
      "text/plain": [
       "(276, 1784)"
      ]
     },
     "execution_count": 11,
     "metadata": {},
     "output_type": "execute_result"
    }
   ],
   "source": [
    "print(X_train.shape)\n",
    "def remove_useless_features(data):\n",
    "    unique_columns = np.all(data == data[0, :], axis=0)\n",
    "    filtered_arr = data[:, ~unique_columns]\n",
    "    return filtered_arr"
   ]
  },
  {
   "cell_type": "code",
   "execution_count": 25,
   "id": "f9c8489c-3011-4ff5-a3a9-08985b651e9d",
   "metadata": {},
   "outputs": [],
   "source": [
    "ys = train.y\n",
    "ys = np.stack([ys[target] for target in target_order], axis=1)\n",
    "\n",
    "ys = ys[mask]\n",
    "\n",
    "ys_scalarized = [tuple(item) for item in ys]\n",
    "ys_scalarized = [mapping[item] for i, item in enumerate(ys_scalarized)]\n",
    "\n",
    "X_resampled, y_resampled = SMOTE(k_neighbors=2).fit_resample(X, ys_scalarized)"
   ]
  },
  {
   "cell_type": "code",
   "execution_count": 26,
   "id": "e1561a9f-095c-42c1-aa28-85e5007947d2",
   "metadata": {},
   "outputs": [
    {
     "data": {
      "image/png": "[encoded data removed]",
      "text/plain": [
       "<Figure size 1000x600 with 1 Axes>"
      ]
     },
     "metadata": {},
     "output_type": "display_data"
    }
   ],
   "source": [
    "import matplotlib.pyplot as plt\n",
    "\n",
    "unique_elements, counts = np.unique(y_resampled, return_counts=True)\n",
    "plt.figure(figsize=(10, 6))\n",
    "plt.bar(unique_elements, counts, color='skyblue')\n",
    "plt.xlabel('Unique Elements')\n",
    "plt.ylabel('Counts')\n",
    "plt.title('Counts of Unique Elements in Array')\n",
    "plt.xticks(unique_elements)  # Set x-axis ticks to the unique elements\n",
    "plt.show()"
   ]
  },
  {
   "cell_type": "code",
   "execution_count": null,
   "id": "824ebba1-9c86-49ad-adda-208eca4f3199",
   "metadata": {},
   "outputs": [],
   "source": []
  }
 ],
 "metadata": {
  "kernelspec": {
   "display_name": "Python 3 (ipykernel)",
   "language": "python",
   "name": "python3"
  },
  "language_info": {
   "codemirror_mode": {
    "name": "ipython",
    "version": 3
   },
   "file_extension": ".py",
   "mimetype": "text/x-python",
   "name": "python",
   "nbconvert_exporter": "python",
   "pygments_lexer": "ipython3",
   "version": "3.11.9"
  }
 },
 "nbformat": 4,
 "nbformat_minor": 5
}
