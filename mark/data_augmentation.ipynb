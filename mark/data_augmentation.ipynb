{
 "cells": [
  {
   "cell_type": "code",
   "execution_count": 120,
   "id": "c8eb225f-de5d-4e40-8738-39e93e482391",
   "metadata": {
    "scrolled": true
   },
   "outputs": [
    {
     "name": "stdout",
     "output_type": "stream",
     "text": [
      "Requirement already satisfied: polaris-lib in /home/ubuntu/micromamba/envs/moml-mark/lib/python3.11/site-packages (0.5.0)\n",
      "Requirement already satisfied: tqdm in /home/ubuntu/micromamba/envs/moml-mark/lib/python3.11/site-packages (from polaris-lib) (4.66.4)\n",
      "Requirement already satisfied: loguru in /home/ubuntu/micromamba/envs/moml-mark/lib/python3.11/site-packages (from polaris-lib) (0.7.2)\n",
      "Requirement already satisfied: typer in /home/ubuntu/micromamba/envs/moml-mark/lib/python3.11/site-packages (from polaris-lib) (0.12.3)\n",
      "Requirement already satisfied: pyyaml in /home/ubuntu/micromamba/envs/moml-mark/lib/python3.11/site-packages (from polaris-lib) (6.0.1)\n",
      "Requirement already satisfied: pydantic>=2 in /home/ubuntu/micromamba/envs/moml-mark/lib/python3.11/site-packages (from polaris-lib) (2.7.4)\n",
      "Requirement already satisfied: pydantic-settings>=2 in /home/ubuntu/micromamba/envs/moml-mark/lib/python3.11/site-packages (from polaris-lib) (2.3.3)\n",
      "Requirement already satisfied: authlib in /home/ubuntu/micromamba/envs/moml-mark/lib/python3.11/site-packages (from polaris-lib) (1.3.0)\n",
      "Requirement already satisfied: httpx in /home/ubuntu/micromamba/envs/moml-mark/lib/python3.11/site-packages (from polaris-lib) (0.27.0)\n",
      "Requirement already satisfied: tenacity in /home/ubuntu/micromamba/envs/moml-mark/lib/python3.11/site-packages (from polaris-lib) (8.4.1)\n",
      "Requirement already satisfied: filelock in /home/ubuntu/micromamba/envs/moml-mark/lib/python3.11/site-packages (from polaris-lib) (3.15.3)\n",
      "Requirement already satisfied: numpy in /home/ubuntu/micromamba/envs/moml-mark/lib/python3.11/site-packages (from polaris-lib) (1.26.4)\n",
      "Requirement already satisfied: pandas<2.2.0 in /home/ubuntu/micromamba/envs/moml-mark/lib/python3.11/site-packages (from polaris-lib) (2.1.4)\n",
      "Requirement already satisfied: scipy in /home/ubuntu/micromamba/envs/moml-mark/lib/python3.11/site-packages (from polaris-lib) (1.13.1)\n",
      "Requirement already satisfied: scikit-learn in /home/ubuntu/micromamba/envs/moml-mark/lib/python3.11/site-packages (from polaris-lib) (1.5.0)\n",
      "Requirement already satisfied: seaborn in /home/ubuntu/micromamba/envs/moml-mark/lib/python3.11/site-packages (from polaris-lib) (0.13.2)\n",
      "Requirement already satisfied: datamol>=0.12.1 in /home/ubuntu/micromamba/envs/moml-mark/lib/python3.11/site-packages (from polaris-lib) (0.12.5)\n",
      "Requirement already satisfied: zarr in /home/ubuntu/micromamba/envs/moml-mark/lib/python3.11/site-packages (from polaris-lib) (2.18.2)\n",
      "Requirement already satisfied: pyarrow in /home/ubuntu/micromamba/envs/moml-mark/lib/python3.11/site-packages (from polaris-lib) (16.1.0)\n",
      "Requirement already satisfied: fsspec[http] in /home/ubuntu/micromamba/envs/moml-mark/lib/python3.11/site-packages (from polaris-lib) (2024.6.0)\n",
      "Requirement already satisfied: joblib in /home/ubuntu/micromamba/envs/moml-mark/lib/python3.11/site-packages (from datamol>=0.12.1->polaris-lib) (1.4.2)\n",
      "Requirement already satisfied: matplotlib in /home/ubuntu/micromamba/envs/moml-mark/lib/python3.11/site-packages (from datamol>=0.12.1->polaris-lib) (3.8.4)\n",
      "Requirement already satisfied: pillow in /home/ubuntu/micromamba/envs/moml-mark/lib/python3.11/site-packages (from datamol>=0.12.1->polaris-lib) (9.4.0)\n",
      "Requirement already satisfied: selfies in /home/ubuntu/micromamba/envs/moml-mark/lib/python3.11/site-packages (from datamol>=0.12.1->polaris-lib) (2.1.1)\n",
      "Requirement already satisfied: platformdirs in /home/ubuntu/micromamba/envs/moml-mark/lib/python3.11/site-packages (from datamol>=0.12.1->polaris-lib) (4.2.2)\n",
      "Requirement already satisfied: packaging in /home/ubuntu/micromamba/envs/moml-mark/lib/python3.11/site-packages (from datamol>=0.12.1->polaris-lib) (24.1)\n",
      "Requirement already satisfied: typing-extensions in /home/ubuntu/micromamba/envs/moml-mark/lib/python3.11/site-packages (from datamol>=0.12.1->polaris-lib) (4.12.2)\n",
      "Requirement already satisfied: importlib-resources in /home/ubuntu/micromamba/envs/moml-mark/lib/python3.11/site-packages (from datamol>=0.12.1->polaris-lib) (6.4.0)\n",
      "Requirement already satisfied: rdkit in /home/ubuntu/micromamba/envs/moml-mark/lib/python3.11/site-packages (from datamol>=0.12.1->polaris-lib) (2023.9.6)\n",
      "Requirement already satisfied: python-dateutil>=2.8.2 in /home/ubuntu/micromamba/envs/moml-mark/lib/python3.11/site-packages (from pandas<2.2.0->polaris-lib) (2.9.0)\n",
      "Requirement already satisfied: pytz>=2020.1 in /home/ubuntu/micromamba/envs/moml-mark/lib/python3.11/site-packages (from pandas<2.2.0->polaris-lib) (2024.1)\n",
      "Requirement already satisfied: tzdata>=2022.1 in /home/ubuntu/micromamba/envs/moml-mark/lib/python3.11/site-packages (from pandas<2.2.0->polaris-lib) (2024.1)\n",
      "Requirement already satisfied: annotated-types>=0.4.0 in /home/ubuntu/micromamba/envs/moml-mark/lib/python3.11/site-packages (from pydantic>=2->polaris-lib) (0.7.0)\n",
      "Requirement already satisfied: pydantic-core==2.18.4 in /home/ubuntu/micromamba/envs/moml-mark/lib/python3.11/site-packages (from pydantic>=2->polaris-lib) (2.18.4)\n",
      "Requirement already satisfied: python-dotenv>=0.21.0 in /home/ubuntu/micromamba/envs/moml-mark/lib/python3.11/site-packages (from pydantic-settings>=2->polaris-lib) (1.0.1)\n",
      "Requirement already satisfied: cryptography in /home/ubuntu/micromamba/envs/moml-mark/lib/python3.11/site-packages (from authlib->polaris-lib) (42.0.8)\n",
      "Requirement already satisfied: aiohttp!=4.0.0a0,!=4.0.0a1 in /home/ubuntu/micromamba/envs/moml-mark/lib/python3.11/site-packages (from fsspec[http]->polaris-lib) (3.9.5)\n",
      "Requirement already satisfied: anyio in /home/ubuntu/micromamba/envs/moml-mark/lib/python3.11/site-packages (from httpx->polaris-lib) (4.4.0)\n",
      "Requirement already satisfied: certifi in /home/ubuntu/micromamba/envs/moml-mark/lib/python3.11/site-packages (from httpx->polaris-lib) (2024.6.2)\n",
      "Requirement already satisfied: httpcore==1.* in /home/ubuntu/micromamba/envs/moml-mark/lib/python3.11/site-packages (from httpx->polaris-lib) (1.0.5)\n",
      "Requirement already satisfied: idna in /home/ubuntu/micromamba/envs/moml-mark/lib/python3.11/site-packages (from httpx->polaris-lib) (3.7)\n",
      "Requirement already satisfied: sniffio in /home/ubuntu/micromamba/envs/moml-mark/lib/python3.11/site-packages (from httpx->polaris-lib) (1.3.1)\n",
      "Requirement already satisfied: h11<0.15,>=0.13 in /home/ubuntu/micromamba/envs/moml-mark/lib/python3.11/site-packages (from httpcore==1.*->httpx->polaris-lib) (0.14.0)\n",
      "Requirement already satisfied: threadpoolctl>=3.1.0 in /home/ubuntu/micromamba/envs/moml-mark/lib/python3.11/site-packages (from scikit-learn->polaris-lib) (3.5.0)\n",
      "Requirement already satisfied: click>=8.0.0 in /home/ubuntu/micromamba/envs/moml-mark/lib/python3.11/site-packages (from typer->polaris-lib) (8.1.7)\n",
      "Requirement already satisfied: shellingham>=1.3.0 in /home/ubuntu/micromamba/envs/moml-mark/lib/python3.11/site-packages (from typer->polaris-lib) (1.5.4)\n",
      "Requirement already satisfied: rich>=10.11.0 in /home/ubuntu/micromamba/envs/moml-mark/lib/python3.11/site-packages (from typer->polaris-lib) (13.7.1)\n",
      "Requirement already satisfied: asciitree in /home/ubuntu/micromamba/envs/moml-mark/lib/python3.11/site-packages (from zarr->polaris-lib) (0.3.3)\n",
      "Requirement already satisfied: numcodecs>=0.10.0 in /home/ubuntu/micromamba/envs/moml-mark/lib/python3.11/site-packages (from zarr->polaris-lib) (0.12.1)\n",
      "Requirement already satisfied: fasteners in /home/ubuntu/micromamba/envs/moml-mark/lib/python3.11/site-packages (from zarr->polaris-lib) (0.17.3)\n",
      "Requirement already satisfied: aiosignal>=1.1.2 in /home/ubuntu/micromamba/envs/moml-mark/lib/python3.11/site-packages (from aiohttp!=4.0.0a0,!=4.0.0a1->fsspec[http]->polaris-lib) (1.3.1)\n",
      "Requirement already satisfied: attrs>=17.3.0 in /home/ubuntu/micromamba/envs/moml-mark/lib/python3.11/site-packages (from aiohttp!=4.0.0a0,!=4.0.0a1->fsspec[http]->polaris-lib) (23.2.0)\n",
      "Requirement already satisfied: frozenlist>=1.1.1 in /home/ubuntu/micromamba/envs/moml-mark/lib/python3.11/site-packages (from aiohttp!=4.0.0a0,!=4.0.0a1->fsspec[http]->polaris-lib) (1.4.1)\n",
      "Requirement already satisfied: multidict<7.0,>=4.5 in /home/ubuntu/micromamba/envs/moml-mark/lib/python3.11/site-packages (from aiohttp!=4.0.0a0,!=4.0.0a1->fsspec[http]->polaris-lib) (6.0.5)\n",
      "Requirement already satisfied: yarl<2.0,>=1.0 in /home/ubuntu/micromamba/envs/moml-mark/lib/python3.11/site-packages (from aiohttp!=4.0.0a0,!=4.0.0a1->fsspec[http]->polaris-lib) (1.9.4)\n",
      "Requirement already satisfied: contourpy>=1.0.1 in /home/ubuntu/micromamba/envs/moml-mark/lib/python3.11/site-packages (from matplotlib->datamol>=0.12.1->polaris-lib) (1.2.1)\n",
      "Requirement already satisfied: cycler>=0.10 in /home/ubuntu/micromamba/envs/moml-mark/lib/python3.11/site-packages (from matplotlib->datamol>=0.12.1->polaris-lib) (0.12.1)\n",
      "Requirement already satisfied: fonttools>=4.22.0 in /home/ubuntu/micromamba/envs/moml-mark/lib/python3.11/site-packages (from matplotlib->datamol>=0.12.1->polaris-lib) (4.53.0)\n",
      "Requirement already satisfied: kiwisolver>=1.3.1 in /home/ubuntu/micromamba/envs/moml-mark/lib/python3.11/site-packages (from matplotlib->datamol>=0.12.1->polaris-lib) (1.4.5)\n",
      "Requirement already satisfied: pyparsing>=2.3.1 in /home/ubuntu/micromamba/envs/moml-mark/lib/python3.11/site-packages (from matplotlib->datamol>=0.12.1->polaris-lib) (3.1.2)\n",
      "Requirement already satisfied: six>=1.5 in /home/ubuntu/micromamba/envs/moml-mark/lib/python3.11/site-packages (from python-dateutil>=2.8.2->pandas<2.2.0->polaris-lib) (1.16.0)\n",
      "Requirement already satisfied: markdown-it-py>=2.2.0 in /home/ubuntu/micromamba/envs/moml-mark/lib/python3.11/site-packages (from rich>=10.11.0->typer->polaris-lib) (3.0.0)\n",
      "Requirement already satisfied: pygments<3.0.0,>=2.13.0 in /home/ubuntu/micromamba/envs/moml-mark/lib/python3.11/site-packages (from rich>=10.11.0->typer->polaris-lib) (2.18.0)\n",
      "Requirement already satisfied: cffi>=1.12 in /home/ubuntu/micromamba/envs/moml-mark/lib/python3.11/site-packages (from cryptography->authlib->polaris-lib) (1.16.0)\n",
      "Requirement already satisfied: pycparser in /home/ubuntu/micromamba/envs/moml-mark/lib/python3.11/site-packages (from cffi>=1.12->cryptography->authlib->polaris-lib) (2.22)\n",
      "Requirement already satisfied: mdurl~=0.1 in /home/ubuntu/micromamba/envs/moml-mark/lib/python3.11/site-packages (from markdown-it-py>=2.2.0->rich>=10.11.0->typer->polaris-lib) (0.1.2)\n"
     ]
    }
   ],
   "source": [
    "!pip install polaris-lib"
   ]
  },
  {
   "cell_type": "code",
   "execution_count": 121,
   "id": "2e6a1373-c56b-4ff2-8e7b-1780531c089b",
   "metadata": {},
   "outputs": [
    {
     "name": "stdout",
     "output_type": "stream",
     "text": [
      "Requirement already satisfied: imbalanced-learn in /home/ubuntu/micromamba/envs/moml-mark/lib/python3.11/site-packages (0.12.3)\n",
      "Requirement already satisfied: numpy>=1.17.3 in /home/ubuntu/micromamba/envs/moml-mark/lib/python3.11/site-packages (from imbalanced-learn) (1.26.4)\n",
      "Requirement already satisfied: scipy>=1.5.0 in /home/ubuntu/micromamba/envs/moml-mark/lib/python3.11/site-packages (from imbalanced-learn) (1.13.1)\n",
      "Requirement already satisfied: scikit-learn>=1.0.2 in /home/ubuntu/micromamba/envs/moml-mark/lib/python3.11/site-packages (from imbalanced-learn) (1.5.0)\n",
      "Requirement already satisfied: joblib>=1.1.1 in /home/ubuntu/micromamba/envs/moml-mark/lib/python3.11/site-packages (from imbalanced-learn) (1.4.2)\n",
      "Requirement already satisfied: threadpoolctl>=2.0.0 in /home/ubuntu/micromamba/envs/moml-mark/lib/python3.11/site-packages (from imbalanced-learn) (3.5.0)\n"
     ]
    }
   ],
   "source": [
    "!pip install imbalanced-learn"
   ]
  },
  {
   "cell_type": "code",
   "execution_count": 122,
   "id": "776232fc-a53c-4be1-908f-da386dcbec93",
   "metadata": {},
   "outputs": [
    {
     "name": "stdout",
     "output_type": "stream",
     "text": [
      "\u001b[32m2024-06-20 21:34:32.509\u001b[0m | \u001b[1mINFO    \u001b[0m | \u001b[36mpolaris.hub.client\u001b[0m:\u001b[36mlogin\u001b[0m:\u001b[36m285\u001b[0m - \u001b[1mYou are already logged in to the Polaris Hub as yakavetsiv (i.yakavets@gmail.com). Set `overwrite=True` to force re-authentication.\u001b[0m\n"
     ]
    }
   ],
   "source": [
    "!polaris login"
   ]
  },
  {
   "cell_type": "code",
   "execution_count": 123,
   "id": "c1cc7395-6836-4866-944f-f3283ab9796f",
   "metadata": {},
   "outputs": [
    {
     "name": "stdout",
     "output_type": "stream",
     "text": [
      "You have set \"qumark\" as the owner\n"
     ]
    }
   ],
   "source": [
    "# @title Set an owner\n",
    "owner = 'qumark' # @param {type:\"string\"}\n",
    "print(f\"You have set \\\"{owner}\\\" as the owner\")"
   ]
  },
  {
   "cell_type": "code",
   "execution_count": 124,
   "id": "22a220bb-7b36-4bda-afc0-39b7bd40a3ab",
   "metadata": {},
   "outputs": [],
   "source": [
    "from functools import partial\n",
    "\n",
    "import polaris as po\n",
    "import datamol as dm\n",
    "import numpy as np"
   ]
  },
  {
   "cell_type": "code",
   "execution_count": 125,
   "id": "3be46101-6e39-46b9-b7ff-34a6bc7ec9c0",
   "metadata": {},
   "outputs": [
    {
     "name": "stderr",
     "output_type": "stream",
     "text": [
      "\u001b[32m2024-06-20 21:34:35.122\u001b[0m | \u001b[1mINFO    \u001b[0m | \u001b[36mpolaris._artifact\u001b[0m:\u001b[36m_validate_version\u001b[0m:\u001b[36m66\u001b[0m - \u001b[1mThe version of Polaris that was used to create the artifact (0.0.0) is different from the currently installed version of Polaris (dev).\u001b[0m\n",
      "\u001b[32m2024-06-20 21:34:35.126\u001b[0m | \u001b[1mINFO    \u001b[0m | \u001b[36mpolaris._artifact\u001b[0m:\u001b[36m_validate_version\u001b[0m:\u001b[36m66\u001b[0m - \u001b[1mThe version of Polaris that was used to create the artifact (0.0.0) is different from the currently installed version of Polaris (dev).\u001b[0m\n"
     ]
    },
    {
     "data": {
      "text/plain": [
       "(array([0, 0, 0, ..., 0, 0, 0], dtype=uint8),\n",
       " {'CLASS_KIT_(T6701_mutant)': 0.0,\n",
       "  'CLASS_KIT_(V560G_mutant)': 0.0,\n",
       "  'CLASS_KIT': 0.0})"
      ]
     },
     "execution_count": 125,
     "metadata": {},
     "output_type": "execute_result"
    }
   ],
   "source": [
    "benchmark = po.load_benchmark(\"polaris/pkis1-kit-wt-mut-c-1\")\n",
    "train, test = benchmark.get_train_test_split(featurization_fn=partial(dm.to_fp, fp_type='ecfp'))\n",
    "#train, test = benchmark.get_train_test_split()\n",
    "train[0]"
   ]
  },
  {
   "cell_type": "code",
   "execution_count": 126,
   "id": "307b0e0f-7b21-404b-9611-a4ed6baf7917",
   "metadata": {},
   "outputs": [
    {
     "data": {
      "text/plain": [
       "{'maccs': <function rdkit.Chem.rdMolDescriptors.GetMACCSKeysFingerprint>,\n",
       " 'pattern': <function rdkit.Chem.rdmolops.PatternFingerprint>,\n",
       " 'layered': <function rdkit.Chem.rdmolops.LayeredFingerprint>,\n",
       " 'erg': <function rdkit.Chem.rdReducedGraphs.GetErGFingerprint>,\n",
       " 'estate': <function datamol.fp.<lambda>(x, **args)>,\n",
       " 'avalon-count': <function rdkit.Avalon.pyAvalonTools.GetAvalonCountFP>,\n",
       " 'ecfp': <function rdkit.Chem.rdFingerprintGenerator.GetMorganGenerator>,\n",
       " 'fcfp': <function rdkit.Chem.rdFingerprintGenerator.GetMorganGenerator>,\n",
       " 'topological': <function rdkit.Chem.rdFingerprintGenerator.GetTopologicalTorsionGenerator>,\n",
       " 'atompair': <function rdkit.Chem.rdFingerprintGenerator.GetAtomPairGenerator>,\n",
       " 'rdkit': <function rdkit.Chem.rdFingerprintGenerator.GetRDKitFPGenerator>,\n",
       " 'ecfp-count': <function rdkit.Chem.rdFingerprintGenerator.GetMorganGenerator>,\n",
       " 'fcfp-count': <function rdkit.Chem.rdFingerprintGenerator.GetMorganGenerator>,\n",
       " 'topological-count': <function rdkit.Chem.rdFingerprintGenerator.GetTopologicalTorsionGenerator>,\n",
       " 'atompair-count': <function rdkit.Chem.rdFingerprintGenerator.GetAtomPairGenerator>,\n",
       " 'rdkit-count': <function rdkit.Chem.rdFingerprintGenerator.GetRDKitFPGenerator>}"
      ]
     },
     "execution_count": 126,
     "metadata": {},
     "output_type": "execute_result"
    }
   ],
   "source": [
    "dm.list_supported_fingerprints()"
   ]
  },
  {
   "cell_type": "code",
   "execution_count": 127,
   "id": "9d3f2fd2-5f82-4153-8968-40e875b067b8",
   "metadata": {},
   "outputs": [],
   "source": [
    "#smiles = [t[0] for t in train]\n",
    "#print(smiles)"
   ]
  },
  {
   "cell_type": "code",
   "execution_count": 128,
   "id": "6b514763-3931-439d-8c06-8189214d30b5",
   "metadata": {},
   "outputs": [
    {
     "data": {
      "text/plain": [
       "(277, 3)"
      ]
     },
     "execution_count": 128,
     "metadata": {},
     "output_type": "execute_result"
    }
   ],
   "source": [
    "target_order = ['CLASS_KIT', 'CLASS_KIT_(T6701_mutant)', 'CLASS_KIT_(V560G_mutant)']\n",
    "\n",
    "ys = train.y\n",
    "ys = np.stack([ys[target] for target in target_order], axis=1)\n",
    "ys.shape"
   ]
  },
  {
   "cell_type": "code",
   "execution_count": 134,
   "id": "c632f928-0e06-437e-8250-5f97424d7fb1",
   "metadata": {},
   "outputs": [
    {
     "name": "stderr",
     "output_type": "stream",
     "text": [
      "\u001b[32m2024-06-20 21:36:46.761\u001b[0m | \u001b[1mINFO    \u001b[0m | \u001b[36mpolaris._artifact\u001b[0m:\u001b[36m_validate_version\u001b[0m:\u001b[36m66\u001b[0m - \u001b[1mThe version of Polaris that was used to create the artifact (0.0.0) is different from the currently installed version of Polaris (dev).\u001b[0m\n",
      "\u001b[32m2024-06-20 21:36:46.765\u001b[0m | \u001b[1mINFO    \u001b[0m | \u001b[36mpolaris._artifact\u001b[0m:\u001b[36m_validate_version\u001b[0m:\u001b[36m66\u001b[0m - \u001b[1mThe version of Polaris that was used to create the artifact (0.0.0) is different from the currently installed version of Polaris (dev).\u001b[0m\n"
     ]
    }
   ],
   "source": [
    "## Balancing multi-task\n",
    "\n",
    "from functools import partial\n",
    "\n",
    "from imblearn.over_sampling import SMOTE\n",
    "import polaris as po\n",
    "import datamol as dm\n",
    "import numpy as np\n",
    "\n",
    "mapping = {\n",
    " (0.0, 0.0, 0.0): 0,\n",
    " (1.0, 0.0, 0.0): 1,\n",
    " (1.0, 0.0, 1.0): 2,\n",
    " (1.0, 1.0, 0.0): 3,\n",
    " (1.0, 1.0, 1.0): 4,\n",
    "}\n",
    "inv_mapping = {v: k for k, v in mapping.items()}\n",
    "\n",
    "# load dataset\n",
    "benchmark = po.load_benchmark(\"polaris/pkis1-kit-wt-mut-c-1\")\n",
    "# use ECFP fingerprint\n",
    "train, test = benchmark.get_train_test_split(featurization_fn=partial(dm.to_fp, fp_type='ecfp'))\n",
    "\n",
    "# define order of target values\n",
    "target_order = ['CLASS_KIT', 'CLASS_KIT_(T6701_mutant)', 'CLASS_KIT_(V560G_mutant)']\n",
    "\n",
    "# reshape the y values for convenience\n",
    "ys = train.y\n",
    "ys = np.stack([ys[target] for target in target_order], axis=1)\n",
    "ys.shape\n",
    "\n",
    "# remove the rows with NaN values\n",
    "mask = ~np.any(np.isnan(ys), axis=1)\n",
    "mask.sum()\n",
    "X = train.X[mask]\n",
    "ys = ys[mask]\n",
    "\n",
    "ys_scalarized = [tuple(item) for item in ys]\n",
    "ys_scalarized = [mapping[item] for i, item in enumerate(ys_scalarized)]\n",
    "\n",
    "X_resampled, y_resampled = SMOTE(k_neighbors=2).fit_resample(X, ys_scalarized)\n",
    "y_resampled = [inv_mapping[item] for i, item in enumerate(y_resampled)]"
   ]
  },
  {
   "cell_type": "code",
   "execution_count": 136,
   "id": "13ad71a1-4590-480c-a51e-b255a5aae875",
   "metadata": {},
   "outputs": [
    {
     "data": {
      "text/plain": [
       "Text(0.5, 1.0, 'CLASS_KIT')"
      ]
     },
     "execution_count": 136,
     "metadata": {},
     "output_type": "execute_result"
    },
    {
     "data": {
      "image/png": "[encoded data removed]",
      "text/plain": [
       "<Figure size 640x480 with 1 Axes>"
      ]
     },
     "metadata": {},
     "output_type": "display_data"
    }
   ],
   "source": [
    "plt.hist(y_resampled)\n",
    "plt.title(target_order[0])"
   ]
  },
  {
   "cell_type": "code",
   "execution_count": 137,
   "id": "55656265-63d0-4753-8a8e-af0ec61936d0",
   "metadata": {},
   "outputs": [
    {
     "name": "stderr",
     "output_type": "stream",
     "text": [
      "\u001b[32m2024-06-20 21:39:21.732\u001b[0m | \u001b[1mINFO    \u001b[0m | \u001b[36mpolaris._artifact\u001b[0m:\u001b[36m_validate_version\u001b[0m:\u001b[36m66\u001b[0m - \u001b[1mThe version of Polaris that was used to create the artifact (0.0.0) is different from the currently installed version of Polaris (dev).\u001b[0m\n",
      "\u001b[32m2024-06-20 21:39:21.737\u001b[0m | \u001b[1mINFO    \u001b[0m | \u001b[36mpolaris._artifact\u001b[0m:\u001b[36m_validate_version\u001b[0m:\u001b[36m66\u001b[0m - \u001b[1mThe version of Polaris that was used to create the artifact (0.0.0) is different from the currently installed version of Polaris (dev).\u001b[0m\n"
     ]
    }
   ],
   "source": [
    "## Balancing individual tasks\n",
    "\n",
    "from functools import partial\n",
    "\n",
    "from imblearn.over_sampling import SMOTE\n",
    "import polaris as po\n",
    "import datamol as dm\n",
    "import numpy as np\n",
    "\n",
    "# load dataset\n",
    "benchmark = po.load_benchmark(\"polaris/pkis1-kit-wt-mut-c-1\")\n",
    "# use ECFP fingerprint\n",
    "train, test = benchmark.get_train_test_split(featurization_fn=partial(dm.to_fp, fp_type='ecfp'))\n",
    "\n",
    "# define order of target values\n",
    "target_order = ['CLASS_KIT', 'CLASS_KIT_(T6701_mutant)', 'CLASS_KIT_(V560G_mutant)']\n",
    "\n",
    "# reshape the y values for convenience\n",
    "ys = train.y\n",
    "ys = np.stack([ys[target] for target in target_order], axis=1)\n",
    "ys.shape\n",
    "\n",
    "# remove the rows with NaN values\n",
    "mask = ~np.any(np.isnan(ys), axis=1)\n",
    "mask.sum()\n",
    "X = train.X[mask]\n",
    "ys = ys[mask]\n",
    "\n",
    "X_KIT_resampled, y_KIT_resampled = SMOTE().fit_resample(X, ys[:, 0])\n",
    "X_T670I_resampled, y_T670I_resampled = SMOTE().fit_resample(X, ys[:, 1])\n",
    "X_V560G_resampled, y_V560G_resampled = SMOTE().fit_resample(X, ys[:, 2])"
   ]
  },
  {
   "cell_type": "code",
   "execution_count": 98,
   "id": "72ef2256-3843-4f28-98c8-01b077ee57cf",
   "metadata": {},
   "outputs": [
    {
     "data": {
      "text/plain": [
       "{(0.0, 0.0, 0.0),\n",
       " (1.0, 0.0, 0.0),\n",
       " (1.0, 0.0, 1.0),\n",
       " (1.0, 1.0, 0.0),\n",
       " (1.0, 1.0, 1.0)}"
      ]
     },
     "execution_count": 98,
     "metadata": {},
     "output_type": "execute_result"
    }
   ],
   "source": [
    "y_tuples = [tuple(y.tolist()) for y in ys]\n",
    "set(y_tuples)"
   ]
  },
  {
   "cell_type": "markdown",
   "id": "37c2b1bb-d13c-4f5f-ad38-1d255841c732",
   "metadata": {},
   "source": [
    "## Checking dataset imbalance"
   ]
  },
  {
   "cell_type": "code",
   "execution_count": 47,
   "id": "bbdb5a44-db83-4404-b45e-a79b86e19e7a",
   "metadata": {},
   "outputs": [],
   "source": [
    "import matplotlib.pyplot as plt"
   ]
  },
  {
   "cell_type": "code",
   "execution_count": 48,
   "id": "f447e877-a923-4562-8e55-251f237e3b41",
   "metadata": {},
   "outputs": [
    {
     "name": "stdout",
     "output_type": "stream",
     "text": [
      "There is only 30 binders.\n"
     ]
    },
    {
     "data": {
      "text/plain": [
       "Text(0.5, 1.0, 'CLASS_KIT')"
      ]
     },
     "execution_count": 48,
     "metadata": {},
     "output_type": "execute_result"
    },
    {
     "data": {
      "image/png": "[encoded data removed]",
      "text/plain": [
       "<Figure size 640x480 with 1 Axes>"
      ]
     },
     "metadata": {},
     "output_type": "display_data"
    }
   ],
   "source": [
    "plt.hist(ys[:, 0])\n",
    "num_binders = list(ys[:, 0] == 1.0).count(True)\n",
    "print(f\"There is only {num_binders} binders.\")\n",
    "plt.title(target_order[0])"
   ]
  },
  {
   "cell_type": "code",
   "execution_count": 49,
   "id": "3cae9756-871c-4bc2-b89d-8587dc36e0d8",
   "metadata": {},
   "outputs": [
    {
     "name": "stdout",
     "output_type": "stream",
     "text": [
      "There is only 7 binders.\n"
     ]
    },
    {
     "data": {
      "text/plain": [
       "Text(0.5, 1.0, 'CLASS_KIT_(T6701_mutant)')"
      ]
     },
     "execution_count": 49,
     "metadata": {},
     "output_type": "execute_result"
    },
    {
     "data": {
      "image/png": "[encoded data removed]",
      "text/plain": [
       "<Figure size 640x480 with 1 Axes>"
      ]
     },
     "metadata": {},
     "output_type": "display_data"
    }
   ],
   "source": [
    "num_binders = list(ys[:, 1] == 1.0).count(True)\n",
    "print(f\"There is only {num_binders} binders.\")\n",
    "plt.hist(ys[:, 1])\n",
    "plt.title(target_order[1])"
   ]
  },
  {
   "cell_type": "code",
   "execution_count": 117,
   "id": "e05f3eff-506f-4e0c-8bff-804a52fa33d4",
   "metadata": {},
   "outputs": [
    {
     "data": {
      "text/plain": [
       "0.8913043478260869"
      ]
     },
     "execution_count": 117,
     "metadata": {},
     "output_type": "execute_result"
    }
   ],
   "source": [
    "1.0 - 30/len(ys[:, 1])"
   ]
  },
  {
   "cell_type": "code",
   "execution_count": 50,
   "id": "d8cd238e-c207-4c77-83b3-c25b1748e908",
   "metadata": {},
   "outputs": [
    {
     "name": "stdout",
     "output_type": "stream",
     "text": [
      "There is only 8 binders.\n"
     ]
    },
    {
     "data": {
      "text/plain": [
       "Text(0.5, 1.0, 'CLASS_KIT_(V560G_mutant)')"
      ]
     },
     "execution_count": 50,
     "metadata": {},
     "output_type": "execute_result"
    },
    {
     "data": {
      "image/png": "[encoded data removed]",
      "text/plain": [
       "<Figure size 640x480 with 1 Axes>"
      ]
     },
     "metadata": {},
     "output_type": "display_data"
    }
   ],
   "source": [
    "plt.hist(ys[:, 2])\n",
    "num_binders = list(ys[:, 2] == 1.0).count(True)\n",
    "print(f\"There is only {num_binders} binders.\")\n",
    "plt.title(target_order[2])"
   ]
  },
  {
   "cell_type": "markdown",
   "id": "6289405d-b024-48fc-998e-ac5422209674",
   "metadata": {},
   "source": [
    "## Addressing imbalance"
   ]
  },
  {
   "cell_type": "code",
   "execution_count": 51,
   "id": "c6600dc2-0deb-4874-bf24-b682ca5bc65c",
   "metadata": {},
   "outputs": [],
   "source": [
    "from imblearn.over_sampling import SMOTE, ADASYN\n",
    "from collections import Counter\n",
    "from numpy import where"
   ]
  },
  {
   "cell_type": "code",
   "execution_count": null,
   "id": "72d3cae5-9b8c-4358-a6ed-a2593aaf8d45",
   "metadata": {},
   "outputs": [],
   "source": []
  },
  {
   "cell_type": "code",
   "execution_count": 52,
   "id": "bfdef445-f46f-4bc0-b5eb-0430ca8dd031",
   "metadata": {},
   "outputs": [
    {
     "data": {
      "text/plain": [
       "276"
      ]
     },
     "execution_count": 52,
     "metadata": {},
     "output_type": "execute_result"
    }
   ],
   "source": []
  },
  {
   "cell_type": "code",
   "execution_count": 53,
   "id": "7020ddda-778c-4f70-8024-f6cf91acbedf",
   "metadata": {},
   "outputs": [],
   "source": [
    "mask = ~np.any(np.isnan(ys), axis=1)\n",
    "mask.sum()\n",
    "\n",
    "X = train.X[mask]\n",
    "ys = ys[mask]"
   ]
  },
  {
   "cell_type": "code",
   "execution_count": 54,
   "id": "cd0787e4-ef98-4a42-b17d-575a672e5007",
   "metadata": {},
   "outputs": [
    {
     "name": "stdout",
     "output_type": "stream",
     "text": [
      "(276, 2048)\n",
      "(276, 3)\n"
     ]
    }
   ],
   "source": [
    "print(X.shape)\n",
    "print(ys.shape)"
   ]
  },
  {
   "cell_type": "code",
   "execution_count": null,
   "id": "2e33d005-5933-4b9b-9d88-4d4a1685333b",
   "metadata": {
    "scrolled": true
   },
   "outputs": [],
   "source": []
  },
  {
   "cell_type": "code",
   "execution_count": 55,
   "id": "58296f15-64f7-4f18-ae93-91d2d29af719",
   "metadata": {},
   "outputs": [],
   "source": [
    "X_resampled, y_resampled = SMOTE().fit_resample(X, ys[:, 0])"
   ]
  },
  {
   "cell_type": "code",
   "execution_count": 56,
   "id": "8b2ea0c6-c5ac-4cea-9743-894496c661d1",
   "metadata": {},
   "outputs": [
    {
     "name": "stdout",
     "output_type": "stream",
     "text": [
      "[(0.0, 246), (1.0, 246)]\n"
     ]
    }
   ],
   "source": [
    "print(sorted(Counter(y_resampled).items()))"
   ]
  },
  {
   "cell_type": "code",
   "execution_count": 118,
   "id": "4f99dd2b-7ecc-45a1-997e-26df87733aaf",
   "metadata": {},
   "outputs": [
    {
     "ename": "TypeError",
     "evalue": "'bool' object is not iterable",
     "output_type": "error",
     "traceback": [
      "\u001b[0;31m---------------------------------------------------------------------------\u001b[0m",
      "\u001b[0;31mTypeError\u001b[0m                                 Traceback (most recent call last)",
      "Cell \u001b[0;32mIn[118], line 2\u001b[0m\n\u001b[1;32m      1\u001b[0m plt\u001b[38;5;241m.\u001b[39mhist(y_resampled)\n\u001b[0;32m----> 2\u001b[0m num_binders \u001b[38;5;241m=\u001b[39m \u001b[38;5;28;43mlist\u001b[39;49m\u001b[43m(\u001b[49m\u001b[43my_resampled\u001b[49m\u001b[43m \u001b[49m\u001b[38;5;241;43m==\u001b[39;49m\u001b[43m \u001b[49m\u001b[38;5;241;43m1.0\u001b[39;49m\u001b[43m)\u001b[49m\u001b[38;5;241m.\u001b[39mcount(\u001b[38;5;28;01mTrue\u001b[39;00m)\n\u001b[1;32m      3\u001b[0m \u001b[38;5;28mprint\u001b[39m(\u001b[38;5;124mf\u001b[39m\u001b[38;5;124m\"\u001b[39m\u001b[38;5;124mThere is only \u001b[39m\u001b[38;5;132;01m{\u001b[39;00mnum_binders\u001b[38;5;132;01m}\u001b[39;00m\u001b[38;5;124m binders.\u001b[39m\u001b[38;5;124m\"\u001b[39m)\n\u001b[1;32m      4\u001b[0m plt\u001b[38;5;241m.\u001b[39mtitle(target_order[\u001b[38;5;241m0\u001b[39m])\n",
      "\u001b[0;31mTypeError\u001b[0m: 'bool' object is not iterable"
     ]
    },
    {
     "data": {
      "image/png": "[encoded data removed]",
      "text/plain": [
       "<Figure size 640x480 with 1 Axes>"
      ]
     },
     "metadata": {},
     "output_type": "display_data"
    }
   ],
   "source": [
    "plt.hist(y_resampled)\n",
    "num_binders = list(y_resampled == 1.0).count(True)\n",
    "print(f\"There is only {num_binders} binders.\")\n",
    "plt.title(target_order[0])"
   ]
  },
  {
   "cell_type": "code",
   "execution_count": 58,
   "id": "75fc2393-fde0-495d-8fff-583ba60c84d6",
   "metadata": {},
   "outputs": [
    {
     "data": {
      "text/plain": [
       "array([[0, 0, 0, ..., 0, 0, 0],\n",
       "       [0, 0, 0, ..., 0, 0, 0],\n",
       "       [0, 0, 0, ..., 0, 1, 0],\n",
       "       ...,\n",
       "       [0, 0, 0, ..., 0, 0, 0],\n",
       "       [0, 0, 0, ..., 0, 0, 0],\n",
       "       [0, 0, 0, ..., 0, 0, 0]], dtype=uint8)"
      ]
     },
     "execution_count": 58,
     "metadata": {},
     "output_type": "execute_result"
    }
   ],
   "source": []
  },
  {
   "cell_type": "code",
   "execution_count": 15,
   "id": "581b605c-b0be-4f6a-90a4-a26e1d6a0623",
   "metadata": {},
   "outputs": [
    {
     "name": "stdout",
     "output_type": "stream",
     "text": [
      "Counter({0.0: 246, 1.0: 30, nan: 1})\n"
     ]
    },
    {
     "ename": "NameError",
     "evalue": "name 'X' is not defined",
     "output_type": "error",
     "traceback": [
      "\u001b[0;31m---------------------------------------------------------------------------\u001b[0m",
      "\u001b[0;31mNameError\u001b[0m                                 Traceback (most recent call last)",
      "Cell \u001b[0;32mIn[15], line 8\u001b[0m\n\u001b[1;32m      6\u001b[0m \u001b[38;5;28;01mfor\u001b[39;00m label, _ \u001b[38;5;129;01min\u001b[39;00m counter\u001b[38;5;241m.\u001b[39mitems():\n\u001b[1;32m      7\u001b[0m  row_ix \u001b[38;5;241m=\u001b[39m where(ys[:, \u001b[38;5;241m0\u001b[39m] \u001b[38;5;241m==\u001b[39m label)[\u001b[38;5;241m0\u001b[39m]\n\u001b[0;32m----> 8\u001b[0m  plt\u001b[38;5;241m.\u001b[39mscatter(\u001b[43mX\u001b[49m[row_ix, \u001b[38;5;241m0\u001b[39m], X[row_ix, \u001b[38;5;241m1\u001b[39m], label\u001b[38;5;241m=\u001b[39m\u001b[38;5;28mstr\u001b[39m(label))\n\u001b[1;32m      9\u001b[0m plt\u001b[38;5;241m.\u001b[39mlegend()\n\u001b[1;32m     10\u001b[0m plt\u001b[38;5;241m.\u001b[39mshow()\n",
      "\u001b[0;31mNameError\u001b[0m: name 'X' is not defined"
     ]
    }
   ],
   "source": [
    "# summarize class distribution\n",
    "counter = Counter(ys[:, 0])\n",
    "print(counter)\n",
    "\n",
    "# scatter plot of examples by class label\n",
    "for label, _ in counter.items():\n",
    " row_ix = where(ys[:, 0] == label)[0]\n",
    " plt.scatter(X[row_ix, 0], X[row_ix, 1], label=str(label))\n",
    "plt.legend()\n",
    "plt.show()"
   ]
  },
  {
   "cell_type": "code",
   "execution_count": 69,
   "id": "6fa93c55-43b2-4f88-9ef0-d380ae96ec12",
   "metadata": {},
   "outputs": [],
   "source": [
    "from sklearn.decomposition import PCA\n",
    "\n",
    "pca = PCA(n_components=2)\n",
    "resampled_principal_components = pca.fit_transform(X_resampled)\n",
    "\n",
    "pca = PCA(n_components=2)\n",
    "principal_components = pca.fit_transform(X)"
   ]
  },
  {
   "cell_type": "code",
   "execution_count": 73,
   "id": "2d5042ec-3b34-49eb-b26f-b0557b6c3afc",
   "metadata": {},
   "outputs": [
    {
     "data": {
      "image/png": "[encoded data removed]",
      "text/plain": [
       "<Figure size 640x480 with 1 Axes>"
      ]
     },
     "metadata": {},
     "output_type": "display_data"
    }
   ],
   "source": [
    "plt.scatter(principal_components[:, 0], principal_components[:, 1])\n",
    "plt.scatter(resampled_principal_components[:, 0], resampled_principal_components[:, 1], color=\"red\")\n",
    "plt.show()"
   ]
  },
  {
   "cell_type": "raw",
   "id": "512aa1cc-2d64-47fb-b6e8-ded3ba51787b",
   "metadata": {},
   "source": [
    "X_resampled = [list(x) for x in X_resampled]\n",
    "X_resampled"
   ]
  },
  {
   "cell_type": "code",
   "execution_count": 21,
   "id": "5f23d1fa-4ee6-40ed-bad6-d282ce55b05f",
   "metadata": {},
   "outputs": [],
   "source": [
    "X_list = [list(x) for x in train.X]"
   ]
  },
  {
   "cell_type": "code",
   "execution_count": 22,
   "id": "2b04c253-a290-4df9-9b38-4848b00266cf",
   "metadata": {
    "scrolled": true
   },
   "outputs": [
    {
     "data": {
      "text/plain": [
       "277"
      ]
     },
     "execution_count": 22,
     "metadata": {},
     "output_type": "execute_result"
    }
   ],
   "source": [
    "len(X_list)"
   ]
  },
  {
   "cell_type": "code",
   "execution_count": 120,
   "id": "1583b046-41f7-4837-bdb4-7f380f91e8ba",
   "metadata": {},
   "outputs": [
    {
     "data": {
      "text/plain": [
       "2048"
      ]
     },
     "execution_count": 120,
     "metadata": {},
     "output_type": "execute_result"
    }
   ],
   "source": [
    "len(X_list[0])"
   ]
  },
  {
   "cell_type": "code",
   "execution_count": null,
   "id": "3dcf485c-ceac-4749-8377-006c8d8cf78b",
   "metadata": {},
   "outputs": [],
   "source": []
  }
 ],
 "metadata": {
  "kernelspec": {
   "display_name": "Python 3 (ipykernel)",
   "language": "python",
   "name": "python3"
  },
  "language_info": {
   "codemirror_mode": {
    "name": "ipython",
    "version": 3
   },
   "file_extension": ".py",
   "mimetype": "text/x-python",
   "name": "python",
   "nbconvert_exporter": "python",
   "pygments_lexer": "ipython3",
   "version": "3.11.9"
  }
 },
 "nbformat": 4,
 "nbformat_minor": 5
}
