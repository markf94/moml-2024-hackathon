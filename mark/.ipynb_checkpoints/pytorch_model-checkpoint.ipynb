{
 "cells": [
  {
   "cell_type": "markdown",
   "id": "6e825bf2-32d8-4761-8f9a-06253097830c",
   "metadata": {},
   "source": [
    "## PyTorch neural network"
   ]
  },
  {
   "cell_type": "code",
   "execution_count": 67,
   "id": "d5d8c9d6-c52f-45cb-be7c-ed90305e046a",
   "metadata": {},
   "outputs": [
    {
     "name": "stdout",
     "output_type": "stream",
     "text": [
      "Requirement already satisfied: transformers in /home/ubuntu/micromamba/envs/moml-mark/lib/python3.11/site-packages (4.41.2)\n",
      "Requirement already satisfied: deepchem in /home/ubuntu/micromamba/envs/moml-mark/lib/python3.11/site-packages (2.8.0)\n",
      "Collecting optuna\n",
      "  Downloading optuna-3.6.1-py3-none-any.whl.metadata (17 kB)\n",
      "Requirement already satisfied: filelock in /home/ubuntu/micromamba/envs/moml-mark/lib/python3.11/site-packages (from transformers) (3.15.3)\n",
      "Requirement already satisfied: huggingface-hub<1.0,>=0.23.0 in /home/ubuntu/micromamba/envs/moml-mark/lib/python3.11/site-packages (from transformers) (0.23.4)\n",
      "Requirement already satisfied: numpy>=1.17 in /home/ubuntu/micromamba/envs/moml-mark/lib/python3.11/site-packages (from transformers) (1.26.4)\n",
      "Requirement already satisfied: packaging>=20.0 in /home/ubuntu/micromamba/envs/moml-mark/lib/python3.11/site-packages (from transformers) (24.1)\n",
      "Requirement already satisfied: pyyaml>=5.1 in /home/ubuntu/micromamba/envs/moml-mark/lib/python3.11/site-packages (from transformers) (6.0.1)\n",
      "Requirement already satisfied: regex!=2019.12.17 in /home/ubuntu/micromamba/envs/moml-mark/lib/python3.11/site-packages (from transformers) (2024.5.15)\n",
      "Requirement already satisfied: requests in /home/ubuntu/micromamba/envs/moml-mark/lib/python3.11/site-packages (from transformers) (2.32.3)\n",
      "Requirement already satisfied: tokenizers<0.20,>=0.19 in /home/ubuntu/micromamba/envs/moml-mark/lib/python3.11/site-packages (from transformers) (0.19.1)\n",
      "Requirement already satisfied: safetensors>=0.4.1 in /home/ubuntu/micromamba/envs/moml-mark/lib/python3.11/site-packages (from transformers) (0.4.3)\n",
      "Requirement already satisfied: tqdm>=4.27 in /home/ubuntu/micromamba/envs/moml-mark/lib/python3.11/site-packages (from transformers) (4.66.4)\n",
      "Requirement already satisfied: joblib in /home/ubuntu/micromamba/envs/moml-mark/lib/python3.11/site-packages (from deepchem) (1.4.2)\n",
      "Requirement already satisfied: pandas in /home/ubuntu/micromamba/envs/moml-mark/lib/python3.11/site-packages (from deepchem) (2.1.4)\n",
      "Requirement already satisfied: scikit-learn in /home/ubuntu/micromamba/envs/moml-mark/lib/python3.11/site-packages (from deepchem) (1.5.0)\n",
      "Requirement already satisfied: sympy in /home/ubuntu/micromamba/envs/moml-mark/lib/python3.11/site-packages (from deepchem) (1.12.1)\n",
      "Requirement already satisfied: scipy>=1.10.1 in /home/ubuntu/micromamba/envs/moml-mark/lib/python3.11/site-packages (from deepchem) (1.13.1)\n",
      "Requirement already satisfied: rdkit in /home/ubuntu/micromamba/envs/moml-mark/lib/python3.11/site-packages (from deepchem) (2023.9.6)\n",
      "Collecting alembic>=1.5.0 (from optuna)\n",
      "  Downloading alembic-1.13.1-py3-none-any.whl.metadata (7.4 kB)\n",
      "Collecting colorlog (from optuna)\n",
      "  Downloading colorlog-6.8.2-py3-none-any.whl.metadata (10 kB)\n",
      "Requirement already satisfied: sqlalchemy>=1.3.0 in /home/ubuntu/micromamba/envs/moml-mark/lib/python3.11/site-packages (from optuna) (2.0.31)\n",
      "Collecting Mako (from alembic>=1.5.0->optuna)\n",
      "  Downloading Mako-1.3.5-py3-none-any.whl.metadata (2.9 kB)\n",
      "Requirement already satisfied: typing-extensions>=4 in /home/ubuntu/micromamba/envs/moml-mark/lib/python3.11/site-packages (from alembic>=1.5.0->optuna) (4.12.2)\n",
      "Requirement already satisfied: fsspec>=2023.5.0 in /home/ubuntu/micromamba/envs/moml-mark/lib/python3.11/site-packages (from huggingface-hub<1.0,>=0.23.0->transformers) (2024.6.0)\n",
      "Requirement already satisfied: greenlet!=0.4.17 in /home/ubuntu/micromamba/envs/moml-mark/lib/python3.11/site-packages (from sqlalchemy>=1.3.0->optuna) (3.0.3)\n",
      "Requirement already satisfied: python-dateutil>=2.8.2 in /home/ubuntu/micromamba/envs/moml-mark/lib/python3.11/site-packages (from pandas->deepchem) (2.9.0)\n",
      "Requirement already satisfied: pytz>=2020.1 in /home/ubuntu/micromamba/envs/moml-mark/lib/python3.11/site-packages (from pandas->deepchem) (2024.1)\n",
      "Requirement already satisfied: tzdata>=2022.1 in /home/ubuntu/micromamba/envs/moml-mark/lib/python3.11/site-packages (from pandas->deepchem) (2024.1)\n",
      "Requirement already satisfied: Pillow in /home/ubuntu/micromamba/envs/moml-mark/lib/python3.11/site-packages (from rdkit->deepchem) (9.4.0)\n",
      "Requirement already satisfied: charset-normalizer<4,>=2 in /home/ubuntu/micromamba/envs/moml-mark/lib/python3.11/site-packages (from requests->transformers) (3.3.2)\n",
      "Requirement already satisfied: idna<4,>=2.5 in /home/ubuntu/micromamba/envs/moml-mark/lib/python3.11/site-packages (from requests->transformers) (3.7)\n",
      "Requirement already satisfied: urllib3<3,>=1.21.1 in /home/ubuntu/micromamba/envs/moml-mark/lib/python3.11/site-packages (from requests->transformers) (2.2.2)\n",
      "Requirement already satisfied: certifi>=2017.4.17 in /home/ubuntu/micromamba/envs/moml-mark/lib/python3.11/site-packages (from requests->transformers) (2024.6.2)\n",
      "Requirement already satisfied: threadpoolctl>=3.1.0 in /home/ubuntu/micromamba/envs/moml-mark/lib/python3.11/site-packages (from scikit-learn->deepchem) (3.5.0)\n",
      "Requirement already satisfied: mpmath<1.4.0,>=1.1.0 in /home/ubuntu/micromamba/envs/moml-mark/lib/python3.11/site-packages (from sympy->deepchem) (1.3.0)\n",
      "Requirement already satisfied: six>=1.5 in /home/ubuntu/micromamba/envs/moml-mark/lib/python3.11/site-packages (from python-dateutil>=2.8.2->pandas->deepchem) (1.16.0)\n",
      "Requirement already satisfied: MarkupSafe>=0.9.2 in /home/ubuntu/micromamba/envs/moml-mark/lib/python3.11/site-packages (from Mako->alembic>=1.5.0->optuna) (2.1.5)\n",
      "Downloading optuna-3.6.1-py3-none-any.whl (380 kB)\n",
      "\u001b[2K   \u001b[90m━━━━━━━━━━━━━━━━━━━━━━━━━━━━━━━━━━━━━━━━\u001b[0m \u001b[32m380.1/380.1 kB\u001b[0m \u001b[31m20.7 MB/s\u001b[0m eta \u001b[36m0:00:00\u001b[0m\n",
      "\u001b[?25hDownloading alembic-1.13.1-py3-none-any.whl (233 kB)\n",
      "\u001b[2K   \u001b[90m━━━━━━━━━━━━━━━━━━━━━━━━━━━━━━━━━━━━━━━━\u001b[0m \u001b[32m233.4/233.4 kB\u001b[0m \u001b[31m5.9 MB/s\u001b[0m eta \u001b[36m0:00:00\u001b[0mta \u001b[36m0:00:01\u001b[0m\n",
      "\u001b[?25hDownloading colorlog-6.8.2-py3-none-any.whl (11 kB)\n",
      "Downloading Mako-1.3.5-py3-none-any.whl (78 kB)\n",
      "\u001b[2K   \u001b[90m━━━━━━━━━━━━━━━━━━━━━━━━━━━━━━━━━━━━━━━━\u001b[0m \u001b[32m78.6/78.6 kB\u001b[0m \u001b[31m10.5 MB/s\u001b[0m eta \u001b[36m0:00:00\u001b[0m\n",
      "\u001b[?25hInstalling collected packages: Mako, colorlog, alembic, optuna\n",
      "Successfully installed Mako-1.3.5 alembic-1.13.1 colorlog-6.8.2 optuna-3.6.1\n"
     ]
    }
   ],
   "source": [
    "!pip install transformers deepchem optuna"
   ]
  },
  {
   "cell_type": "code",
   "execution_count": 33,
   "id": "1ce8fcb0-3bb2-48d0-9ec0-7457bd622950",
   "metadata": {},
   "outputs": [
    {
     "name": "stdout",
     "output_type": "stream",
     "text": [
      "\u001b[32m2024-06-21 15:14:30.975\u001b[0m | \u001b[1mINFO    \u001b[0m | \u001b[36mpolaris.hub.client\u001b[0m:\u001b[36mlogin\u001b[0m:\u001b[36m285\u001b[0m - \u001b[1mYou are already logged in to the Polaris Hub as yakavetsiv (i.yakavets@gmail.com). Set `overwrite=True` to force re-authentication.\u001b[0m\n"
     ]
    }
   ],
   "source": [
    "!polaris login"
   ]
  },
  {
   "cell_type": "code",
   "execution_count": 65,
   "id": "d0651118-b9cc-4555-961d-64ab3aa6285d",
   "metadata": {},
   "outputs": [],
   "source": [
    "#Experimental Class for Smiles Enumeration, Iterator and SmilesIterator adapted from Keras 1.2.2\n",
    "from rdkit import Chem\n",
    "import numpy as np\n",
    "import threading\n",
    "\n",
    "class Iterator(object):\n",
    "    \"\"\"Abstract base class for data iterators.\n",
    "\n",
    "    # Arguments\n",
    "        n: Integer, total number of samples in the dataset to loop over.\n",
    "        batch_size: Integer, size of a batch.\n",
    "        shuffle: Boolean, whether to shuffle the data between epochs.\n",
    "        seed: Random seeding for data shuffling.\n",
    "    \"\"\"\n",
    "\n",
    "    def __init__(self, n, batch_size, shuffle, seed):\n",
    "        self.n = n\n",
    "        self.batch_size = batch_size\n",
    "        self.shuffle = shuffle\n",
    "        self.batch_index = 0\n",
    "        self.total_batches_seen = 0\n",
    "        self.lock = threading.Lock()\n",
    "        self.index_generator = self._flow_index(n, batch_size, shuffle, seed)\n",
    "        if n < batch_size:\n",
    "            raise ValueError('Input data length is shorter than batch_size\\nAdjust batch_size')\n",
    "\n",
    "    def reset(self):\n",
    "        self.batch_index = 0\n",
    "\n",
    "    def _flow_index(self, n, batch_size=32, shuffle=False, seed=None):\n",
    "        # Ensure self.batch_index is 0.\n",
    "        self.reset()\n",
    "        while 1:\n",
    "            if seed is not None:\n",
    "                np.random.seed(seed + self.total_batches_seen)\n",
    "            if self.batch_index == 0:\n",
    "                index_array = np.arange(n)\n",
    "                if shuffle:\n",
    "                    index_array = np.random.permutation(n)\n",
    "\n",
    "            current_index = (self.batch_index * batch_size) % n\n",
    "            if n > current_index + batch_size:\n",
    "                current_batch_size = batch_size\n",
    "                self.batch_index += 1\n",
    "            else:\n",
    "                current_batch_size = n - current_index\n",
    "                self.batch_index = 0\n",
    "            self.total_batches_seen += 1\n",
    "            yield (index_array[current_index: current_index + current_batch_size],\n",
    "                   current_index, current_batch_size)\n",
    "\n",
    "    def __iter__(self):\n",
    "        # Needed if we want to do something like:\n",
    "        # for x, y in data_gen.flow(...):\n",
    "        return self\n",
    "\n",
    "    def __next__(self, *args, **kwargs):\n",
    "        return self.next(*args, **kwargs)\n",
    "\n",
    "\n",
    "\n",
    "\n",
    "class SmilesIterator(Iterator):\n",
    "    \"\"\"Iterator yielding data from a SMILES array.\n",
    "\n",
    "    # Arguments\n",
    "        x: Numpy array of SMILES input data.\n",
    "        y: Numpy array of targets data.\n",
    "        smiles_data_generator: Instance of `SmilesEnumerator`\n",
    "            to use for random SMILES generation.\n",
    "        batch_size: Integer, size of a batch.\n",
    "        shuffle: Boolean, whether to shuffle the data between epochs.\n",
    "        seed: Random seed for data shuffling.\n",
    "        dtype: dtype to use for returned batch. Set to keras.backend.floatx if using Keras\n",
    "    \"\"\"\n",
    "\n",
    "    def __init__(self, x, y, smiles_data_generator,\n",
    "                 batch_size=32, shuffle=False, seed=None,\n",
    "                 dtype=np.float32\n",
    "                 ):\n",
    "        if y is not None and len(x) != len(y):\n",
    "            raise ValueError('X (images tensor) and y (labels) '\n",
    "                             'should have the same length. '\n",
    "                             'Found: X.shape = %s, y.shape = %s' %\n",
    "                             (np.asarray(x).shape, np.asarray(y).shape))\n",
    "\n",
    "        self.x = np.asarray(x)\n",
    "\n",
    "        if y is not None:\n",
    "            self.y = np.asarray(y)\n",
    "        else:\n",
    "            self.y = None\n",
    "        self.smiles_data_generator = smiles_data_generator\n",
    "        self.dtype = dtype\n",
    "        super(SmilesIterator, self).__init__(x.shape[0], batch_size, shuffle, seed)\n",
    "\n",
    "    def next(self):\n",
    "        \"\"\"For python 2.x.\n",
    "\n",
    "        # Returns\n",
    "            The next batch.\n",
    "        \"\"\"\n",
    "        # Keeps under lock only the mechanism which advances\n",
    "        # the indexing of each batch.\n",
    "        with self.lock:\n",
    "            index_array, current_index, current_batch_size = next(self.index_generator)\n",
    "        # The transformation of images is not under thread lock\n",
    "        # so it can be done in parallel\n",
    "        batch_x = np.zeros(tuple([current_batch_size] + [ self.smiles_data_generator.pad, self.smiles_data_generator._charlen]), dtype=self.dtype)\n",
    "        for i, j in enumerate(index_array):\n",
    "            smiles = self.x[j:j+1]\n",
    "            x = self.smiles_data_generator.transform(smiles)\n",
    "            batch_x[i] = x\n",
    "\n",
    "        if self.y is None:\n",
    "            return batch_x\n",
    "        batch_y = self.y[index_array]\n",
    "        return batch_x, batch_y\n",
    "\n",
    "\n",
    "class SmilesEnumerator(object):\n",
    "    \"\"\"SMILES Enumerator, vectorizer and devectorizer\n",
    "    \n",
    "    #Arguments\n",
    "        charset: string containing the characters for the vectorization\n",
    "          can also be generated via the .fit() method\n",
    "        pad: Length of the vectorization\n",
    "        leftpad: Add spaces to the left of the SMILES\n",
    "        isomericSmiles: Generate SMILES containing information about stereogenic centers\n",
    "        enum: Enumerate the SMILES during transform\n",
    "        canonical: use canonical SMILES during transform (overrides enum)\n",
    "    \"\"\"\n",
    "    def __init__(self, charset = '@C)(=cOn1S2/H[N]\\\\', pad=120, leftpad=True, isomericSmiles=True, enum=True, canonical=False):\n",
    "        self._charset = None\n",
    "        self.charset = charset\n",
    "        self.pad = pad\n",
    "        self.leftpad = leftpad\n",
    "        self.isomericSmiles = isomericSmiles\n",
    "        self.enumerate = enum\n",
    "        self.canonical = canonical\n",
    "\n",
    "    @property\n",
    "    def charset(self):\n",
    "        return self._charset\n",
    "        \n",
    "    @charset.setter\n",
    "    def charset(self, charset):\n",
    "        self._charset = charset\n",
    "        self._charlen = len(charset)\n",
    "        self._char_to_int = dict((c,i) for i,c in enumerate(charset))\n",
    "        self._int_to_char = dict((i,c) for i,c in enumerate(charset))\n",
    "        \n",
    "    def fit(self, smiles, extra_chars=[], extra_pad = 5):\n",
    "        \"\"\"Performs extraction of the charset and length of a SMILES datasets and sets self.pad and self.charset\n",
    "        \n",
    "        #Arguments\n",
    "            smiles: Numpy array or Pandas series containing smiles as strings\n",
    "            extra_chars: List of extra chars to add to the charset (e.g. \"\\\\\\\\\" when \"/\" is present)\n",
    "            extra_pad: Extra padding to add before or after the SMILES vectorization\n",
    "        \"\"\"\n",
    "        charset = set(\"\".join(list(smiles)))\n",
    "        self.charset = \"\".join(charset.union(set(extra_chars)))\n",
    "        self.pad = max([len(smile) for smile in smiles]) + extra_pad\n",
    "        \n",
    "    def randomize_smiles(self, smiles):\n",
    "        \"\"\"Perform a randomization of a SMILES string\n",
    "        must be RDKit sanitizable\"\"\"\n",
    "        m = Chem.MolFromSmiles(smiles)\n",
    "        ans = list(range(m.GetNumAtoms()))\n",
    "        np.random.shuffle(ans)\n",
    "        nm = Chem.RenumberAtoms(m,ans)\n",
    "        return Chem.MolToSmiles(nm, canonical=self.canonical, isomericSmiles=self.isomericSmiles)\n",
    "\n",
    "    def transform(self, smiles):\n",
    "        \"\"\"Perform an enumeration (randomization) and vectorization of a Numpy array of smiles strings\n",
    "        #Arguments\n",
    "            smiles: Numpy array or Pandas series containing smiles as strings\n",
    "        \"\"\"\n",
    "        one_hot =  np.zeros((smiles.shape[0], self.pad, self._charlen),dtype=np.int8)\n",
    "        \n",
    "        if self.leftpad:\n",
    "            for i,ss in enumerate(smiles):\n",
    "                if self.enumerate: ss = self.randomize_smiles(ss)\n",
    "                l = len(ss)\n",
    "                diff = self.pad - l\n",
    "                for j,c in enumerate(ss):\n",
    "                    one_hot[i,j+diff,self._char_to_int[c]] = 1\n",
    "            return one_hot\n",
    "        else:\n",
    "            for i,ss in enumerate(smiles):\n",
    "                if self.enumerate: ss = self.randomize_smiles(ss)\n",
    "                for j,c in enumerate(ss):\n",
    "                    one_hot[i,j,self._char_to_int[c]] = 1\n",
    "            return one_hot\n",
    "\n",
    "      \n",
    "    def reverse_transform(self, vect):\n",
    "        \"\"\" Performs a conversion of a vectorized SMILES to a smiles strings\n",
    "        charset must be the same as used for vectorization.\n",
    "        #Arguments\n",
    "            vect: Numpy array of vectorized SMILES.\n",
    "        \"\"\"       \n",
    "        smiles = []\n",
    "        for v in vect:\n",
    "            #mask v \n",
    "            v=v[v.sum(axis=1)==1]\n",
    "            #Find one hot encoded index with argmax, translate to char and join to string\n",
    "            smile = \"\".join(self._int_to_char[i] for i in v.argmax(axis=1))\n",
    "            smiles.append(smile)\n",
    "        return np.array(smiles)"
   ]
  },
  {
   "cell_type": "code",
   "execution_count": 35,
   "id": "39c15625-49fc-4a80-abd5-aecb5677fae6",
   "metadata": {},
   "outputs": [
    {
     "name": "stdout",
     "output_type": "stream",
     "text": [
      "You have set \"qumark\" as the owner\n"
     ]
    }
   ],
   "source": [
    "# @title Set an owner\n",
    "owner = 'qumark' # @param {type:\"string\"}\n",
    "print(f\"You have set \\\"{owner}\\\" as the owner\")"
   ]
  },
  {
   "cell_type": "code",
   "execution_count": 36,
   "id": "c94b527f-1e6e-4122-803b-fcb74672cef6",
   "metadata": {},
   "outputs": [],
   "source": [
    "from functools import partial\n",
    "\n",
    "import polaris as po\n",
    "import datamol as dm\n",
    "import matplotlib.pyplot as plt\n",
    "import numpy as np"
   ]
  },
  {
   "cell_type": "code",
   "execution_count": 37,
   "id": "e97781d7-9c83-46b2-a079-e0833ae05189",
   "metadata": {},
   "outputs": [
    {
     "name": "stderr",
     "output_type": "stream",
     "text": [
      "\u001b[32m2024-06-21 15:14:32.822\u001b[0m | \u001b[1mINFO    \u001b[0m | \u001b[36mpolaris._artifact\u001b[0m:\u001b[36m_validate_version\u001b[0m:\u001b[36m66\u001b[0m - \u001b[1mThe version of Polaris that was used to create the artifact (0.0.0) is different from the currently installed version of Polaris (dev).\u001b[0m\n",
      "\u001b[32m2024-06-21 15:14:32.827\u001b[0m | \u001b[1mINFO    \u001b[0m | \u001b[36mpolaris._artifact\u001b[0m:\u001b[36m_validate_version\u001b[0m:\u001b[36m66\u001b[0m - \u001b[1mThe version of Polaris that was used to create the artifact (0.0.0) is different from the currently installed version of Polaris (dev).\u001b[0m\n"
     ]
    }
   ],
   "source": [
    "benchmark = po.load_benchmark(\"polaris/pkis1-kit-wt-mut-c-1\")\n",
    "train, test = benchmark.get_train_test_split()"
   ]
  },
  {
   "cell_type": "code",
   "execution_count": 38,
   "id": "53dbd03b-4222-4ff8-9264-7af32756bc2e",
   "metadata": {},
   "outputs": [],
   "source": [
    "target_order = ['CLASS_KIT', 'CLASS_KIT_(T6701_mutant)', 'CLASS_KIT_(V560G_mutant)']\n",
    "\n",
    "ys = train.y\n",
    "ys = np.stack([ys[target] for target in target_order], axis=1)\n",
    "ys.shape\n",
    "\n",
    "# remove the rows with NaN values\n",
    "mask = ~np.any(np.isnan(ys), axis=1)\n",
    "mask.sum()\n",
    "X = train.X[mask]\n",
    "ys = ys[mask]"
   ]
  },
  {
   "cell_type": "markdown",
   "id": "a33f8226-89ef-4b7e-92dc-879b7fc482f5",
   "metadata": {},
   "source": [
    "## Augmenting SMILES data"
   ]
  },
  {
   "cell_type": "code",
   "execution_count": 39,
   "id": "bd40af7e-e177-487c-8e90-d82e97a299a2",
   "metadata": {},
   "outputs": [
    {
     "name": "stdout",
     "output_type": "stream",
     "text": [
      "There is only 30 binders.\n",
      "There's 216 class 1 datapoints missing.\n"
     ]
    },
    {
     "data": {
      "image/png": "[encoded data removed]",
      "text/plain": [
       "<Figure size 640x480 with 1 Axes>"
      ]
     },
     "metadata": {},
     "output_type": "display_data"
    }
   ],
   "source": [
    "plt.hist(ys[:, 0])\n",
    "num_class1 = list(ys[:, 0] == 1.0).count(True)\n",
    "print(f\"There is only {num_class1} binders.\")\n",
    "plt.title(target_order[0])\n",
    "\n",
    "num_class0 = list(ys[:, 0] == 0.0).count(True)\n",
    "num_missing = num_class0 - num_class1\n",
    "print(f\"There's {num_missing} class 1 datapoints missing.\")"
   ]
  },
  {
   "cell_type": "code",
   "execution_count": 40,
   "id": "41482593-e995-488b-b7a8-58f7601c9b3c",
   "metadata": {},
   "outputs": [
    {
     "data": {
      "image/png": "[encoded data removed]",
      "text/plain": [
       "<IPython.core.display.Image object>"
      ]
     },
     "execution_count": 40,
     "metadata": {},
     "output_type": "execute_result"
    }
   ],
   "source": [
    "## Balancing SMILES-based dataset\n",
    "\n",
    "import random\n",
    "from rdkit.Chem import Draw\n",
    "\n",
    "class1_samples = [(x_,y_) for x_, y_ in zip(X, ys) if y_[0] == 1.0]\n",
    "\n",
    "sme = SmilesEnumerator()\n",
    "for _ in range(num_missing):\n",
    "    sample = random.sample(class1_samples, k=1)\n",
    "    randomized_x = sme.randomize_smiles(sample[0][0])\n",
    "    X = np.append(X, randomized_x)\n",
    "    ys = np.append(ys, [sample[0][1]])\n",
    "\n",
    "ys = ys.reshape(-1, 3)\n",
    "mols = [Chem.MolFromSmiles(sample[0][0]), Chem.MolFromSmiles(randomized_x)]\n",
    "Draw.MolsToGridImage(mols, subImgSize=(500, 500), legends=[f\"Raw: {sample[0][0]}\", f\"Augmented: {randomized_x}\"])"
   ]
  },
  {
   "cell_type": "code",
   "execution_count": 41,
   "id": "9fbb5d0b-06db-4176-83bd-ebe020b19c94",
   "metadata": {},
   "outputs": [
    {
     "name": "stdout",
     "output_type": "stream",
     "text": [
      "There is now 246 binders and 246 non-binders.\n"
     ]
    },
    {
     "data": {
      "text/plain": [
       "Text(0.5, 1.0, 'CLASS_KIT')"
      ]
     },
     "execution_count": 41,
     "metadata": {},
     "output_type": "execute_result"
    },
    {
     "data": {
      "image/png": "[encoded data removed]",
      "text/plain": [
       "<Figure size 640x480 with 1 Axes>"
      ]
     },
     "metadata": {},
     "output_type": "display_data"
    }
   ],
   "source": [
    "plt.hist(ys[:, 0])\n",
    "num_binders = list(ys[:, 0] == 1.0).count(True)\n",
    "num_nonbinders = list(ys[:, 0] == 0.0).count(True)\n",
    "print(f\"There is now {num_binders} binders and {num_nonbinders} non-binders.\")\n",
    "plt.title(target_order[0])"
   ]
  },
  {
   "cell_type": "markdown",
   "id": "1efabe68-d9b4-4ce3-adba-22b47618986e",
   "metadata": {},
   "source": [
    "## Tokenizing SMILES"
   ]
  },
  {
   "cell_type": "code",
   "execution_count": 42,
   "id": "9ff01730-9991-428e-a7ea-8413c1eafccd",
   "metadata": {},
   "outputs": [],
   "source": [
    "import os\n",
    "\n",
    "from deepchem.feat.smiles_tokenizer import SmilesTokenizer\n",
    "import torch"
   ]
  },
  {
   "cell_type": "code",
   "execution_count": 43,
   "id": "a609ec83-edf5-4f01-aa7f-b52db474a286",
   "metadata": {},
   "outputs": [],
   "source": [
    "tokenizer = SmilesTokenizer('vocab.txt')"
   ]
  },
  {
   "cell_type": "code",
   "execution_count": 44,
   "id": "f6bb24c0-9847-4be0-9bdb-70ad3699ae08",
   "metadata": {},
   "outputs": [],
   "source": [
    "tokenized_X = [tokenizer.encode(smiles, padding=\"max_length\", max_length=81) for smiles in X]\n",
    "tokenized_X = np.array(tokenized_X)"
   ]
  },
  {
   "cell_type": "code",
   "execution_count": 45,
   "id": "90fd12a2-f46a-4d44-8015-aafc4a9cb81b",
   "metadata": {},
   "outputs": [
    {
     "data": {
      "text/plain": [
       "array([[12, 19, 22, ...,  0,  0,  0],\n",
       "       [12, 16, 16, ...,  0,  0,  0],\n",
       "       [12, 16, 23, ...,  0,  0,  0],\n",
       "       ...,\n",
       "       [12, 15, 20, ...,  0,  0,  0],\n",
       "       [12, 25, 20, ...,  0,  0,  0],\n",
       "       [12, 15, 20, ...,  0,  0,  0]])"
      ]
     },
     "execution_count": 45,
     "metadata": {},
     "output_type": "execute_result"
    }
   ],
   "source": [
    "tokenized_X"
   ]
  },
  {
   "cell_type": "markdown",
   "id": "df75b204-3b76-43b9-9474-afdd915307a0",
   "metadata": {},
   "source": [
    "## PyTorch model"
   ]
  },
  {
   "cell_type": "code",
   "execution_count": 77,
   "id": "325dfdaa-16cb-4237-b11f-fa67f85bde35",
   "metadata": {},
   "outputs": [],
   "source": [
    "import torch\n",
    "import torch.nn as nn\n",
    "import torch.optim as optim\n",
    "\n",
    "# Define the SMILES neural network\n",
    "class SMILESNeuralNet(nn.Module):\n",
    "    \n",
    "    def __init__(self, vocab_size, embed_dim, hidden_dim, output_dim):\n",
    "        super(SMILESNeuralNet, self).__init__()\n",
    "        self.embedding = nn.Embedding(vocab_size, embed_dim)\n",
    "        self.fc1 = nn.Linear(embed_dim, hidden_dim)\n",
    "        self.relu = nn.ReLU()\n",
    "        self.fc2 = nn.Linear(hidden_dim, output_dim)\n",
    "        self.sigmoid = nn.Sigmoid()\n",
    "        \n",
    "    def forward(self, ligand, target):\n",
    "        # ligand embedding\n",
    "        embedded = self.embedding(x)\n",
    "        embedded = embedded.mean(dim=1)  # Do we need averaging of embeddings?\n",
    "\n",
    "        # target embedding\n",
    "        \n",
    "        out = self.fc1(embedded)\n",
    "        out = self.relu(out)\n",
    "        out = self.fc2(out)\n",
    "        out = self.sigmoid(out) # binarize the output\n",
    "        return out"
   ]
  },
  {
   "cell_type": "code",
   "execution_count": null,
   "id": "5034bad4-041e-42ae-aaea-267bb7354214",
   "metadata": {},
   "outputs": [],
   "source": [
    "import torch\n",
    "import torch.nn as nn\n",
    "import torch.optim as optim\n",
    "\n",
    "class Sin(nn.Module):\n",
    "    def forward(x_inp):\n",
    "        torch.sin(x_inp)\n",
    "        \n",
    "# Define the SMILES neural network\n",
    "class SMILESNeuralNet(nn.Module):\n",
    "    \n",
    "    def __init__(self, vocab_size, embed_dim, hidden_dim, output_dim):\n",
    "        super(SMILESNeuralNet, self).__init__()\n",
    "        self.ligand_embedding = nn.Embedding(vocab_size, embed_dim)\n",
    "        self.target_embedding = nn.Embedding(3, embed_dim)\n",
    "        \n",
    "        self.fc1 = nn.Linear(embed_dim, hidden_dim)\n",
    "        self.relu = \n",
    "        self.fc2 = nn.Linear(hidden_dim, output_dim)\n",
    "        self.sigmoid = nn.Sigmoid()\n",
    "        \n",
    "    def forward(self, ligand, target):\n",
    "        # ligand embedding\n",
    "        embedded = self.embedding(x)\n",
    "        embedded = embedded.mean(dim=1)  # Do we need averaging of embeddings?\n",
    "\n",
    "        # target embedding\n",
    "        \n",
    "        out = self.fc1(embedded)\n",
    "        out = self.relu(out)\n",
    "        out = self.fc2(out)\n",
    "        out = self.sigmoid(out) # binarize the output\n",
    "        return out"
   ]
  },
  {
   "cell_type": "markdown",
   "id": "351b85e2-2380-4f14-b123-27e8f5a45113",
   "metadata": {},
   "source": [
    "## Hyperparameter tuning"
   ]
  },
  {
   "cell_type": "code",
   "execution_count": null,
   "id": "099ca845-08fe-47ed-b6e5-49029e8d4371",
   "metadata": {},
   "outputs": [
    {
     "name": "stderr",
     "output_type": "stream",
     "text": [
      "[I 2024-06-21 15:38:30,416] A new study created in memory with name: no-name-dc73b789-351a-49b7-adc8-b50abd67cc09\n",
      "[I 2024-06-21 15:40:16,465] Trial 0 finished with value: 0.9085365853658537 and parameters: {'embed_dim': 256, 'hidden_dim': 256, 'lr': 0.0025435256326853052, 'batch_size': 32, 'epochs': 1780}. Best is trial 0 with value: 0.9085365853658537.\n",
      "[I 2024-06-21 15:41:28,794] Trial 1 finished with value: 0.8963414634146342 and parameters: {'embed_dim': 256, 'hidden_dim': 128, 'lr': 0.0006613260049188675, 'batch_size': 64, 'epochs': 1760}. Best is trial 0 with value: 0.9085365853658537.\n",
      "[I 2024-06-21 15:46:32,610] Trial 2 finished with value: 0.8800813008130081 and parameters: {'embed_dim': 256, 'hidden_dim': 16, 'lr': 0.0012538202201686128, 'batch_size': 16, 'epochs': 3795}. Best is trial 0 with value: 0.9085365853658537.\n",
      "[I 2024-06-21 15:51:02,524] Trial 3 finished with value: 0.894308943089431 and parameters: {'embed_dim': 32, 'hidden_dim': 128, 'lr': 0.00030567338423666317, 'batch_size': 16, 'epochs': 4425}. Best is trial 0 with value: 0.9085365853658537.\n"
     ]
    }
   ],
   "source": [
    "import optuna\n",
    "from sklearn.model_selection import KFold\n",
    "from sklearn.metrics import accuracy_score\n",
    "\n",
    "def objective(trial):\n",
    "    # Hyperparameters to tune\n",
    "    embed_dim = trial.suggest_categorical('embed_dim', [32, 64, 128, 256])\n",
    "    hidden_dim = trial.suggest_categorical('hidden_dim', [8, 16, 32, 128, 256])\n",
    "    lr = trial.suggest_float('lr', 1e-4, 1e-2, log=True)\n",
    "    batch_size = trial.suggest_categorical('batch_size', [16, 32, 64])\n",
    "    epochs = trial.suggest_int('epochs', 1000, 5000)\n",
    "\n",
    "    # training data\n",
    "    tokenized_smiles = torch.from_numpy(tokenized_X)\n",
    "    targets = torch.from_numpy(ys[:, 0].astype(dtype=np.float32))\n",
    "    \n",
    "    # KFold Cross-Validation\n",
    "    kfold = KFold(n_splits=3, shuffle=True, random_state=42)\n",
    "    accuracies = []\n",
    "\n",
    "    for train_idx, val_idx in kfold.split(tokenized_smiles):\n",
    "        train_X, val_X = tokenized_smiles[train_idx], tokenized_smiles[val_idx]\n",
    "        train_y, val_y = targets[train_idx], targets[val_idx]\n",
    "        \n",
    "        # Initialize the model\n",
    "        model = SMILESNeuralNet(vocab_size=tokenizer.vocab_size, embed_dim=embed_dim, hidden_dim=hidden_dim, output_dim=1)\n",
    "        criterion = nn.BCELoss()\n",
    "        optimizer = optim.Adam(model.parameters(), lr=lr)\n",
    "        \n",
    "        # Training loop\n",
    "        dataset = torch.utils.data.TensorDataset(train_X, train_y)\n",
    "        dataloader = torch.utils.data.DataLoader(dataset, batch_size=batch_size, shuffle=True)\n",
    "        \n",
    "        model.train()\n",
    "        for epoch in range(epochs):\n",
    "            for batch_X, batch_y in dataloader:\n",
    "                optimizer.zero_grad()\n",
    "                outputs = model(batch_X)\n",
    "                loss = criterion(outputs.squeeze(), batch_y.float())\n",
    "                loss.backward()\n",
    "                optimizer.step()\n",
    "        \n",
    "        # Validation\n",
    "        model.eval()\n",
    "        with torch.no_grad():\n",
    "            val_outputs = model(val_X)\n",
    "            val_predictions = (val_outputs.squeeze().numpy() > 0.5).astype(int)\n",
    "        \n",
    "        accuracy = accuracy_score(val_y.numpy(), val_predictions)\n",
    "        accuracies.append(accuracy)\n",
    "    \n",
    "    # Return the mean accuracy across folds\n",
    "    mean_accuracy = np.mean(accuracies)\n",
    "    return mean_accuracy\n",
    "\n",
    "# Create the Optuna study and optimize\n",
    "study = optuna.create_study(direction='maximize')\n",
    "study.optimize(objective, n_trials=10)\n",
    "\n",
    "# Print the best parameters and best score\n",
    "print(\"Best parameters found: \", study.best_params)\n",
    "print(\"Best accuracy found: \", study.best_value)"
   ]
  },
  {
   "cell_type": "code",
   "execution_count": null,
   "id": "abd7e6d1-9aea-4053-a79b-e0a233bbf1f8",
   "metadata": {},
   "outputs": [],
   "source": [
    "# Retraining a model with all training value using the best hyperparameters\n",
    "\n",
    "# Best hyperparameters\n",
    "vocab_size = tokenizer.vocab_size\n",
    "embed_dim = study.best_params[\"embed_dim\"]\n",
    "hidden_dim = study.best_params[\"hidden_dim\"]\n",
    "output_dim = 1  # For now we only want binary classification\n",
    "num_epochs = study.best_params[\"epochs\"]\n",
    "\n",
    "# Instantiate the model, loss function, and optimizer\n",
    "model = SMILESNeuralNet(vocab_size, embed_dim, hidden_dim, output_dim)\n",
    "criterion = nn.BCELoss()  # Using BCELoss since we're doing binary classification\n",
    "optimizer = optim.Adam(model.parameters(), lr=0.001)\n",
    "\n",
    "X_tokens = torch.from_numpy(tokenized_X)\n",
    "targets = torch.from_numpy(ys[:, 0].astype(dtype=np.float32))\n",
    "\n",
    "# Training loop\n",
    "loss_over_time = []\n",
    "for epoch in range(num_epochs):\n",
    "    # Zero the parameter gradients\n",
    "    optimizer.zero_grad()\n",
    "    \n",
    "    # Forward pass\n",
    "    outputs = model(X_tokens)\n",
    "    loss = criterion(outputs.squeeze(), targets)\n",
    "    loss_over_time.append(loss)\n",
    "    \n",
    "    # Backward pass and optimize\n",
    "    loss.backward()\n",
    "    optimizer.step()\n",
    "    \n",
    "    if (epoch+1) % 10 == 0:\n",
    "        print(f'Epoch [{epoch+1}/{num_epochs}], Loss: {loss.item():.4f}')\n",
    "\n",
    "print(\"Training complete.\")"
   ]
  },
  {
   "cell_type": "code",
   "execution_count": null,
   "id": "2e6df353-636a-4fd9-95e6-2f7d4c061e4a",
   "metadata": {},
   "outputs": [],
   "source": [
    "plt.plot(list(range(num_epochs)), [l.detach().numpy() for l in loss_over_time])\n",
    "plt.title(\"Neural network loss\")\n",
    "plt.xlabel(\"Epoch\")\n",
    "plt.ylabel(\"Loss\")"
   ]
  },
  {
   "cell_type": "code",
   "execution_count": null,
   "id": "49d93210-8851-4b85-a032-23ef5a263608",
   "metadata": {},
   "outputs": [],
   "source": [
    "model.eval()  # set to evaluation mode for inference time\n",
    "\n",
    "tokenized_test_X = [tokenizer.encode(smiles, padding=\"max_length\", max_length=81) for smiles in test.X]\n",
    "tokenized_test_X = np.array(tokenized_test_X)\n",
    "tokenized_test_X = torch.from_numpy(tokenized_test_X)  # to tensor\n",
    "\n",
    "# Perform inference\n",
    "with torch.no_grad():  # turn off gradient calculation\n",
    "    predictions = model(tokenized_test_X)\n",
    "    predictions = predictions.squeeze().numpy()  # convert to numpy\n",
    "    \n",
    "print(\"Predictions:\", predictions)"
   ]
  },
  {
   "cell_type": "code",
   "execution_count": null,
   "id": "56fc7e6d-7f4d-4c52-a7a7-f48f68d81369",
   "metadata": {},
   "outputs": [],
   "source": [
    "# binarize the predictions\n",
    "predicted_labels = (predictions > 0.5).astype(np.float32)"
   ]
  },
  {
   "cell_type": "code",
   "execution_count": null,
   "id": "e0ef66e5-99c8-4893-b762-f52754e17e1d",
   "metadata": {},
   "outputs": [],
   "source": [
    "y_prob = {\"CLASS_KIT\": predictions, 'CLASS_KIT_(T6701_mutant)': predictions, 'CLASS_KIT_(V560G_mutant)': predictions}\n",
    "y_pred = {\"CLASS_KIT\": predicted_labels, 'CLASS_KIT_(T6701_mutant)': predicted_labels, 'CLASS_KIT_(V560G_mutant)': predicted_labels}\n",
    "\n",
    "results = benchmark.evaluate(y_pred=y_pred, y_prob=y_prob)"
   ]
  },
  {
   "cell_type": "code",
   "execution_count": null,
   "id": "603d9248-9dbe-45bd-b85a-2301127666ec",
   "metadata": {},
   "outputs": [],
   "source": [
    "results"
   ]
  },
  {
   "cell_type": "markdown",
   "id": "0d85d011-e3c7-44ca-a1b7-52393914a648",
   "metadata": {},
   "source": [
    "## Outstanding TODOs\n",
    "\n",
    "- Perform joint embedding with the target\n",
    "- Hyperparameter tuning"
   ]
  },
  {
   "cell_type": "code",
   "execution_count": null,
   "id": "1c056841-3aeb-449e-9643-b1655581a6bf",
   "metadata": {},
   "outputs": [],
   "source": []
  }
 ],
 "metadata": {
  "kernelspec": {
   "display_name": "Python 3 (ipykernel)",
   "language": "python",
   "name": "python3"
  },
  "language_info": {
   "codemirror_mode": {
    "name": "ipython",
    "version": 3
   },
   "file_extension": ".py",
   "mimetype": "text/x-python",
   "name": "python",
   "nbconvert_exporter": "python",
   "pygments_lexer": "ipython3",
   "version": "3.11.9"
  }
 },
 "nbformat": 4,
 "nbformat_minor": 5
}
