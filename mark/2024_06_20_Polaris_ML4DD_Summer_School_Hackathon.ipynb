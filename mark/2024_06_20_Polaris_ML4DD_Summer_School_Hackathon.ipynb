{
 "cells": [
  {
   "cell_type": "markdown",
   "metadata": {
    "id": "x1iKDNgCwVRW"
   },
   "source": [
    "# ML4DD Summer School Hackathon\n",
    "\n",
    "The final days of the Machine Learning For Drug Discovery summer school ends with a hackathon. We will use Polaris as a tool to get the associated benchmarks and datasets. First things first, we will install Polaris from PyPi."
   ]
  },
  {
   "cell_type": "raw",
   "metadata": {
    "colab": {
     "base_uri": "https://localhost:8080/"
    },
    "collapsed": true,
    "id": "diir3WsG5O6p",
    "jupyter": {
     "outputs_hidden": true
    },
    "outputId": "5228e7c3-981d-4598-de40-ab0928cead88"
   },
   "source": [
    "!pip install polaris-lib"
   ]
  },
  {
   "cell_type": "markdown",
   "metadata": {
    "id": "L_IWEa_YxPrp"
   },
   "source": [
    "We next need to authenticate ourselves to Polaris. If you haven't done so yet, you can create an account at https://polarishub.io. Afterwards, you can simply run the command below."
   ]
  },
  {
   "cell_type": "code",
   "execution_count": 56,
   "metadata": {
    "colab": {
     "base_uri": "https://localhost:8080/"
    },
    "id": "9HFqnCV076XB",
    "outputId": "d2a7586e-3bc0-4465-c146-06bb51eea17f"
   },
   "outputs": [
    {
     "name": "stdout",
     "output_type": "stream",
     "text": [
      "\u001b[32m2024-06-20 19:06:41.798\u001b[0m | \u001b[1mINFO    \u001b[0m | \u001b[36mpolaris.hub.client\u001b[0m:\u001b[36mlogin\u001b[0m:\u001b[36m285\u001b[0m - \u001b[1mYou are already logged in to the Polaris Hub as yakavetsiv (i.yakavets@gmail.com). Set `overwrite=True` to force re-authentication.\u001b[0m\n"
     ]
    }
   ],
   "source": [
    "!polaris login"
   ]
  },
  {
   "cell_type": "code",
   "execution_count": 57,
   "metadata": {
    "cellView": "form",
    "colab": {
     "base_uri": "https://localhost:8080/"
    },
    "id": "_iujt4e23r1M",
    "outputId": "40cae3eb-aee6-4bb3-a2f4-66536de12421"
   },
   "outputs": [
    {
     "name": "stdout",
     "output_type": "stream",
     "text": [
      "You have set \"qumark\" as the owner\n"
     ]
    }
   ],
   "source": [
    "# @title Set an owner\n",
    "\n",
    "owner = 'qumark' # @param {type:\"string\"}\n",
    "\n",
    "print(f\"You have set \\\"{owner}\\\" as the owner\")"
   ]
  },
  {
   "cell_type": "markdown",
   "metadata": {
    "id": "MtXQGyH-xdJT"
   },
   "source": [
    "# Solubility Benchmark\n",
    "\n",
    "The first benchmark we will use is `polaris/adme-fang-solu-1`. The associated page for this benchmark on the Polaris Hub can be found at https://polarishub.io/benchmarks/polaris/adme-fang-solu-1."
   ]
  },
  {
   "cell_type": "code",
   "execution_count": 3,
   "metadata": {
    "id": "n3MLaBrY5Wn0"
   },
   "outputs": [
    {
     "name": "stderr",
     "output_type": "stream",
     "text": [
      "/home/ubuntu/micromamba/envs/moml-mark/lib/python3.11/site-packages/tqdm/auto.py:21: TqdmWarning: IProgress not found. Please update jupyter and ipywidgets. See https://ipywidgets.readthedocs.io/en/stable/user_install.html\n",
      "  from .autonotebook import tqdm as notebook_tqdm\n"
     ]
    }
   ],
   "source": [
    "import polaris as po\n",
    "import datamol as dm\n",
    "import numpy as np"
   ]
  },
  {
   "cell_type": "code",
   "execution_count": 4,
   "metadata": {
    "colab": {
     "base_uri": "https://localhost:8080/"
    },
    "id": "bYVEVfHy7iDt",
    "outputId": "e017380a-1828-4452-e100-157135c3894d"
   },
   "outputs": [
    {
     "name": "stderr",
     "output_type": "stream",
     "text": [
      "\u001b[32m2024-06-20 16:33:20.114\u001b[0m | \u001b[1mINFO    \u001b[0m | \u001b[36mpolaris._artifact\u001b[0m:\u001b[36m_validate_version\u001b[0m:\u001b[36m66\u001b[0m - \u001b[1mThe version of Polaris that was used to create the artifact (0.0.0) is different from the currently installed version of Polaris (dev).\u001b[0m\n",
      "\u001b[32m2024-06-20 16:33:20.124\u001b[0m | \u001b[1mINFO    \u001b[0m | \u001b[36mpolaris._artifact\u001b[0m:\u001b[36m_validate_version\u001b[0m:\u001b[36m66\u001b[0m - \u001b[1mThe version of Polaris that was used to create the artifact (0.0.0) is different from the currently installed version of Polaris (dev).\u001b[0m\n"
     ]
    }
   ],
   "source": [
    "benchmark = po.load_benchmark(\"polaris/adme-fang-solu-1\")"
   ]
  },
  {
   "cell_type": "markdown",
   "metadata": {
    "id": "zBtE7VPUx-N-"
   },
   "source": [
    "We will use Datamol's `dm.to_fp` to directly featurize the inputs."
   ]
  },
  {
   "cell_type": "code",
   "execution_count": 5,
   "metadata": {
    "colab": {
     "base_uri": "https://localhost:8080/"
    },
    "id": "KjZElPwU70q2",
    "outputId": "fb14b593-d11c-4e19-b9ae-4e7235447569"
   },
   "outputs": [
    {
     "data": {
      "text/plain": [
       "(array([0, 0, 0, ..., 0, 0, 0], dtype=uint8), 1.567849451)"
      ]
     },
     "execution_count": 5,
     "metadata": {},
     "output_type": "execute_result"
    }
   ],
   "source": [
    "train, test = benchmark.get_train_test_split(featurization_fn=dm.to_fp)\n",
    "train[0]"
   ]
  },
  {
   "cell_type": "markdown",
   "metadata": {
    "id": "PyvHwIjnyG7b"
   },
   "source": [
    "As a model, we will train a simple Random Forest model from scikit-learn."
   ]
  },
  {
   "cell_type": "code",
   "execution_count": 6,
   "metadata": {
    "colab": {
     "base_uri": "https://localhost:8080/",
     "height": 75
    },
    "id": "QRwNDY3iHdHy",
    "outputId": "150378e5-27aa-425f-8383-1d7ba131f80c"
   },
   "outputs": [
    {
     "data": {
      "text/html": [
       "<style>#sk-container-id-1 {\n",
       "  /* Definition of color scheme common for light and dark mode */\n",
       "  --sklearn-color-text: black;\n",
       "  --sklearn-color-line: gray;\n",
       "  /* Definition of color scheme for unfitted estimators */\n",
       "  --sklearn-color-unfitted-level-0: #fff5e6;\n",
       "  --sklearn-color-unfitted-level-1: #f6e4d2;\n",
       "  --sklearn-color-unfitted-level-2: #ffe0b3;\n",
       "  --sklearn-color-unfitted-level-3: chocolate;\n",
       "  /* Definition of color scheme for fitted estimators */\n",
       "  --sklearn-color-fitted-level-0: #f0f8ff;\n",
       "  --sklearn-color-fitted-level-1: #d4ebff;\n",
       "  --sklearn-color-fitted-level-2: #b3dbfd;\n",
       "  --sklearn-color-fitted-level-3: cornflowerblue;\n",
       "\n",
       "  /* Specific color for light theme */\n",
       "  --sklearn-color-text-on-default-background: var(--sg-text-color, var(--theme-code-foreground, var(--jp-content-font-color1, black)));\n",
       "  --sklearn-color-background: var(--sg-background-color, var(--theme-background, var(--jp-layout-color0, white)));\n",
       "  --sklearn-color-border-box: var(--sg-text-color, var(--theme-code-foreground, var(--jp-content-font-color1, black)));\n",
       "  --sklearn-color-icon: #696969;\n",
       "\n",
       "  @media (prefers-color-scheme: dark) {\n",
       "    /* Redefinition of color scheme for dark theme */\n",
       "    --sklearn-color-text-on-default-background: var(--sg-text-color, var(--theme-code-foreground, var(--jp-content-font-color1, white)));\n",
       "    --sklearn-color-background: var(--sg-background-color, var(--theme-background, var(--jp-layout-color0, #111)));\n",
       "    --sklearn-color-border-box: var(--sg-text-color, var(--theme-code-foreground, var(--jp-content-font-color1, white)));\n",
       "    --sklearn-color-icon: #878787;\n",
       "  }\n",
       "}\n",
       "\n",
       "#sk-container-id-1 {\n",
       "  color: var(--sklearn-color-text);\n",
       "}\n",
       "\n",
       "#sk-container-id-1 pre {\n",
       "  padding: 0;\n",
       "}\n",
       "\n",
       "#sk-container-id-1 input.sk-hidden--visually {\n",
       "  border: 0;\n",
       "  clip: rect(1px 1px 1px 1px);\n",
       "  clip: rect(1px, 1px, 1px, 1px);\n",
       "  height: 1px;\n",
       "  margin: -1px;\n",
       "  overflow: hidden;\n",
       "  padding: 0;\n",
       "  position: absolute;\n",
       "  width: 1px;\n",
       "}\n",
       "\n",
       "#sk-container-id-1 div.sk-dashed-wrapped {\n",
       "  border: 1px dashed var(--sklearn-color-line);\n",
       "  margin: 0 0.4em 0.5em 0.4em;\n",
       "  box-sizing: border-box;\n",
       "  padding-bottom: 0.4em;\n",
       "  background-color: var(--sklearn-color-background);\n",
       "}\n",
       "\n",
       "#sk-container-id-1 div.sk-container {\n",
       "  /* jupyter's `normalize.less` sets `[hidden] { display: none; }`\n",
       "     but bootstrap.min.css set `[hidden] { display: none !important; }`\n",
       "     so we also need the `!important` here to be able to override the\n",
       "     default hidden behavior on the sphinx rendered scikit-learn.org.\n",
       "     See: https://github.com/scikit-learn/scikit-learn/issues/21755 */\n",
       "  display: inline-block !important;\n",
       "  position: relative;\n",
       "}\n",
       "\n",
       "#sk-container-id-1 div.sk-text-repr-fallback {\n",
       "  display: none;\n",
       "}\n",
       "\n",
       "div.sk-parallel-item,\n",
       "div.sk-serial,\n",
       "div.sk-item {\n",
       "  /* draw centered vertical line to link estimators */\n",
       "  background-image: linear-gradient(var(--sklearn-color-text-on-default-background), var(--sklearn-color-text-on-default-background));\n",
       "  background-size: 2px 100%;\n",
       "  background-repeat: no-repeat;\n",
       "  background-position: center center;\n",
       "}\n",
       "\n",
       "/* Parallel-specific style estimator block */\n",
       "\n",
       "#sk-container-id-1 div.sk-parallel-item::after {\n",
       "  content: \"\";\n",
       "  width: 100%;\n",
       "  border-bottom: 2px solid var(--sklearn-color-text-on-default-background);\n",
       "  flex-grow: 1;\n",
       "}\n",
       "\n",
       "#sk-container-id-1 div.sk-parallel {\n",
       "  display: flex;\n",
       "  align-items: stretch;\n",
       "  justify-content: center;\n",
       "  background-color: var(--sklearn-color-background);\n",
       "  position: relative;\n",
       "}\n",
       "\n",
       "#sk-container-id-1 div.sk-parallel-item {\n",
       "  display: flex;\n",
       "  flex-direction: column;\n",
       "}\n",
       "\n",
       "#sk-container-id-1 div.sk-parallel-item:first-child::after {\n",
       "  align-self: flex-end;\n",
       "  width: 50%;\n",
       "}\n",
       "\n",
       "#sk-container-id-1 div.sk-parallel-item:last-child::after {\n",
       "  align-self: flex-start;\n",
       "  width: 50%;\n",
       "}\n",
       "\n",
       "#sk-container-id-1 div.sk-parallel-item:only-child::after {\n",
       "  width: 0;\n",
       "}\n",
       "\n",
       "/* Serial-specific style estimator block */\n",
       "\n",
       "#sk-container-id-1 div.sk-serial {\n",
       "  display: flex;\n",
       "  flex-direction: column;\n",
       "  align-items: center;\n",
       "  background-color: var(--sklearn-color-background);\n",
       "  padding-right: 1em;\n",
       "  padding-left: 1em;\n",
       "}\n",
       "\n",
       "\n",
       "/* Toggleable style: style used for estimator/Pipeline/ColumnTransformer box that is\n",
       "clickable and can be expanded/collapsed.\n",
       "- Pipeline and ColumnTransformer use this feature and define the default style\n",
       "- Estimators will overwrite some part of the style using the `sk-estimator` class\n",
       "*/\n",
       "\n",
       "/* Pipeline and ColumnTransformer style (default) */\n",
       "\n",
       "#sk-container-id-1 div.sk-toggleable {\n",
       "  /* Default theme specific background. It is overwritten whether we have a\n",
       "  specific estimator or a Pipeline/ColumnTransformer */\n",
       "  background-color: var(--sklearn-color-background);\n",
       "}\n",
       "\n",
       "/* Toggleable label */\n",
       "#sk-container-id-1 label.sk-toggleable__label {\n",
       "  cursor: pointer;\n",
       "  display: block;\n",
       "  width: 100%;\n",
       "  margin-bottom: 0;\n",
       "  padding: 0.5em;\n",
       "  box-sizing: border-box;\n",
       "  text-align: center;\n",
       "}\n",
       "\n",
       "#sk-container-id-1 label.sk-toggleable__label-arrow:before {\n",
       "  /* Arrow on the left of the label */\n",
       "  content: \"▸\";\n",
       "  float: left;\n",
       "  margin-right: 0.25em;\n",
       "  color: var(--sklearn-color-icon);\n",
       "}\n",
       "\n",
       "#sk-container-id-1 label.sk-toggleable__label-arrow:hover:before {\n",
       "  color: var(--sklearn-color-text);\n",
       "}\n",
       "\n",
       "/* Toggleable content - dropdown */\n",
       "\n",
       "#sk-container-id-1 div.sk-toggleable__content {\n",
       "  max-height: 0;\n",
       "  max-width: 0;\n",
       "  overflow: hidden;\n",
       "  text-align: left;\n",
       "  /* unfitted */\n",
       "  background-color: var(--sklearn-color-unfitted-level-0);\n",
       "}\n",
       "\n",
       "#sk-container-id-1 div.sk-toggleable__content.fitted {\n",
       "  /* fitted */\n",
       "  background-color: var(--sklearn-color-fitted-level-0);\n",
       "}\n",
       "\n",
       "#sk-container-id-1 div.sk-toggleable__content pre {\n",
       "  margin: 0.2em;\n",
       "  border-radius: 0.25em;\n",
       "  color: var(--sklearn-color-text);\n",
       "  /* unfitted */\n",
       "  background-color: var(--sklearn-color-unfitted-level-0);\n",
       "}\n",
       "\n",
       "#sk-container-id-1 div.sk-toggleable__content.fitted pre {\n",
       "  /* unfitted */\n",
       "  background-color: var(--sklearn-color-fitted-level-0);\n",
       "}\n",
       "\n",
       "#sk-container-id-1 input.sk-toggleable__control:checked~div.sk-toggleable__content {\n",
       "  /* Expand drop-down */\n",
       "  max-height: 200px;\n",
       "  max-width: 100%;\n",
       "  overflow: auto;\n",
       "}\n",
       "\n",
       "#sk-container-id-1 input.sk-toggleable__control:checked~label.sk-toggleable__label-arrow:before {\n",
       "  content: \"▾\";\n",
       "}\n",
       "\n",
       "/* Pipeline/ColumnTransformer-specific style */\n",
       "\n",
       "#sk-container-id-1 div.sk-label input.sk-toggleable__control:checked~label.sk-toggleable__label {\n",
       "  color: var(--sklearn-color-text);\n",
       "  background-color: var(--sklearn-color-unfitted-level-2);\n",
       "}\n",
       "\n",
       "#sk-container-id-1 div.sk-label.fitted input.sk-toggleable__control:checked~label.sk-toggleable__label {\n",
       "  background-color: var(--sklearn-color-fitted-level-2);\n",
       "}\n",
       "\n",
       "/* Estimator-specific style */\n",
       "\n",
       "/* Colorize estimator box */\n",
       "#sk-container-id-1 div.sk-estimator input.sk-toggleable__control:checked~label.sk-toggleable__label {\n",
       "  /* unfitted */\n",
       "  background-color: var(--sklearn-color-unfitted-level-2);\n",
       "}\n",
       "\n",
       "#sk-container-id-1 div.sk-estimator.fitted input.sk-toggleable__control:checked~label.sk-toggleable__label {\n",
       "  /* fitted */\n",
       "  background-color: var(--sklearn-color-fitted-level-2);\n",
       "}\n",
       "\n",
       "#sk-container-id-1 div.sk-label label.sk-toggleable__label,\n",
       "#sk-container-id-1 div.sk-label label {\n",
       "  /* The background is the default theme color */\n",
       "  color: var(--sklearn-color-text-on-default-background);\n",
       "}\n",
       "\n",
       "/* On hover, darken the color of the background */\n",
       "#sk-container-id-1 div.sk-label:hover label.sk-toggleable__label {\n",
       "  color: var(--sklearn-color-text);\n",
       "  background-color: var(--sklearn-color-unfitted-level-2);\n",
       "}\n",
       "\n",
       "/* Label box, darken color on hover, fitted */\n",
       "#sk-container-id-1 div.sk-label.fitted:hover label.sk-toggleable__label.fitted {\n",
       "  color: var(--sklearn-color-text);\n",
       "  background-color: var(--sklearn-color-fitted-level-2);\n",
       "}\n",
       "\n",
       "/* Estimator label */\n",
       "\n",
       "#sk-container-id-1 div.sk-label label {\n",
       "  font-family: monospace;\n",
       "  font-weight: bold;\n",
       "  display: inline-block;\n",
       "  line-height: 1.2em;\n",
       "}\n",
       "\n",
       "#sk-container-id-1 div.sk-label-container {\n",
       "  text-align: center;\n",
       "}\n",
       "\n",
       "/* Estimator-specific */\n",
       "#sk-container-id-1 div.sk-estimator {\n",
       "  font-family: monospace;\n",
       "  border: 1px dotted var(--sklearn-color-border-box);\n",
       "  border-radius: 0.25em;\n",
       "  box-sizing: border-box;\n",
       "  margin-bottom: 0.5em;\n",
       "  /* unfitted */\n",
       "  background-color: var(--sklearn-color-unfitted-level-0);\n",
       "}\n",
       "\n",
       "#sk-container-id-1 div.sk-estimator.fitted {\n",
       "  /* fitted */\n",
       "  background-color: var(--sklearn-color-fitted-level-0);\n",
       "}\n",
       "\n",
       "/* on hover */\n",
       "#sk-container-id-1 div.sk-estimator:hover {\n",
       "  /* unfitted */\n",
       "  background-color: var(--sklearn-color-unfitted-level-2);\n",
       "}\n",
       "\n",
       "#sk-container-id-1 div.sk-estimator.fitted:hover {\n",
       "  /* fitted */\n",
       "  background-color: var(--sklearn-color-fitted-level-2);\n",
       "}\n",
       "\n",
       "/* Specification for estimator info (e.g. \"i\" and \"?\") */\n",
       "\n",
       "/* Common style for \"i\" and \"?\" */\n",
       "\n",
       ".sk-estimator-doc-link,\n",
       "a:link.sk-estimator-doc-link,\n",
       "a:visited.sk-estimator-doc-link {\n",
       "  float: right;\n",
       "  font-size: smaller;\n",
       "  line-height: 1em;\n",
       "  font-family: monospace;\n",
       "  background-color: var(--sklearn-color-background);\n",
       "  border-radius: 1em;\n",
       "  height: 1em;\n",
       "  width: 1em;\n",
       "  text-decoration: none !important;\n",
       "  margin-left: 1ex;\n",
       "  /* unfitted */\n",
       "  border: var(--sklearn-color-unfitted-level-1) 1pt solid;\n",
       "  color: var(--sklearn-color-unfitted-level-1);\n",
       "}\n",
       "\n",
       ".sk-estimator-doc-link.fitted,\n",
       "a:link.sk-estimator-doc-link.fitted,\n",
       "a:visited.sk-estimator-doc-link.fitted {\n",
       "  /* fitted */\n",
       "  border: var(--sklearn-color-fitted-level-1) 1pt solid;\n",
       "  color: var(--sklearn-color-fitted-level-1);\n",
       "}\n",
       "\n",
       "/* On hover */\n",
       "div.sk-estimator:hover .sk-estimator-doc-link:hover,\n",
       ".sk-estimator-doc-link:hover,\n",
       "div.sk-label-container:hover .sk-estimator-doc-link:hover,\n",
       ".sk-estimator-doc-link:hover {\n",
       "  /* unfitted */\n",
       "  background-color: var(--sklearn-color-unfitted-level-3);\n",
       "  color: var(--sklearn-color-background);\n",
       "  text-decoration: none;\n",
       "}\n",
       "\n",
       "div.sk-estimator.fitted:hover .sk-estimator-doc-link.fitted:hover,\n",
       ".sk-estimator-doc-link.fitted:hover,\n",
       "div.sk-label-container:hover .sk-estimator-doc-link.fitted:hover,\n",
       ".sk-estimator-doc-link.fitted:hover {\n",
       "  /* fitted */\n",
       "  background-color: var(--sklearn-color-fitted-level-3);\n",
       "  color: var(--sklearn-color-background);\n",
       "  text-decoration: none;\n",
       "}\n",
       "\n",
       "/* Span, style for the box shown on hovering the info icon */\n",
       ".sk-estimator-doc-link span {\n",
       "  display: none;\n",
       "  z-index: 9999;\n",
       "  position: relative;\n",
       "  font-weight: normal;\n",
       "  right: .2ex;\n",
       "  padding: .5ex;\n",
       "  margin: .5ex;\n",
       "  width: min-content;\n",
       "  min-width: 20ex;\n",
       "  max-width: 50ex;\n",
       "  color: var(--sklearn-color-text);\n",
       "  box-shadow: 2pt 2pt 4pt #999;\n",
       "  /* unfitted */\n",
       "  background: var(--sklearn-color-unfitted-level-0);\n",
       "  border: .5pt solid var(--sklearn-color-unfitted-level-3);\n",
       "}\n",
       "\n",
       ".sk-estimator-doc-link.fitted span {\n",
       "  /* fitted */\n",
       "  background: var(--sklearn-color-fitted-level-0);\n",
       "  border: var(--sklearn-color-fitted-level-3);\n",
       "}\n",
       "\n",
       ".sk-estimator-doc-link:hover span {\n",
       "  display: block;\n",
       "}\n",
       "\n",
       "/* \"?\"-specific style due to the `<a>` HTML tag */\n",
       "\n",
       "#sk-container-id-1 a.estimator_doc_link {\n",
       "  float: right;\n",
       "  font-size: 1rem;\n",
       "  line-height: 1em;\n",
       "  font-family: monospace;\n",
       "  background-color: var(--sklearn-color-background);\n",
       "  border-radius: 1rem;\n",
       "  height: 1rem;\n",
       "  width: 1rem;\n",
       "  text-decoration: none;\n",
       "  /* unfitted */\n",
       "  color: var(--sklearn-color-unfitted-level-1);\n",
       "  border: var(--sklearn-color-unfitted-level-1) 1pt solid;\n",
       "}\n",
       "\n",
       "#sk-container-id-1 a.estimator_doc_link.fitted {\n",
       "  /* fitted */\n",
       "  border: var(--sklearn-color-fitted-level-1) 1pt solid;\n",
       "  color: var(--sklearn-color-fitted-level-1);\n",
       "}\n",
       "\n",
       "/* On hover */\n",
       "#sk-container-id-1 a.estimator_doc_link:hover {\n",
       "  /* unfitted */\n",
       "  background-color: var(--sklearn-color-unfitted-level-3);\n",
       "  color: var(--sklearn-color-background);\n",
       "  text-decoration: none;\n",
       "}\n",
       "\n",
       "#sk-container-id-1 a.estimator_doc_link.fitted:hover {\n",
       "  /* fitted */\n",
       "  background-color: var(--sklearn-color-fitted-level-3);\n",
       "}\n",
       "</style><div id=\"sk-container-id-1\" class=\"sk-top-container\"><div class=\"sk-text-repr-fallback\"><pre>RandomForestRegressor(max_depth=5)</pre><b>In a Jupyter environment, please rerun this cell to show the HTML representation or trust the notebook. <br />On GitHub, the HTML representation is unable to render, please try loading this page with nbviewer.org.</b></div><div class=\"sk-container\" hidden><div class=\"sk-item\"><div class=\"sk-estimator fitted sk-toggleable\"><input class=\"sk-toggleable__control sk-hidden--visually\" id=\"sk-estimator-id-1\" type=\"checkbox\" checked><label for=\"sk-estimator-id-1\" class=\"sk-toggleable__label fitted sk-toggleable__label-arrow fitted\">&nbsp;&nbsp;RandomForestRegressor<a class=\"sk-estimator-doc-link fitted\" rel=\"noreferrer\" target=\"_blank\" href=\"https://scikit-learn.org/1.5/modules/generated/sklearn.ensemble.RandomForestRegressor.html\">?<span>Documentation for RandomForestRegressor</span></a><span class=\"sk-estimator-doc-link fitted\">i<span>Fitted</span></span></label><div class=\"sk-toggleable__content fitted\"><pre>RandomForestRegressor(max_depth=5)</pre></div> </div></div></div></div>"
      ],
      "text/plain": [
       "RandomForestRegressor(max_depth=5)"
      ]
     },
     "execution_count": 6,
     "metadata": {},
     "output_type": "execute_result"
    }
   ],
   "source": [
    "from sklearn.ensemble import RandomForestRegressor\n",
    "\n",
    "model = RandomForestRegressor(max_depth=5)\n",
    "model.fit(train.X, train.y)"
   ]
  },
  {
   "cell_type": "markdown",
   "metadata": {
    "id": "xOOf1pjEyTTB"
   },
   "source": [
    "Using that model, we can then generate our predictions for the test set."
   ]
  },
  {
   "cell_type": "code",
   "execution_count": 7,
   "metadata": {
    "id": "JQnRAfHfHpaj"
   },
   "outputs": [],
   "source": [
    "y_pred = model.predict(test.X)"
   ]
  },
  {
   "cell_type": "markdown",
   "metadata": {
    "id": "8dU8OdXpyWPO"
   },
   "source": [
    "And finally, we evaluate our predictions"
   ]
  },
  {
   "cell_type": "code",
   "execution_count": 8,
   "metadata": {
    "id": "zFOFMQjW1ax_"
   },
   "outputs": [
    {
     "data": {
      "text/plain": [
       "\u001b[0;31mSignature:\u001b[0m\n",
       "\u001b[0mbenchmark\u001b[0m\u001b[0;34m.\u001b[0m\u001b[0mevaluate\u001b[0m\u001b[0;34m(\u001b[0m\u001b[0;34m\u001b[0m\n",
       "\u001b[0;34m\u001b[0m    \u001b[0my_pred\u001b[0m\u001b[0;34m:\u001b[0m \u001b[0mUnion\u001b[0m\u001b[0;34m[\u001b[0m\u001b[0mnumpy\u001b[0m\u001b[0;34m.\u001b[0m\u001b[0mndarray\u001b[0m\u001b[0;34m,\u001b[0m \u001b[0mdict\u001b[0m\u001b[0;34m[\u001b[0m\u001b[0mstr\u001b[0m\u001b[0;34m,\u001b[0m \u001b[0mUnion\u001b[0m\u001b[0;34m[\u001b[0m\u001b[0mnumpy\u001b[0m\u001b[0;34m.\u001b[0m\u001b[0mndarray\u001b[0m\u001b[0;34m,\u001b[0m \u001b[0mdict\u001b[0m\u001b[0;34m[\u001b[0m\u001b[0mstr\u001b[0m\u001b[0;34m,\u001b[0m \u001b[0mnumpy\u001b[0m\u001b[0;34m.\u001b[0m\u001b[0mndarray\u001b[0m\u001b[0;34m]\u001b[0m\u001b[0;34m]\u001b[0m\u001b[0;34m]\u001b[0m\u001b[0;34m,\u001b[0m \u001b[0mNoneType\u001b[0m\u001b[0;34m]\u001b[0m \u001b[0;34m=\u001b[0m \u001b[0;32mNone\u001b[0m\u001b[0;34m,\u001b[0m\u001b[0;34m\u001b[0m\n",
       "\u001b[0;34m\u001b[0m    \u001b[0my_prob\u001b[0m\u001b[0;34m:\u001b[0m \u001b[0mUnion\u001b[0m\u001b[0;34m[\u001b[0m\u001b[0mnumpy\u001b[0m\u001b[0;34m.\u001b[0m\u001b[0mndarray\u001b[0m\u001b[0;34m,\u001b[0m \u001b[0mdict\u001b[0m\u001b[0;34m[\u001b[0m\u001b[0mstr\u001b[0m\u001b[0;34m,\u001b[0m \u001b[0mUnion\u001b[0m\u001b[0;34m[\u001b[0m\u001b[0mnumpy\u001b[0m\u001b[0;34m.\u001b[0m\u001b[0mndarray\u001b[0m\u001b[0;34m,\u001b[0m \u001b[0mdict\u001b[0m\u001b[0;34m[\u001b[0m\u001b[0mstr\u001b[0m\u001b[0;34m,\u001b[0m \u001b[0mnumpy\u001b[0m\u001b[0;34m.\u001b[0m\u001b[0mndarray\u001b[0m\u001b[0;34m]\u001b[0m\u001b[0;34m]\u001b[0m\u001b[0;34m]\u001b[0m\u001b[0;34m,\u001b[0m \u001b[0mNoneType\u001b[0m\u001b[0;34m]\u001b[0m \u001b[0;34m=\u001b[0m \u001b[0;32mNone\u001b[0m\u001b[0;34m,\u001b[0m\u001b[0;34m\u001b[0m\n",
       "\u001b[0;34m\u001b[0m\u001b[0;34m)\u001b[0m \u001b[0;34m->\u001b[0m \u001b[0mpolaris\u001b[0m\u001b[0;34m.\u001b[0m\u001b[0mevaluate\u001b[0m\u001b[0;34m.\u001b[0m\u001b[0m_results\u001b[0m\u001b[0;34m.\u001b[0m\u001b[0mBenchmarkResults\u001b[0m\u001b[0;34m\u001b[0m\u001b[0;34m\u001b[0m\u001b[0m\n",
       "\u001b[0;31mDocstring:\u001b[0m\n",
       "Execute the evaluation protocol for the benchmark, given a set of predictions.\n",
       "\n",
       "info: What about `y_true`?\n",
       "    Contrary to other frameworks that you might be familiar with, we opted for a signature that includes just\n",
       "    the predictions. This reduces the chance of accidentally using the test targets during training.\n",
       "\n",
       "For this method, we make the following assumptions:\n",
       "\n",
       "1. There can be one or multiple test set(s);\n",
       "2. There can be one or multiple target(s);\n",
       "3. The metrics are _constant_ across test sets;\n",
       "4. The metrics are _constant_ across targets;\n",
       "5. There can be metrics which measure across tasks.\n",
       "\n",
       "Args:\n",
       "    y_pred: The predictions for the test set, as NumPy arrays.\n",
       "        If there are multiple targets, the predictions should be wrapped in a dictionary with the target labels as keys.\n",
       "        If there are multiple test sets, the predictions should be further wrapped in a dictionary\n",
       "            with the test subset labels as keys.\n",
       "    y_prob: The predicted probabilities for the test set, as NumPy arrays.\n",
       "\n",
       "Returns:\n",
       "    A `BenchmarkResults` object. This object can be directly submitted to the Polaris Hub.\n",
       "\u001b[0;31mFile:\u001b[0m      ~/micromamba/envs/moml-mark/lib/python3.11/site-packages/polaris/benchmark/_base.py\n",
       "\u001b[0;31mType:\u001b[0m      method"
      ]
     },
     "metadata": {},
     "output_type": "display_data"
    }
   ],
   "source": [
    "benchmark.evaluate?"
   ]
  },
  {
   "cell_type": "code",
   "execution_count": 9,
   "metadata": {
    "colab": {
     "base_uri": "https://localhost:8080/",
     "height": 555
    },
    "id": "y4lrA1M0H835",
    "outputId": "9c2eb0e8-297f-4ca7-f8d1-28414269a2f0"
   },
   "outputs": [
    {
     "data": {
      "text/html": [
       "<table border=\"1\"><tr><th>name</th><td>None</td></tr><tr><th>description</th><td></td></tr><tr><th>tags</th><td></td></tr><tr><th>user_attributes</th><td></td></tr><tr><th>owner</th><td>None</td></tr><tr><th>polaris_version</th><td>dev</td></tr><tr><th>benchmark_name</th><td>adme-fang-SOLU-1</td></tr><tr><th>benchmark_owner</th><td><table border=\"1\"><tr><th>slug</th><td>polaris</td></tr><tr><th>external_id</th><td>org_2gtoaJIVrgRqiIR8Qm5BnpFCbxu</td></tr><tr><th>type</th><td>organization</td></tr></table></td></tr><tr><th>github_url</th><td>None</td></tr><tr><th>paper_url</th><td>None</td></tr><tr><th>contributors</th><td>None</td></tr><tr><th>artifact_id</th><td>None</td></tr><tr><th>benchmark_artifact_id</th><td>polaris/adme-fang-solu-1</td></tr><tr><th>results</th><td><table border=\"1\"><thead><tr><th>Test set</th><th>Target label</th><th>Metric</th><th>Score</th></tr></thead><tbody><tr><td>test</td><td>LOG_SOLUBILITY</td><td>mean_absolute_error</td><td>0.4897855072</td></tr><tr><td>test</td><td>LOG_SOLUBILITY</td><td>mean_squared_error</td><td>0.4794379904</td></tr><tr><td>test</td><td>LOG_SOLUBILITY</td><td>r2</td><td>0.1157195157</td></tr><tr><td>test</td><td>LOG_SOLUBILITY</td><td>spearmanr</td><td>0.3601292076</td></tr><tr><td>test</td><td>LOG_SOLUBILITY</td><td>pearsonr</td><td>0.4103726356</td></tr><tr><td>test</td><td>LOG_SOLUBILITY</td><td>explained_var</td><td>0.1225186278</td></tr></tbody></table></td></tr></table>"
      ],
      "text/plain": [
       "{\n",
       "  \"name\": null,\n",
       "  \"description\": \"\",\n",
       "  \"tags\": [],\n",
       "  \"user_attributes\": {},\n",
       "  \"owner\": null,\n",
       "  \"polaris_version\": \"dev\",\n",
       "  \"benchmark_name\": \"adme-fang-SOLU-1\",\n",
       "  \"benchmark_owner\": {\n",
       "    \"slug\": \"polaris\",\n",
       "    \"external_id\": \"org_2gtoaJIVrgRqiIR8Qm5BnpFCbxu\",\n",
       "    \"type\": \"organization\"\n",
       "  },\n",
       "  \"github_url\": null,\n",
       "  \"paper_url\": null,\n",
       "  \"contributors\": null,\n",
       "  \"artifact_id\": null,\n",
       "  \"benchmark_artifact_id\": \"polaris/adme-fang-solu-1\",\n",
       "  \"results\": [\n",
       "    {\n",
       "      \"Test set\": \"test\",\n",
       "      \"Target label\": \"LOG_SOLUBILITY\",\n",
       "      \"Metric\": \"mean_absolute_error\",\n",
       "      \"Score\": 0.4897855072\n",
       "    },\n",
       "    {\n",
       "      \"Test set\": \"test\",\n",
       "      \"Target label\": \"LOG_SOLUBILITY\",\n",
       "      \"Metric\": \"mean_squared_error\",\n",
       "      \"Score\": 0.4794379904\n",
       "    },\n",
       "    {\n",
       "      \"Test set\": \"test\",\n",
       "      \"Target label\": \"LOG_SOLUBILITY\",\n",
       "      \"Metric\": \"r2\",\n",
       "      \"Score\": 0.1157195157\n",
       "    },\n",
       "    {\n",
       "      \"Test set\": \"test\",\n",
       "      \"Target label\": \"LOG_SOLUBILITY\",\n",
       "      \"Metric\": \"spearmanr\",\n",
       "      \"Score\": 0.3601292076\n",
       "    },\n",
       "    {\n",
       "      \"Test set\": \"test\",\n",
       "      \"Target label\": \"LOG_SOLUBILITY\",\n",
       "      \"Metric\": \"pearsonr\",\n",
       "      \"Score\": 0.4103726356\n",
       "    },\n",
       "    {\n",
       "      \"Test set\": \"test\",\n",
       "      \"Target label\": \"LOG_SOLUBILITY\",\n",
       "      \"Metric\": \"explained_var\",\n",
       "      \"Score\": 0.1225186278\n",
       "    }\n",
       "  ]\n",
       "}"
      ]
     },
     "execution_count": 9,
     "metadata": {},
     "output_type": "execute_result"
    }
   ],
   "source": [
    "results = benchmark.evaluate(y_pred)\n",
    "results"
   ]
  },
  {
   "cell_type": "markdown",
   "metadata": {
    "id": "E7uLgMm4yaq7"
   },
   "source": [
    "There are multiple metadata fields we can fill in to provide additional information about these results."
   ]
  },
  {
   "cell_type": "code",
   "execution_count": 10,
   "metadata": {
    "id": "Zdt6r0ryH_pR"
   },
   "outputs": [],
   "source": [
    "results.name = \"my-first-result\"\n",
    "results.description = \"ECFP fingerprints with a Random Forest\""
   ]
  },
  {
   "cell_type": "markdown",
   "metadata": {
    "id": "ibiNCczvylVx"
   },
   "source": [
    "And finally - We can upload our results to the Hub! The results will be private."
   ]
  },
  {
   "cell_type": "code",
   "execution_count": 11,
   "metadata": {
    "colab": {
     "base_uri": "https://localhost:8080/",
     "height": 147
    },
    "id": "2eDOqtS4ILmN",
    "outputId": "8f93699a-8eab-4265-ac72-441f22f27bd4"
   },
   "outputs": [
    {
     "ename": "PolarisHubError",
     "evalue": "The request to the Polaris Hub failed. See the error message below for more details:\n{\n  \"message\": \"Cannot create a result for this owner\"\n}",
     "output_type": "error",
     "traceback": [
      "\u001b[0;31m---------------------------------------------------------------------------\u001b[0m",
      "\u001b[0;31mHTTPStatusError\u001b[0m                           Traceback (most recent call last)",
      "File \u001b[0;32m~/micromamba/envs/moml-mark/lib/python3.11/site-packages/polaris/hub/client.py:136\u001b[0m, in \u001b[0;36mPolarisHubClient._base_request_to_hub\u001b[0;34m(self, url, method, **kwargs)\u001b[0m\n\u001b[1;32m    135\u001b[0m \u001b[38;5;28;01mtry\u001b[39;00m:\n\u001b[0;32m--> 136\u001b[0m     \u001b[43mresponse\u001b[49m\u001b[38;5;241;43m.\u001b[39;49m\u001b[43mraise_for_status\u001b[49m\u001b[43m(\u001b[49m\u001b[43m)\u001b[49m\n\u001b[1;32m    138\u001b[0m \u001b[38;5;28;01mexcept\u001b[39;00m HTTPStatusError \u001b[38;5;28;01mas\u001b[39;00m error:\n\u001b[1;32m    139\u001b[0m     \u001b[38;5;66;03m# With an internal server error, we are not sure the custom error-handling code on the hub is reached.\u001b[39;00m\n",
      "File \u001b[0;32m~/micromamba/envs/moml-mark/lib/python3.11/site-packages/httpx/_models.py:761\u001b[0m, in \u001b[0;36mResponse.raise_for_status\u001b[0;34m(self)\u001b[0m\n\u001b[1;32m    760\u001b[0m message \u001b[38;5;241m=\u001b[39m message\u001b[38;5;241m.\u001b[39mformat(\u001b[38;5;28mself\u001b[39m, error_type\u001b[38;5;241m=\u001b[39merror_type)\n\u001b[0;32m--> 761\u001b[0m \u001b[38;5;28;01mraise\u001b[39;00m HTTPStatusError(message, request\u001b[38;5;241m=\u001b[39mrequest, response\u001b[38;5;241m=\u001b[39m\u001b[38;5;28mself\u001b[39m)\n",
      "\u001b[0;31mHTTPStatusError\u001b[0m: Client error '403 Forbidden' for url 'https://polarishub.io/api/v1/result'\nFor more information check: https://developer.mozilla.org/en-US/docs/Web/HTTP/Status/403",
      "\nThe above exception was the direct cause of the following exception:\n",
      "\u001b[0;31mPolarisHubError\u001b[0m                           Traceback (most recent call last)",
      "Cell \u001b[0;32mIn[11], line 1\u001b[0m\n\u001b[0;32m----> 1\u001b[0m \u001b[43mresults\u001b[49m\u001b[38;5;241;43m.\u001b[39;49m\u001b[43mupload_to_hub\u001b[49m\u001b[43m(\u001b[49m\u001b[43mowner\u001b[49m\u001b[38;5;241;43m=\u001b[39;49m\u001b[43mowner\u001b[49m\u001b[43m)\u001b[49m;\n",
      "File \u001b[0;32m~/micromamba/envs/moml-mark/lib/python3.11/site-packages/polaris/evaluate/_results.py:195\u001b[0m, in \u001b[0;36mBenchmarkResults.upload_to_hub\u001b[0;34m(self, env_file, settings, cache_auth_token, access, owner, **kwargs)\u001b[0m\n\u001b[1;32m    192\u001b[0m \u001b[38;5;28;01mfrom\u001b[39;00m \u001b[38;5;21;01mpolaris\u001b[39;00m\u001b[38;5;21;01m.\u001b[39;00m\u001b[38;5;21;01mhub\u001b[39;00m\u001b[38;5;21;01m.\u001b[39;00m\u001b[38;5;21;01mclient\u001b[39;00m \u001b[38;5;28;01mimport\u001b[39;00m PolarisHubClient\n\u001b[1;32m    194\u001b[0m \u001b[38;5;28;01mwith\u001b[39;00m PolarisHubClient(settings\u001b[38;5;241m=\u001b[39msettings, cache_auth_token\u001b[38;5;241m=\u001b[39mcache_auth_token, \u001b[38;5;241m*\u001b[39m\u001b[38;5;241m*\u001b[39mkwargs) \u001b[38;5;28;01mas\u001b[39;00m client:\n\u001b[0;32m--> 195\u001b[0m     \u001b[38;5;28;01mreturn\u001b[39;00m \u001b[43mclient\u001b[49m\u001b[38;5;241;43m.\u001b[39;49m\u001b[43mupload_results\u001b[49m\u001b[43m(\u001b[49m\u001b[38;5;28;43mself\u001b[39;49m\u001b[43m,\u001b[49m\u001b[43m \u001b[49m\u001b[43maccess\u001b[49m\u001b[38;5;241;43m=\u001b[39;49m\u001b[43maccess\u001b[49m\u001b[43m,\u001b[49m\u001b[43m \u001b[49m\u001b[43mowner\u001b[49m\u001b[38;5;241;43m=\u001b[39;49m\u001b[43mowner\u001b[49m\u001b[43m)\u001b[49m\n",
      "File \u001b[0;32m~/micromamba/envs/moml-mark/lib/python3.11/site-packages/polaris/hub/client.py:483\u001b[0m, in \u001b[0;36mPolarisHubClient.upload_results\u001b[0;34m(self, results, access, owner)\u001b[0m\n\u001b[1;32m    480\u001b[0m result_json \u001b[38;5;241m=\u001b[39m results\u001b[38;5;241m.\u001b[39mmodel_dump(by_alias\u001b[38;5;241m=\u001b[39m\u001b[38;5;28;01mTrue\u001b[39;00m, exclude_none\u001b[38;5;241m=\u001b[39m\u001b[38;5;28;01mTrue\u001b[39;00m)\n\u001b[1;32m    482\u001b[0m \u001b[38;5;66;03m# Make a request to the hub\u001b[39;00m\n\u001b[0;32m--> 483\u001b[0m response \u001b[38;5;241m=\u001b[39m \u001b[38;5;28;43mself\u001b[39;49m\u001b[38;5;241;43m.\u001b[39;49m\u001b[43m_base_request_to_hub\u001b[49m\u001b[43m(\u001b[49m\n\u001b[1;32m    484\u001b[0m \u001b[43m    \u001b[49m\u001b[43murl\u001b[49m\u001b[38;5;241;43m=\u001b[39;49m\u001b[38;5;124;43m\"\u001b[39;49m\u001b[38;5;124;43m/result\u001b[39;49m\u001b[38;5;124;43m\"\u001b[39;49m\u001b[43m,\u001b[49m\u001b[43m \u001b[49m\u001b[43mmethod\u001b[49m\u001b[38;5;241;43m=\u001b[39;49m\u001b[38;5;124;43m\"\u001b[39;49m\u001b[38;5;124;43mPOST\u001b[39;49m\u001b[38;5;124;43m\"\u001b[39;49m\u001b[43m,\u001b[49m\u001b[43m \u001b[49m\u001b[43mjson\u001b[49m\u001b[38;5;241;43m=\u001b[39;49m\u001b[43m{\u001b[49m\u001b[38;5;124;43m\"\u001b[39;49m\u001b[38;5;124;43maccess\u001b[39;49m\u001b[38;5;124;43m\"\u001b[39;49m\u001b[43m:\u001b[49m\u001b[43m \u001b[49m\u001b[43maccess\u001b[49m\u001b[43m,\u001b[49m\u001b[43m \u001b[49m\u001b[38;5;241;43m*\u001b[39;49m\u001b[38;5;241;43m*\u001b[39;49m\u001b[43mresult_json\u001b[49m\u001b[43m}\u001b[49m\n\u001b[1;32m    485\u001b[0m \u001b[43m\u001b[49m\u001b[43m)\u001b[49m\n\u001b[1;32m    487\u001b[0m \u001b[38;5;66;03m# Inform the user about where to find their newly created artifact.\u001b[39;00m\n\u001b[1;32m    488\u001b[0m result_url \u001b[38;5;241m=\u001b[39m urljoin(\n\u001b[1;32m    489\u001b[0m     \u001b[38;5;28mself\u001b[39m\u001b[38;5;241m.\u001b[39msettings\u001b[38;5;241m.\u001b[39mhub_url,\n\u001b[1;32m    490\u001b[0m     \u001b[38;5;124mf\u001b[39m\u001b[38;5;124m\"\u001b[39m\u001b[38;5;124mbenchmarks/\u001b[39m\u001b[38;5;132;01m{\u001b[39;00mresults\u001b[38;5;241m.\u001b[39mbenchmark_owner\u001b[38;5;132;01m}\u001b[39;00m\u001b[38;5;124m/\u001b[39m\u001b[38;5;132;01m{\u001b[39;00mresults\u001b[38;5;241m.\u001b[39mbenchmark_name\u001b[38;5;132;01m}\u001b[39;00m\u001b[38;5;124m/\u001b[39m\u001b[38;5;132;01m{\u001b[39;00mresponse[\u001b[38;5;124m'\u001b[39m\u001b[38;5;124mid\u001b[39m\u001b[38;5;124m'\u001b[39m]\u001b[38;5;132;01m}\u001b[39;00m\u001b[38;5;124m\"\u001b[39m,\n\u001b[1;32m    491\u001b[0m )\n",
      "File \u001b[0;32m~/micromamba/envs/moml-mark/lib/python3.11/site-packages/polaris/hub/client.py:147\u001b[0m, in \u001b[0;36mPolarisHubClient._base_request_to_hub\u001b[0;34m(self, url, method, **kwargs)\u001b[0m\n\u001b[1;32m    145\u001b[0m     response \u001b[38;5;241m=\u001b[39m response\u001b[38;5;241m.\u001b[39mjson()\n\u001b[1;32m    146\u001b[0m     response \u001b[38;5;241m=\u001b[39m json\u001b[38;5;241m.\u001b[39mdumps(response, indent\u001b[38;5;241m=\u001b[39m\u001b[38;5;241m2\u001b[39m, sort_keys\u001b[38;5;241m=\u001b[39m\u001b[38;5;28;01mTrue\u001b[39;00m)\n\u001b[0;32m--> 147\u001b[0m     \u001b[38;5;28;01mraise\u001b[39;00m PolarisHubError(\n\u001b[1;32m    148\u001b[0m         \u001b[38;5;124mf\u001b[39m\u001b[38;5;124m\"\u001b[39m\u001b[38;5;124mThe request to the Polaris Hub failed. See the error message below for more details:\u001b[39m\u001b[38;5;130;01m\\n\u001b[39;00m\u001b[38;5;132;01m{\u001b[39;00mresponse\u001b[38;5;132;01m}\u001b[39;00m\u001b[38;5;124m\"\u001b[39m\n\u001b[1;32m    149\u001b[0m     ) \u001b[38;5;28;01mfrom\u001b[39;00m \u001b[38;5;21;01merror\u001b[39;00m\n\u001b[1;32m    150\u001b[0m \u001b[38;5;66;03m# Convert the response to json format if the response contains a 'text' body\u001b[39;00m\n\u001b[1;32m    151\u001b[0m \u001b[38;5;28;01mtry\u001b[39;00m:\n",
      "\u001b[0;31mPolarisHubError\u001b[0m: The request to the Polaris Hub failed. See the error message below for more details:\n{\n  \"message\": \"Cannot create a result for this owner\"\n}"
     ]
    }
   ],
   "source": [
    "results.upload_to_hub(owner=owner);"
   ]
  },
  {
   "cell_type": "markdown",
   "metadata": {
    "id": "TO5OAEVFyuqG"
   },
   "source": [
    "# Kinase Selectivity\n",
    "\n",
    "The second benchmark we will use is `polaris/pkis1-kit-wt-mut-c-1`. Using this benchmark is very similar to before, except for one difference: This is a multi-task benchmark."
   ]
  },
  {
   "cell_type": "code",
   "execution_count": 58,
   "metadata": {
    "colab": {
     "base_uri": "https://localhost:8080/"
    },
    "id": "46Y3c1JMIPLh",
    "outputId": "c42852f8-1071-443c-9f71-2630df58386b"
   },
   "outputs": [
    {
     "name": "stderr",
     "output_type": "stream",
     "text": [
      "\u001b[32m2024-06-20 19:06:48.782\u001b[0m | \u001b[1mINFO    \u001b[0m | \u001b[36mpolaris._artifact\u001b[0m:\u001b[36m_validate_version\u001b[0m:\u001b[36m66\u001b[0m - \u001b[1mThe version of Polaris that was used to create the artifact (0.0.0) is different from the currently installed version of Polaris (dev).\u001b[0m\n",
      "\u001b[32m2024-06-20 19:06:48.787\u001b[0m | \u001b[1mINFO    \u001b[0m | \u001b[36mpolaris._artifact\u001b[0m:\u001b[36m_validate_version\u001b[0m:\u001b[36m66\u001b[0m - \u001b[1mThe version of Polaris that was used to create the artifact (0.0.0) is different from the currently installed version of Polaris (dev).\u001b[0m\n"
     ]
    },
    {
     "data": {
      "text/plain": [
       "(array([0, 0, 0, ..., 0, 0, 0], dtype=uint8),\n",
       " {'CLASS_KIT_(T6701_mutant)': 0.0,\n",
       "  'CLASS_KIT_(V560G_mutant)': 0.0,\n",
       "  'CLASS_KIT': 0.0})"
      ]
     },
     "execution_count": 58,
     "metadata": {},
     "output_type": "execute_result"
    }
   ],
   "source": [
    "benchmark = po.load_benchmark(\"polaris/pkis1-kit-wt-mut-c-1\")\n",
    "train, test = benchmark.get_train_test_split(featurization_fn=dm.to_fp)\n",
    "train[0]"
   ]
  },
  {
   "cell_type": "markdown",
   "metadata": {
    "id": "Pca2oqUVzJ6f"
   },
   "source": [
    "As we can see, the targets are now returned to us as a dictionary. Let's train a multi-task model on this data! We first preprocess the data to be in a format we can use with scikit-learn."
   ]
  },
  {
   "cell_type": "code",
   "execution_count": 59,
   "metadata": {
    "colab": {
     "base_uri": "https://localhost:8080/"
    },
    "id": "MMVcMtmyzh6g",
    "outputId": "d9e69176-2334-472d-ebe1-c1c28e1fd3fc"
   },
   "outputs": [
    {
     "data": {
      "text/plain": [
       "(277, 3)"
      ]
     },
     "execution_count": 59,
     "metadata": {},
     "output_type": "execute_result"
    }
   ],
   "source": [
    "ys = train.y\n",
    "ys = np.stack([ys[target] for target in benchmark.target_cols], axis=1)\n",
    "ys.shape"
   ]
  },
  {
   "cell_type": "code",
   "execution_count": 60,
   "metadata": {},
   "outputs": [
    {
     "data": {
      "image/png": "[encoded data removed]",
      "text/plain": [
       "<rdkit.Chem.rdchem.Mol at 0x7efbd0e35d20>"
      ]
     },
     "execution_count": 60,
     "metadata": {},
     "output_type": "execute_result"
    }
   ],
   "source": [
    "train, test = benchmark.get_train_test_split()\n",
    "dm.to_mol(train[4][0])"
   ]
  },
  {
   "cell_type": "code",
   "execution_count": 64,
   "metadata": {},
   "outputs": [
    {
     "data": {
      "text/plain": [
       "[0.0,\n",
       " 0.0,\n",
       " 0.0,\n",
       " 0.0,\n",
       " 1.0,\n",
       " 0.0,\n",
       " 0.0,\n",
       " 0.0,\n",
       " 0.0,\n",
       " 0.0,\n",
       " 0.0,\n",
       " 0.0,\n",
       " 0.0,\n",
       " 1.0,\n",
       " 0.0,\n",
       " 0.0,\n",
       " 0.0,\n",
       " 0.0,\n",
       " 0.0,\n",
       " 0.0,\n",
       " 0.0,\n",
       " 0.0,\n",
       " 0.0,\n",
       " 0.0,\n",
       " 0.0,\n",
       " 0.0,\n",
       " 0.0,\n",
       " 0.0,\n",
       " 0.0,\n",
       " 0.0,\n",
       " 0.0,\n",
       " 0.0,\n",
       " 0.0,\n",
       " 1.0,\n",
       " 0.0,\n",
       " 0.0,\n",
       " 0.0,\n",
       " 0.0,\n",
       " 0.0,\n",
       " 0.0,\n",
       " 0.0,\n",
       " 0.0,\n",
       " 0.0,\n",
       " 1.0,\n",
       " 0.0,\n",
       " 0.0,\n",
       " 0.0,\n",
       " 0.0,\n",
       " 0.0,\n",
       " 0.0,\n",
       " 0.0,\n",
       " 0.0,\n",
       " 0.0,\n",
       " 1.0,\n",
       " 0.0,\n",
       " 0.0,\n",
       " 0.0,\n",
       " 0.0,\n",
       " 0.0,\n",
       " 1.0,\n",
       " 0.0,\n",
       " 0.0,\n",
       " 0.0,\n",
       " 0.0,\n",
       " 0.0,\n",
       " 1.0,\n",
       " 0.0,\n",
       " 0.0,\n",
       " 0.0,\n",
       " 0.0,\n",
       " 0.0,\n",
       " 0.0,\n",
       " 0.0,\n",
       " 0.0,\n",
       " 0.0,\n",
       " 0.0,\n",
       " 0.0,\n",
       " 0.0,\n",
       " 0.0,\n",
       " 0.0,\n",
       " 0.0,\n",
       " 0.0,\n",
       " 0.0,\n",
       " 0.0,\n",
       " 0.0,\n",
       " 0.0,\n",
       " 1.0,\n",
       " 0.0,\n",
       " 0.0,\n",
       " 0.0,\n",
       " 0.0,\n",
       " 0.0,\n",
       " 0.0,\n",
       " 0.0,\n",
       " 0.0,\n",
       " 0.0,\n",
       " 1.0,\n",
       " 0.0,\n",
       " 0.0,\n",
       " 0.0,\n",
       " 0.0,\n",
       " 1.0,\n",
       " 0.0,\n",
       " 1.0,\n",
       " 0.0,\n",
       " 0.0,\n",
       " 0.0,\n",
       " 0.0,\n",
       " 0.0,\n",
       " 0.0,\n",
       " 0.0,\n",
       " 0.0,\n",
       " nan,\n",
       " 0.0,\n",
       " 0.0,\n",
       " 0.0,\n",
       " 1.0,\n",
       " 0.0,\n",
       " 1.0,\n",
       " 0.0,\n",
       " 0.0,\n",
       " 0.0,\n",
       " 0.0,\n",
       " 1.0,\n",
       " 0.0,\n",
       " 0.0,\n",
       " 0.0,\n",
       " 0.0,\n",
       " 0.0,\n",
       " 1.0,\n",
       " 0.0,\n",
       " 0.0,\n",
       " 0.0,\n",
       " 0.0,\n",
       " 0.0,\n",
       " 0.0,\n",
       " 0.0,\n",
       " 0.0,\n",
       " 1.0,\n",
       " 1.0,\n",
       " 0.0,\n",
       " 0.0,\n",
       " 1.0,\n",
       " 0.0,\n",
       " 0.0,\n",
       " 0.0,\n",
       " 0.0,\n",
       " 0.0,\n",
       " 0.0,\n",
       " 0.0,\n",
       " 0.0,\n",
       " 0.0,\n",
       " 0.0,\n",
       " 0.0,\n",
       " 0.0,\n",
       " 0.0,\n",
       " 0.0,\n",
       " 1.0,\n",
       " 0.0,\n",
       " 0.0,\n",
       " 1.0,\n",
       " 0.0,\n",
       " 0.0,\n",
       " 0.0,\n",
       " 0.0,\n",
       " 0.0,\n",
       " 0.0,\n",
       " 0.0,\n",
       " 0.0,\n",
       " 0.0,\n",
       " 0.0,\n",
       " 0.0,\n",
       " 0.0,\n",
       " 0.0,\n",
       " 1.0,\n",
       " 0.0,\n",
       " 0.0,\n",
       " 0.0,\n",
       " 0.0,\n",
       " 0.0,\n",
       " 0.0,\n",
       " 0.0,\n",
       " 0.0,\n",
       " 0.0,\n",
       " 0.0,\n",
       " 0.0,\n",
       " 0.0,\n",
       " 0.0,\n",
       " 0.0,\n",
       " 0.0,\n",
       " 0.0,\n",
       " 0.0,\n",
       " 0.0,\n",
       " 0.0,\n",
       " 0.0,\n",
       " 0.0,\n",
       " 0.0,\n",
       " 0.0,\n",
       " 0.0,\n",
       " 0.0,\n",
       " 0.0,\n",
       " 0.0,\n",
       " 0.0,\n",
       " 0.0,\n",
       " 0.0,\n",
       " 0.0,\n",
       " 0.0,\n",
       " 0.0,\n",
       " 0.0,\n",
       " 0.0,\n",
       " 0.0,\n",
       " 1.0,\n",
       " 0.0,\n",
       " 0.0,\n",
       " 0.0,\n",
       " 1.0,\n",
       " 0.0,\n",
       " 0.0,\n",
       " 0.0,\n",
       " 0.0,\n",
       " 0.0,\n",
       " 0.0,\n",
       " 0.0,\n",
       " 1.0,\n",
       " 0.0,\n",
       " 0.0,\n",
       " 0.0,\n",
       " 0.0,\n",
       " 0.0,\n",
       " 1.0,\n",
       " 0.0,\n",
       " 0.0,\n",
       " 0.0,\n",
       " 1.0,\n",
       " 0.0,\n",
       " 0.0,\n",
       " 0.0,\n",
       " 0.0,\n",
       " 0.0,\n",
       " 0.0,\n",
       " 0.0,\n",
       " 0.0,\n",
       " 0.0,\n",
       " 0.0,\n",
       " 0.0,\n",
       " 0.0,\n",
       " 0.0,\n",
       " 0.0,\n",
       " 0.0,\n",
       " 0.0,\n",
       " 0.0,\n",
       " 0.0,\n",
       " 0.0,\n",
       " 0.0,\n",
       " 0.0,\n",
       " 0.0,\n",
       " 0.0,\n",
       " 0.0,\n",
       " 0.0,\n",
       " 0.0,\n",
       " 0.0,\n",
       " 1.0,\n",
       " 0.0,\n",
       " 1.0,\n",
       " 0.0,\n",
       " 1.0,\n",
       " 1.0,\n",
       " 0.0,\n",
       " 0.0,\n",
       " 0.0,\n",
       " 0.0,\n",
       " 0.0,\n",
       " 0.0,\n",
       " 0.0,\n",
       " 0.0,\n",
       " 0.0,\n",
       " 0.0]"
      ]
     },
     "execution_count": 64,
     "metadata": {},
     "output_type": "execute_result"
    }
   ],
   "source": [
    "[t[1][\"CLASS_KIT\"] for t in train]"
   ]
  },
  {
   "cell_type": "code",
   "execution_count": 43,
   "metadata": {},
   "outputs": [
    {
     "name": "stdout",
     "output_type": "stream",
     "text": [
      "['O=C(Nc1n[nH]c2cc(-c3ccc(F)cc3)ccc12)C1CC1', 'CCn1c(-c2nonc2N)nc2c(C#CC(C)(C)O)ncc(OC3CCNCC3)c21', 'CN(C)c1cc2c(Nc3ccc4c(cnn4Cc4ccccc4)c3)ncnc2cn1', 'NS(=O)(=O)c1cccc(-c2ccc3c(NC(=O)C4CC4)n[nH]c3c2)c1', 'Cc1nn(C)c2cc(N(C)c3ccnc(Nc4cccc(S(N)(=O)=O)c4)n3)ccc12', 'COc1ccc(C2=C(N3CCc4ccccc43)C(=O)NC2=O)cc1', 'CN(C)CCCNc1nccc(-c2c(-c3ccc(F)cc3)nn3cc(C(F)(F)F)ccc23)n1', 'c1ccc(-c2nc3n(c2-c2ccc4c(c2)OCO4)CCC3)nc1', 'COc1ccc2ncnc(Nc3ccc(OCc4ccccc4)cc3)c2c1', 'CCCN1CCC=C(c2ccc(Nc3nc(Nc4ccccc4C(N)=O)c4cc[nH]c4n3)c(C)c2)C1', 'COc1ccc(-c2nn3ncccc3c2-c2ccnc(Nc3ccc(F)c(F)c3)n2)cc1', 'CCOc1nccc2c1nc(-c1nonc1N)n2CC', 'COc1cc(N2CCN(C(C)C)CC2)ccc1Nc1nc(Nc2cccc(F)c2C(=O)O)c2cc[nH]c2n1', 'NC(=O)c1cccc(Nc2nccc(Nc3cccc4[nH]ncc34)n2)c1', 'COC(=O)c1sc(-n2cnc3cc(OC)c(OC)cc32)cc1OCc1ccccc1C(F)(F)F', '[O-][S+]1CCN(Cc2ccc(-c3ccc4ncnc(Nc5ccc(OCc6ccccc6)c(Cl)c5)c4c3)o2)CC1', 'COc1cccc(-n2ncc3c(N/N=C/c4cccc(F)c4)ncnc32)c1', 'Cc1cc(O)cc(C)c1/C=C/c1cncc(C(N)=O)c1', 'CCn1c(-c2nonc2N)nc2c(C#CC(C)(C)O)nc(OC[C@H](N)c3ccccc3)cc21', 'CCn1c(-c2nonc2N)nc2c(N3CCCC3)nccc21', 'CNC(=O)c1cccc(C#Cc2cncnc2Nc2ccc(OCc3cccc(F)c3)c(Cl)c2)c1', 'CCCN1CCC(c2ccc(Nc3nc(Nc4cc(F)ccc4C(N)=O)c4cc[nH]c4n3)c(OC)c2)CC1', 'CS(=O)(=O)c1ccc(Oc2nccc(-c3c(-c4ccc(F)cc4)ncn3C3CCNCC3)n2)cc1', 'CS(=O)(=O)CCNCc1ccc(-c2ccc3ncnc(Nc4ccc(OCc5cccc(F)c5)c(C(F)(F)F)c4)c3c2)o1', 'CN(C)C(=O)O[C@@H]1CN[C@@H](C#Cc2cc3ncnc(Nc4ccc(OCc5cccc(F)c5)c(Cl)c4)c3s2)C1', 'COc1cc2ncn(-c3cc(OCc4ccccc4C(F)(F)F)c(C(N)=O)s3)c2cc1OC', 'NC(=O)c1cc(-c2ccc(F)cc2)cc(-c2ccncc2)c1N', 'CCNC(=O)O[C@H]1CN[C@H](C#Cc2cc3ncnc(Nc4ccc(OCc5cccc(F)c5)c(Cl)c4)c3s2)C1', 'CCn1c(-c2nonc2N)nc2c(C#CCN)ncc(OCCCN)c21', 'Cc1nc(-c2ccccc2)n2nc(NCCCN3CCOCC3)ncc12', 'CN(C)CCCn1c(-c2nonc2N)nc2cnccc21', 'C[C@@H](Oc1cc(-n2cnc3ccc(OCC4CCN(C)CC4)cc32)sc1C(N)=O)c1ccccc1Cl', 'NS(=O)(=O)c1ccc(-c2ccc3c(NC(=O)C4CC4)n[nH]c3c2)cc1', 'Cc1c2ccc(N(C)c3ccnc(Nc4cccc(S(N)(=O)=O)c4)n3)cc2nn1C', 'Cc1cccc(-c2n[nH]cc2-c2ccc3ncccc3n2)n1', 'COc1cc(Nc2ncc3c(C)nc(-c4cccc(C(F)(F)F)c4)n3n2)cc(OC)c1OC', 'CCn1c(-c2nonc2N)nc2c(C#CC(C)(C)O)nc(CN3CCCC3)cc21', 'CCCN(CCS(C)(=O)=O)Cc1ccc(-c2ccc3ncnc(Nc4ccc(OCc5cccc(F)c5)c(Cl)c4)c3c2)o1', 'O=S(=O)(CCNCc1ccc(-c2ccc3ncnc(Nc4ccc(OCc5cccc(F)c5)c(Cl)c4)c3c2)o1)c1ccccc1', 'NC(=O)c1sc(-n2cnc3cc(C(F)(F)F)ccc32)cc1OCc1ccccc1Br', 'COC(=O)Nc1nc2ccc(S(=O)(=O)c3ccc(NC(=O)Nc4cc(C(F)(F)F)ccc4F)cc3)cc2[nH]1', 'Fc1ccc(-c2ncn(C3CCNCC3)c2-c2ccnc(Oc3cccc(C(F)(F)F)c3)n2)cc1', 'CS(=O)(=O)CCNCc1ccoc1-c1ccc2ncnc(Nc3ccc(OCc4ccccc4)cc3)c2c1', 'Cc1ccc2c(-c3ccnc(Nc4ccccc4)n3)c(-c3ccc(F)cc3)nn2n1', 'CS(=O)(=O)Nc1ccc(-c2cc(-c3ccccc3)cc(C(N)=O)c2N)cc1', 'NC(=O)c1sc(-n2cnc3ccc(C(F)(F)F)cc32)cc1OCc1ccccc1Br', 'COc1ccc(COc2ccc(Cc3cnc(N)nc3N)cc2OC)cc1', 'COc1cc(C=NNc2ncnc3c2cnn3-c2ccccc2)ccc1O', 'CN1CCC(C(=O)Nc2n[nH]c3nnc(-c4ccccc4)cc23)CC1', 'Cc1cc(O)cc(C)c1/C=C/c1cncc(-c2nn[nH]n2)c1', 'COc1ccc2ncn(-c3cc(O[C@H](C)c4ccccc4Cl)c(C(N)=O)s3)c2c1', 'COc1cc(C=NNc2ncnc3c2cnn3Cc2ccccc2)ccc1O', 'c1ccc(COc2ccc(Nc3ncnc4ccc(-c5ccco5)cc34)cc2)cc1', 'c1cnn2ncc(-c3ccnc(Nc4ccc5c(c4)OCCO5)n3)c2c1', 'CC(C)(CO)CNC(=O)c1ccc2c(c1)/C(=N/Nc1ccc(S(N)(=O)=O)cc1)C(=O)N2', 'Nc1nccc(-c2c(-c3ccc(F)cc3)ncn2CCCN2CCOCC2)n1', 'FC(F)(F)c1cccc(Nc2nccc(-c3cnn4nc(-c5ccccc5)ccc34)n2)c1', 'COc1cc2ncn(-c3cc(O[C@H](C)c4ccccc4Cl)c(C(N)=O)s3)c2cc1OC', 'NC(=O)c1ccc2c(-c3ccnc(NCCCO)n3)c(-c3ccc(F)cc3)nn2c1', 'COc1ccc(-c2oc3ncnc(N)c3c2-c2ccc(NC(=O)Nc3cc(C(F)(F)F)ccc3F)cc2)cc1', 'c1ccc(-c2n[nH]cc2-c2ccnc(-c3ccc(OCCn4ccnc4)cc3)c2)nc1', 'Fc1cccc(COc2ccc(Nc3ncnc4sc(-c5cccs5)cc34)cc2Cl)c1', 'CC(=O)Nc1cccc(C#Cc2cncnc2Nc2ccc(OCc3cccc(F)c3)c(Cl)c2)c1', 'NC(=O)c1ccc(Oc2nccc(-c3c(-c4ccc(F)cc4)ncn3C3CCNCC3)n2)cc1', 'Fc1ccc(-c2nn3ccccc3c2-c2ccncc2)cc1', 'O=C(Nc1ccc(Oc2ccc3[nH]c(NC(=O)c4ccccc4)nc3c2)cc1)Nc1cc(C(F)(F)F)ccc1F', 'Cc1ccc(NC(=O)CC2CC2)cc1-c1ccc(C(=O)NCC2CC2)cc1', 'O=C1Nc2ccc(C(=O)c3ccco3)cc2C1=Cc1cc(Cl)c(O)c(Cl)c1', 'Fc1ccc(-c2ncn(C3CCNCC3)c2-c2ccnc(Oc3ccc(Oc4ccccc4)cc3)n2)cc1', 'Cc1nnc(-c2ccc(C)c(-c3ccc(C(=O)NCc4ccc(Cl)cc4)cc3)c2)o1', 'Fc1ccc(-c2nc3n(c2-c2ccncc2)CCS3)cc1', 'C[C@@H](Oc1cc(-n2cnc3ccc(OC[C@@H](O)CO)cc32)sc1C(N)=O)c1ccccc1Cl', 'Cn1c(-c2nonc2N)nc2cnccc21', 'Fc1cccc(COc2ccc(Nc3ncnc4sc(-c5ccco5)cc34)cc2Cl)c1', 'COC(=O)Nc1nc2ccc(Sc3ccc(NC(=O)Nc4cc(C(F)(F)F)ccc4F)cc3)cc2[nH]1', 'Cn1cc(C=C2C(=O)Nc3cccnc32)c2ccccc21', 'NS(=O)(=O)c1ccc(N/N=C2\\\\C(=O)Nc3ccc(-c4cnco4)cc32)cc1', 'c1ccc(-c2n[nH]cc2-c2ccnc(-c3ccc(OCCN4CCOCC4)cc3)c2)nc1', '[O-][S+]1CCN(Cc2ccc(-c3ccc4ncnc(Nc5ccc(OCc6ccccc6)c(F)c5)c4c3)o2)CC1', 'CCC(=O)Nc1ccc(C)c(-c2ccc(C(=O)NCC3CC3)cc2)c1', 'Fc1ccc(Oc2nccc(-c3c(-c4ccc(F)cc4)ncn3C3CCNCC3)n2)cc1', 'CNC(=O)Oc1cc(C)c(/C=C/c2cncc(C(=O)NC)c2)c(C)c1', 'COc1cc(N2CCN(C(C)C)CC2)ccc1Nc1nc(Nc2ccc(F)cc2C(=O)NC[C@@H](O)CO)c2cc[nH]c2n1', 'Cc1ccc2c(-c3ccnc(Nc4cccc(C(F)(F)F)c4)n3)c(-c3ccccc3)nn2n1', 'COc1ccc(-c2cc3c(N)ncnc3o2)cc1', 'Cc1ccc(C(=O)NC(C)C)cc1-c1ccc(C(=O)NCC2CC2)cc1', 'NC(=O)c1cccc(Nc2nccc(Nc3cccc(F)c3)n2)c1', 'Cc1cc(Cl)cc2c1NC(=O)C2=NNc1ccc(S(N)(=O)=O)cc1', 'C[C@@H](Oc1cc(-n2cnc3ccc(OCC4CCN(C)CC4)cc32)sc1C(N)=O)c1ccccc1C(F)(F)F', 'NS(=O)(=O)c1cccc(N/C=C2\\\\C(=O)Nc3ccccc32)c1', 'COc1ccc(-c2nn3ncccc3c2-c2ccnc(Nc3cccc(C(F)(F)F)c3)n2)cc1', 'COc1c(C(N)=O)cc(-c2ccc(Cl)cc2)cc1-c1ccc(S(N)(=O)=O)cc1', 'Cc1ccc(O)cc1Nc1ccnc2cc(-c3ccccn3)ccc12', 'NS(=O)(=O)c1cccc(-c2cc3ccncc3cc2OCc2ccccc2)c1', 'Cc1ccc(NC(=O)c2ccnc(N3CCOCC3)c2)cc1-c1ccc(C(=O)NCC2CC2)cc1', 'Nc1ccc(C#Cc2cncnc2Nc2ccc(OCc3cccc(F)c3)c(Cl)c2)cc1', 'CN(c1ccc(NC(=O)NCCN2CCOCC2)cc1)c1ccnc(Nc2ccc(CS(C)(=O)=O)cc2)n1', 'N#Cc1c(NC(=O)c2cccc3ccccc23)sc2c1CCCC2', 'ON=C1CCc2cc(-c3nc(C4CCNCC4)[nH]c3-c3ccncc3)ccc21', 'COc1cc2ncnc(Nc3ccc4c(cnn4Cc4ccccc4)c3)c2cc1OC', 'CS(=O)(=O)CCNCc1ccc(-c2ccc3ncnc(Nc4ccc(OCc5ccccc5)c(Br)c4)c3c2)o1', 'CCc1cccc(NC(=O)Nc2ccc(Oc3ccc4nc(NC(=O)OC)[nH]c4c3)cc2)c1', 'CCCN1CCC(Oc2cc(Nc3nc(Nc4cccc(F)c4C(N)=O)c4cc[nH]c4n3)c(OC)cc2Cl)CC1', 'CCS(=O)(=O)c1ccc(OC)c(Nc2ncc(-c3cccc(-c4ccccc4F)c3)o2)c1', 'CS(=O)(=O)CCNCc1ccc(-c2ccc3ncnc(Nc4ccc(OCc5cccc(C(F)(F)F)c5)cc4)c3c2)o1', 'CC1=C(C(=O)Nc2cc(Cl)c3[nH]ncc3c2)C(c2ccc(C(F)(F)F)cc2)CC(=O)N1', 'Fc1ccc(-c2ncn(C3CCNCC3)c2-c2ccnc(Oc3ccccc3)n2)cc1', 'COc1ccc2cc(-c3c(-c4ccncc4)nc(-c4ccc(S(C)(=O)=O)cc4C)n3C)ccc2c1', 'Cc1cc(O)cc(C)c1/C=C/c1cncc(C(=O)N(C)C)c1', 'COc1cc(Nc2ncc3c(C)nc(-c4cccc(Oc5ccccc5)c4)n3n2)cc(OC)c1OC', 'COc1cccc(COc2cc(-n3cnc4ccccc43)sc2C(N)=O)c1', 'CS(=O)(=O)CCNCc1cc(-c2cc3c(Nc4ccc(OCc5cccc(F)c5)c(Cl)c4)ncnc3s2)cs1', 'CC(C)(C)c1ccc(Oc2nccc(-c3c(-c4ccc(F)cc4)ncn3C3CCNCC3)n2)cc1', 'CN1CCC(C(=O)Nc2n[nH]c3nc(-c4ccc(O)cc4)c(Br)cc23)CC1', 'Fc1ccc(-c2ncn(C3CCNCC3)c2-c2ccnc(Oc3ccc(Cl)cc3)n2)cc1', 'CCc1nccc2c1nc(-c1nonc1N)n2CC', 'COC(=O)Nc1nc2ccc(Oc3ccc(NC(=O)Nc4cccc(Cl)c4)cc3)cc2[nH]1', 'COc1ccc(-c2nn3ncccc3c2-c2ccnc(Nc3ccc(Cl)c(C(F)(F)F)c3)n2)cc1', 'O=C1Nc2ccccc2/C1=C/Nc1ccc(-n2cncn2)cc1', 'N#Cc1ccc2c(-c3ccnc(NC4CC4)n3)c(-c3ccc(F)cc3)nn2c1', 'COc1cccc(-n2ncc3c(N/N=C/c4ccc(C(=O)NCCN(C)C)cc4)ncnc32)c1', 'COc1cc2ncn(-c3cc(OCc4ccccc4C(F)(F)F)c(C(C)=O)s3)c2cc1OC', 'COc1ccccc1Oc1nccc(-c2c(-c3ccc(F)cc3)ncn2C2CCNCC2)n1', 'COC(=O)c1cncc(/C=C/c2c(C)cc(O)cc2C)c1', 'CCn1c(-c2nonc2N)nc2cncc(C(=O)N3CC[C@H](N)C3)c21', 'COc1cc(N2CCN(C(C)C)CC2)ccc1Nc1nc(Nc2ccc(F)cc2C(N)=O)c2cc[nH]c2n1', 'CCN1CCC(CC(=O)Nc2n[nH]c3nc(-c4cccs4)c(Br)cc23)CC1', 'N#Cc1ccc(Oc2nccc(-c3c(-c4ccc(F)cc4)ncn3C3CCNCC3)n2)cc1', 'NS(=O)(=O)c1ccc(N/N=C2\\\\C(=O)Nc3cccc(CCc4ccncc4)c32)cc1', 'COc1cc(Nc2nccc(Nc3ccc4c(C)n[nH]c4c3)n2)cc(OC)c1OC', 'c1ccc(Oc2ccc(Nc3ncc(-c4ccccc4)o3)cc2)cc1', 'c1cc(-c2cnn3nc(N4CCOCC4)ccc23)nc(NC2CC2)n1', 'CCCN1CCCC(c2ccc(Nc3nc(Nc4cc(F)ccc4C(N)=O)c4cc[nH]c4n3)c(OC)c2)C1', 'COC(=O)Nc1nc2cc(Oc3ccc(NC(=O)Nc4ccccc4)cc3)ccc2[nH]1', 'Cc1ccc(Nc2ccnc(Nc3cccc(C(N)=O)c3)n2)cc1O', 'O=C(O[C@H]1CN[C@H](C#Cc2cc3ncnc(Nc4ccc5c(cnn5Cc5ccccc5)c4)c3s2)C1)N1CCOCC1', 'Cc1cccc2c1NC(=O)/C2=N\\\\Nc1ccc(S(N)(=O)=O)cc1', 'O=C1NC(=O)C(N2CCc3ccccc32)=C1c1ccc(Cl)cc1', 'CN1CCN(CCCNc2nc3ccc(Oc4ccc(NC(=O)Nc5cc(C(F)(F)F)ccc5F)cc4)cc3[nH]2)CC1', 'COc1ccc2[nH]c3c4[nH]c5ccc(OC)cc5c4c4c(c3c2c1)C(=O)NC4=O', 'CN(C)C(=O)O[C@H]1CN[C@H](C#Cc2cc3ncnc(Nc4ccc(OCc5cccc(F)c5)c(Cl)c4)c3s2)C1', 'CS(=O)(=O)CCNCc1coc(-c2ccc3ncnc(Nc4ccc(OCc5ccccc5)cc4)c3c2)c1', 'C/C(Nc1ccc(S(N)(=O)=O)cc1)=C1/C(=O)Nc2ccccc21', 'N#Cc1c(NC(=O)c2ccc(F)c3ccccc23)sc2c1CCCC2', 'COc1cc(N2CCN(C(C)C)CC2)ccc1Nc1nc(Nc2cccc3ncccc23)c2cc[nH]c2n1', 'CS(=O)(=O)CCNCc1nc(-c2ccc3ncnc(Nc4ccc(OCc5cccc(C(F)(F)F)c5)cc4)c3c2)cs1', 'CC(=O)Nc1cccc(C#Cc2cncnc2Nc2ccc(OCc3cccc(F)c3)c(Cl)c2)n1', 'COc1ccc(-c2ccncc2)cc1C(N)=O', 'CNC(=O)c1cncc(/C=C/c2ccccc2C)c1', 'Cc1ccc(NC(=O)c2ccnc(N3CCCC3)c2)cc1-c1ccc(C(=O)NCC2CC2)cc1', 'CN(C)CCNC(=O)Nc1ccc(N(C)c2ccnc(Nc3ccc(CS(C)(=O)=O)cc3)n2)cc1', 'CN(C)c1cc2c(Nc3ccc4nc(Cc5ccccc5)[nH]c4c3)ncnc2cn1', 'CCn1c(-c2nonc2N)nc2cncc(C(=O)N3CCNCC3)c21', 'COc1cc(/C=N/Nc2ncnc3[nH]ncc23)ccc1O', 'COc1cc2c(cc1Nc1nc(Nc3ccsc3C(N)=O)c3cc[nH]c3n1)N(C(=O)CN(C)C)CCC2(C)C', 'COc1cccc(-n2ncc3c(N/N=C/c4ccncc4)ncnc32)c1', 'CC1=C(C(=O)Nc2ccc3[nH]nc(C)c3c2)C(c2ccc(C(F)(F)F)cc2)CC(=O)N1', 'CCS(=O)(=O)c1ccc(OC)c(Nc2nccc(N(C)c3ccc4c(C)n[nH]c4c3)n2)c1', 'NC(=O)Cc1ccccc1Oc1nccc(-c2c(-c3ccc(F)cc3)ncn2C2CCNCC2)n1', 'C[C@@H](Oc1cc(-n2cnc3ccc(OC4CCN(C)CC4)cc32)sc1C(N)=O)c1ccccc1Cl', 'Cc1ccc2c(c1)/C(=N/Nc1ccc(S(N)(=O)=O)cc1)C(=O)N2', 'CCn1c(-c2nonc2N)nc2ccncc21', 'Cc1ccc(C(=O)NC2CCC2)cc1-c1ccc(C(=O)NCC2CC2)cc1', 'CNC(=O)c1cncc(/C=C/c2c(C)cccc2C)c1', 'COc1cc(/C=N/Nc2ncnc3c2cnn3C(C)C)ccc1O', 'CCN1CCC(CC(=O)Nc2n[nH]c3nnc(-c4cccc(F)c4F)cc23)CC1', 'CCn1c(-c2nonc2N)nc2ccccc21', 'c1ccc(Cc2nc3ccc(Nc4ncnc5ccccc45)cc3[nH]2)cc1', 'CNC(=O)c1cncc(/C=C/c2ccccc2Cl)c1', 'COC(=O)Nc1nc2cc(Oc3cccc(NC(=O)Nc4cc(C(F)(F)F)ccc4F)c3)ccc2[nH]1', 'Nc1nc(-c2ccc(F)cc2)c(-c2ccc3ncccc3n2)s1', 'COc1cc2ncn(-c3cc(O[C@@H](C)c4ccccc4Cl)c(C(N)=O)s3)c2cc1OC', 'Cc1ccc(C(=O)NC2CC2)cc1-c1ccc2[nH]ncc2c1', 'NC(=O)c1ccc(-c2nc(-c3ccccn3)c(-c3ccc4c(c3)OCO4)[nH]2)cc1', 'Cc1cc(O)cc(C)c1/C=C/c1cncc(C(=O)OC(C)(C)C)c1', 'CS(=O)(=O)CCN(CC#N)Cc1ccc(-c2ccc3ncnc(Nc4ccc(OCc5cccc(F)c5)c(Cl)c4)c3c2)o1', 'CS(=O)(=O)CCNCc1ccc(-c2ccc3ncnc(Nc4ccc(OCc5ccccc5)c(Cl)c4)c3c2)o1', 'FC(F)(F)CNc1nccc(-c2cnn3ncccc23)n1', 'CC1=C(C(=O)Nc2ccc3[nH]ncc3c2)C(c2ccc(F)cc2)N=C(c2ccc(C(F)(F)F)nc2)N1', 'CCn1c(-c2nonc2N)nc2c(C#CC(C)(C)O)nc(O[C@@H](CN)c3ccccc3)cc21', 'COc1cc2ncn(-c3cc(OCc4ccccc4C(F)(F)F)c(C(=O)N(C)C)s3)c2cc1OC', 'CC(C)=Cc1cccc2c1/C(=N/Nc1ccc(S(N)(=O)=O)cc1)C(=O)N2', 'O=C(Nc1n[nH]c2cc(-c3ccccc3)ccc12)C1CC1', 'CCc1ccc(Oc2nccc(-c3c(-c4ccc(F)cc4)ncn3C3CCNCC3)n2)cc1', 'CNC(=O)c1sc(-n2cnc3cc(OC)c(OC)cc32)cc1OCc1ccccc1C(F)(F)F', 'CCn1c(-c2nonc2N)nc2c(C#CC(C)(C)O)ncc(OC[C@@H]3CCCN3)c21', 'CCn1c(-c2nonc2N)nc2cncc(C(=O)NCCNC)c21', 'Fc1cccc(COc2ccc(Nc3ncnc4cc(-c5ccc[nH]5)sc34)cc2Cl)c1', 'CCCNc1cccc(-n2ncc3c(N/N=C/c4ccncc4)ncnc32)c1', 'Nc1nccc(-c2c(-c3ccc(F)cc3)ncn2C2CCC(O)CC2)n1', 'Fc1ccc(-c2c(-c3ccncc3)nc3n2CCS3)cc1', 'CS(=O)(=O)CCNCc1ccc(-c2ccc3ncnc(Nc4ccc(OCc5ccccc5)c(C(F)(F)F)c4)c3c2)o1', 'CCn1c(-c2nonc2N)nc2c(C#CC(C)(C)O)ncc(OCC3CCNCC3)c21', 'CCc1cccc(CC)c1/C=C/c1cncc(C(=O)NC)c1', 'NS(=O)(=O)c1ccc(N/N=C2\\\\C(=O)Nc3ccc(C(=O)NCCc4c[nH]cn4)cc32)cc1', 'CN(C)c1ccc2c(c1)/C(=C/Nc1ccc(S(N)(=O)=O)cc1)C(=O)N2', 'Fc1ccc(-c2ncn(C3CCNCC3)c2-c2ccnc(Oc3ccc4c(c3)OCO4)n2)cc1', '[O-][S+]1CCN(Cc2ccc(-c3ccc4ncnc(Nc5ccc(OCc6cccc(F)c6)c(Cl)c5)c4c3)o2)CC1', 'Clc1ccc(-c2nn3ncccc3c2-c2ccnc(Nc3ccccc3)n2)cc1', 'Fc1cccc(COc2ccc(Nc3ncncc3C#Cc3ccccc3)cc2Cl)c1', 'CN(C)CCOc1ccc(-c2nc(-c3ccncc3)c(-c3ccc4c(c3)CC/C4=N\\\\O)[nH]2)cc1', 'Nc1nccc(-c2c(-c3ccc(F)cc3)nn3cc(C(F)(F)F)ccc23)n1', 'NS(=O)(=O)c1ccc(-c2cc3ccncc3cc2OCc2ccccc2)cc1', 'NC(=O)CCc1ccccc1Oc1nccc(-c2c(-c3ccc(F)cc3)ncn2C2CCNCC2)n1', 'COc1cc2ncn(-c3cc(OCCc4ccccc4)c(C(N)=O)s3)c2cc1OC', 'CCN1CCC(C(=O)Nc2n[nH]c3nnc(-c4cccc(F)c4F)cc23)CC1', 'CCn1c(-c2nonc2N)nc2ccc(F)cc21', 'N#Cc1c(NC(=O)CN2CCOCC2)sc2c1CCCC2', 'CC(C)COC(=O)c1ccc2c(c1)/C(=C/Nc1ccc(S(N)(=O)=O)cc1)C(=O)N2', 'COc1cc2c(cc1Nc1nc(N3CCc4ccccc43)c3cc[nH]c3n1)N(C(=O)CN(C)C)CC2', 'CC1=C(C(=O)Nc2ccc3[nH]ncc3c2)C(c2ccc3ccccc3c2)CC(=O)N1', 'NC(=O)c1cc(-c2ccncc2)cc(-c2ccccc2)c1N', 'O=C(Nc1n[nH]c2cc(-c3cc(F)ccc3F)ccc12)C1CC1', 'COc1ccc2cc(-c3c(-c4ccncc4)nc(-c4ccc([S+](C)[O-])cc4)n3C)ccc2c1', 'OCc1ccc(-c2nc(-c3ccccn3)c(-c3ccc4c(c3)OCO4)[nH]2)cc1', 'NS(=O)(=O)c1ccc(N/N=C2\\\\C(=O)Nc3ccc4ncccc4c32)cc1', 'COc1ccc2cc(-c3c(-c4ccncc4)nc(-c4ccc([S+](C)[O-])cc4C)n3C)ccc2c1', 'CC1=C(C(=O)Nc2ccc3[nH]ncc3c2)C(c2ccc(F)cc2)NC(=O)N1', 'CCn1c(-c2nonc2N)nc2c(C#CC(C)(C)O)nc(OC[C@@H](N)c3ccccc3)cc21', 'CS(=O)(=O)CCNCc1ccc(-c2ccc3ncnc(Nc4ccc(OCc5ccccc5)cc4)c3c2)o1', 'COc1cccc(-n2ncc3c(N/N=C/c4ccc(F)cc4)ncnc32)c1', 'Cc1ccc(O)cc1Nc1ccnc2ccc(S(C)(=O)=O)cc12', 'CS(=O)(=O)Nc1cccc(-c2ccc3c(NC(=O)C4CC4)n[nH]c3c2)c1', 'O=C(Nc1ccc(Oc2ccc3[nH]c(NC(=O)c4ccco4)nc3c2)cc1)Nc1cc(C(F)(F)F)ccc1F', 'CN1CCC(n2cnc(-c3ccc(F)cc3)c2-c2ccnc(Nc3ccccc3)n2)CC1', 'CCn1c(-c2nonc2N)nc2c(C#CC(C)(C)O)nc(OCCNC)cc21', 'O=C(O[C@H]1CN[C@H](C#Cc2cc3ncnc(Nc4ccc(Cc5ccccc5)cc4)c3s2)C1)N1CCOCC1', 'COc1cc2ncn(-c3cc(OCc4ccccc4Cl)c(C(N)=O)s3)c2cc1OC', 'COc1cc2c(cc1Nc1nc(Nc3cccc(F)c3C(N)=O)c3cc[nH]c3n1)N(C(=O)CN1CCN(C(C)C)CC1)CC2', 'COC(=O)Nc1nc2cc(Oc3ccc(NC(=O)Nc4cccc(Br)c4)cc3)ccc2[nH]1', 'Fc1ccc(-c2ncn(C3CCNCC3)c2-c2ccnc(Oc3ccc(F)c(F)c3)n2)cc1', 'COc1ccc(CNC(=O)c2ccc(-c3cc(-c4nnc(C)o4)ccc3C)cc2)cc1', 'Clc1ccc(CNc2nccc(-c3cnn4ncccc34)n2)cc1', 'COc1cccc(-n2cnc3c(N/N=C/c4ccncc4)ncnc32)c1', 'COc1cccc(/C=N/Nc2ncnc3c2cnn3-c2cccc(OC)c2)c1', 'O=C(NCC1CC1)c1ccc(-c2cccc(C(=O)NC3CC3)c2)cc1', 'CC(=O)NCc1cccc(C#Cc2cncnc2Nc2ccc(OCc3cccc(F)c3)c(Cl)c2)c1', 'CCc1nn2ncccc2c1-c1ccnc(NC2CC2)n1', 'COc1cccc(-n2ncc3c(N/N=C/c4ccc(C)cc4)ncnc32)c1', 'c1cnn2ncc(-c3ccnc(NCCCN4CCOCC4)n3)c2c1', 'O=C([O-])c1ccc(Oc2nccc(-c3c(-c4ccc(F)cc4)ncn3C3CCNCC3)n2)cc1', 'COc1ccccc1-c1cc(/C=C2\\\\C(=O)Nc3ncc(Br)cc32)cc(Br)c1O', 'CNC(=O)c1cncc(/C=C/c2c(Cl)cccc2Cl)c1', 'NC(=O)c1sc(-n2cnc3ccccc32)cc1OCc1ccccc1Br', 'Fc1ccc(Nc2nccc(-c3c(-c4ccc(C(F)(F)F)cc4)nn4ncccc34)n2)cc1F', 'Nc1nc(-c2ccc3c(c2)C(=Cc2cc(Br)c(O)c(Br)c2)C(=O)N3)cs1', 'COc1cccc(-n2nc(C)c3c(N/N=C(\\\\C)c4ccncc4)ncnc32)c1', 'COc1cccc(-n2ncc3c(N/N=C/c4ccc(S(C)(=O)=O)cc4)ncnc32)c1', 'O=S(=O)(CCOCc1ccc(-c2ccc3ncnc(Nc4ccc(OCc5cccc(F)c5)c(Cl)c4)c3c2)o1)c1ccccc1', 'Nc1nonc1-c1nc2cnccc2n1C1CCCCC1', 'Cc1ccc(C(=O)NC2CCCCC2)cc1-c1ccc(C(=O)NCC2CC2)cc1', 'CNC(=O)c1cc(-c2ccc(F)cc2)cc(-c2ccc(S(=O)(=O)N3CCCC3)cc2)c1N', 'NS(=O)(=O)c1ccc(N/N=C2\\\\C(=O)Nc3ccc(C(=O)NCCCn4ccnc4)cc32)cc1', 'Nc1nc(-c2cccc(Cl)c2)c(-c2ccc3ncccc3n2)s1', 'CN(C)CCOc1ccc(-c2cc(-c3ccc4c(c3)CCC4=NO)c(-c3ccncc3)o2)cc1', 'COc1cc2ncn(-c3cc(OCc4cccs4)c(C(N)=O)s3)c2cc1OC', 'O=C(O[C@H]1CN[C@H](C#Cc2cc3ncnc(Nc4ccc(OCc5cccc(F)c5)c(Cl)c4)c3s2)C1)N1CCOCC1', 'O=C1Nc2ccc(-c3cccnc3)cc2C1=Cc1cc(Br)c(O)c(Br)c1', 'CC1=C(C(=O)Nc2ccc3[nH]ncc3c2)C(c2ccc(Cl)c(Cl)c2)CC(=O)N1', 'NS(=O)(=O)c1ccc(N/N=C2\\\\C(=O)Nc3ccc(C(=O)NCc4ccncc4)cc32)cc1', 'Fc1ccc(-c2ncn(C3CCNCC3)c2-c2ccnc(Oc3cccc(F)c3)n2)cc1', 'NS(=O)(=O)c1ccc(N/N=C2\\\\C(=O)Nc3ccc(Cl)cc32)cc1', 'N#Cc1c(NC(=O)c2cccc3ccccc23)sc2c1CCCN2C(=O)C1CC1', 'CN1CCN(c2ccc(Nc3nccc(-c4cnn5ncccc45)n3)cc2C(F)(F)F)CC1', 'COc1cc2ncn(-c3cc(OCc4ccccc4S(C)(=O)=O)c(C#N)s3)c2cc1OC', 'CS(=O)(=O)Nc1ccc(N/C=C2\\\\C(=O)Nc3ccccc32)cc1', 'O=C1Nc2ccccc2/C1=C1\\\\CCc2cc(O)ccc21', 'Cc1ccc(-c2cc3c(NC(=O)C4CC4)ncnc3o2)cc1', 'COc1cc2c(cc1Nc1nc(Nc3ccsc3C(N)=O)c3cc[nH]c3n1)N(C(=O)CN(C)C)CCC2', 'COc1ccc2ncn(-c3cc(O[C@H](C)c4ccccc4C(F)(F)F)c(C(N)=O)s3)c2c1', 'CN1CCN(Cc2ccc(-c3cc4ncnc(Nc5ccc(OCc6cccc(F)c6)c(Cl)c5)c4s3)o2)CC1', 'COC(=O)Nc1nc2cc(Oc3ccc(NC(=O)Nc4cccc(C(=O)O)c4)cc3)ccc2[nH]1', 'Cc1cccc(Oc2nccc(-c3c(-c4ccc(F)cc4)ncn3C3CCNCC3)n2)c1C', 'Cc1ccc(NC(=O)c2ccoc2)cc1-c1ccc(C(=O)NCC2CC2)cc1', 'CS(=O)(=O)Nc1ccc(-c2ccc3c(NC(=O)C4CC4)n[nH]c3c2)cc1', 'CNC(=O)c1ncccc1Nc1nc(Nc2cc3c(cc2OC)CCCN3C(=O)CN(C)C)nc2[nH]ccc12', 'OCCCNc1nccc(-c2c(-c3ccc(F)cc3)nn3cc(C(F)(F)F)ccc23)n1']\n"
     ]
    }
   ],
   "source": [
    "smiles = [t[0] for t in train]\n",
    "print(smiles)"
   ]
  },
  {
   "cell_type": "code",
   "execution_count": 54,
   "metadata": {},
   "outputs": [],
   "source": [
    "from rdkit import Chem\n",
    "\n",
    "for smile in smiles:\n",
    "    canonical_smile = Chem.CanonSmiles(smile)\n",
    "    if smile != canonical_smile:\n",
    "        print(f\"{smile} doesn't match {canonical_smile}\")"
   ]
  },
  {
   "cell_type": "markdown",
   "metadata": {
    "id": "6hCe_IEr0f1q"
   },
   "source": [
    "Now that we're working with a multi-task dataset, it's also possible for these arrays to be sparse. Let's filter out any data points that doesn't have readouts for _all_ targets."
   ]
  },
  {
   "cell_type": "code",
   "execution_count": 20,
   "metadata": {
    "colab": {
     "base_uri": "https://localhost:8080/"
    },
    "id": "Sc6-h6e-0fS0",
    "outputId": "f103f604-de68-493e-a417-8ce363bcda50"
   },
   "outputs": [
    {
     "data": {
      "text/plain": [
       "276"
      ]
     },
     "execution_count": 20,
     "metadata": {},
     "output_type": "execute_result"
    }
   ],
   "source": [
    "mask = ~np.any(np.isnan(ys), axis=1)\n",
    "mask.sum()"
   ]
  },
  {
   "cell_type": "code",
   "execution_count": 16,
   "metadata": {
    "colab": {
     "base_uri": "https://localhost:8080/",
     "height": 75
    },
    "id": "X73PDIbo0R_L",
    "outputId": "19e0136f-caa7-4540-de1a-6e89309e5839"
   },
   "outputs": [
    {
     "data": {
      "text/html": [
       "<style>#sk-container-id-2 {color: black;background-color: white;}#sk-container-id-2 pre{padding: 0;}#sk-container-id-2 div.sk-toggleable {background-color: white;}#sk-container-id-2 label.sk-toggleable__label {cursor: pointer;display: block;width: 100%;margin-bottom: 0;padding: 0.3em;box-sizing: border-box;text-align: center;}#sk-container-id-2 label.sk-toggleable__label-arrow:before {content: \"▸\";float: left;margin-right: 0.25em;color: #696969;}#sk-container-id-2 label.sk-toggleable__label-arrow:hover:before {color: black;}#sk-container-id-2 div.sk-estimator:hover label.sk-toggleable__label-arrow:before {color: black;}#sk-container-id-2 div.sk-toggleable__content {max-height: 0;max-width: 0;overflow: hidden;text-align: left;background-color: #f0f8ff;}#sk-container-id-2 div.sk-toggleable__content pre {margin: 0.2em;color: black;border-radius: 0.25em;background-color: #f0f8ff;}#sk-container-id-2 input.sk-toggleable__control:checked~div.sk-toggleable__content {max-height: 200px;max-width: 100%;overflow: auto;}#sk-container-id-2 input.sk-toggleable__control:checked~label.sk-toggleable__label-arrow:before {content: \"▾\";}#sk-container-id-2 div.sk-estimator input.sk-toggleable__control:checked~label.sk-toggleable__label {background-color: #d4ebff;}#sk-container-id-2 div.sk-label input.sk-toggleable__control:checked~label.sk-toggleable__label {background-color: #d4ebff;}#sk-container-id-2 input.sk-hidden--visually {border: 0;clip: rect(1px 1px 1px 1px);clip: rect(1px, 1px, 1px, 1px);height: 1px;margin: -1px;overflow: hidden;padding: 0;position: absolute;width: 1px;}#sk-container-id-2 div.sk-estimator {font-family: monospace;background-color: #f0f8ff;border: 1px dotted black;border-radius: 0.25em;box-sizing: border-box;margin-bottom: 0.5em;}#sk-container-id-2 div.sk-estimator:hover {background-color: #d4ebff;}#sk-container-id-2 div.sk-parallel-item::after {content: \"\";width: 100%;border-bottom: 1px solid gray;flex-grow: 1;}#sk-container-id-2 div.sk-label:hover label.sk-toggleable__label {background-color: #d4ebff;}#sk-container-id-2 div.sk-serial::before {content: \"\";position: absolute;border-left: 1px solid gray;box-sizing: border-box;top: 0;bottom: 0;left: 50%;z-index: 0;}#sk-container-id-2 div.sk-serial {display: flex;flex-direction: column;align-items: center;background-color: white;padding-right: 0.2em;padding-left: 0.2em;position: relative;}#sk-container-id-2 div.sk-item {position: relative;z-index: 1;}#sk-container-id-2 div.sk-parallel {display: flex;align-items: stretch;justify-content: center;background-color: white;position: relative;}#sk-container-id-2 div.sk-item::before, #sk-container-id-2 div.sk-parallel-item::before {content: \"\";position: absolute;border-left: 1px solid gray;box-sizing: border-box;top: 0;bottom: 0;left: 50%;z-index: -1;}#sk-container-id-2 div.sk-parallel-item {display: flex;flex-direction: column;z-index: 1;position: relative;background-color: white;}#sk-container-id-2 div.sk-parallel-item:first-child::after {align-self: flex-end;width: 50%;}#sk-container-id-2 div.sk-parallel-item:last-child::after {align-self: flex-start;width: 50%;}#sk-container-id-2 div.sk-parallel-item:only-child::after {width: 0;}#sk-container-id-2 div.sk-dashed-wrapped {border: 1px dashed gray;margin: 0 0.4em 0.5em 0.4em;box-sizing: border-box;padding-bottom: 0.4em;background-color: white;}#sk-container-id-2 div.sk-label label {font-family: monospace;font-weight: bold;display: inline-block;line-height: 1.2em;}#sk-container-id-2 div.sk-label-container {text-align: center;}#sk-container-id-2 div.sk-container {/* jupyter's `normalize.less` sets `[hidden] { display: none; }` but bootstrap.min.css set `[hidden] { display: none !important; }` so we also need the `!important` here to be able to override the default hidden behavior on the sphinx rendered scikit-learn.org. See: https://github.com/scikit-learn/scikit-learn/issues/21755 */display: inline-block !important;position: relative;}#sk-container-id-2 div.sk-text-repr-fallback {display: none;}</style><div id=\"sk-container-id-2\" class=\"sk-top-container\"><div class=\"sk-text-repr-fallback\"><pre>RandomForestClassifier(max_depth=5)</pre><b>In a Jupyter environment, please rerun this cell to show the HTML representation or trust the notebook. <br />On GitHub, the HTML representation is unable to render, please try loading this page with nbviewer.org.</b></div><div class=\"sk-container\" hidden><div class=\"sk-item\"><div class=\"sk-estimator sk-toggleable\"><input class=\"sk-toggleable__control sk-hidden--visually\" id=\"sk-estimator-id-2\" type=\"checkbox\" checked><label for=\"sk-estimator-id-2\" class=\"sk-toggleable__label sk-toggleable__label-arrow\">RandomForestClassifier</label><div class=\"sk-toggleable__content\"><pre>RandomForestClassifier(max_depth=5)</pre></div></div></div></div></div>"
      ],
      "text/plain": [
       "RandomForestClassifier(max_depth=5)"
      ]
     },
     "execution_count": 16,
     "metadata": {},
     "output_type": "execute_result"
    }
   ],
   "source": [
    "from sklearn.ensemble import RandomForestClassifier\n",
    "\n",
    "model = RandomForestClassifier(max_depth=5)\n",
    "model.fit(train.X[mask], ys[mask])"
   ]
  },
  {
   "cell_type": "code",
   "execution_count": 21,
   "metadata": {
    "colab": {
     "base_uri": "https://localhost:8080/"
    },
    "id": "YuTepkN51Z30",
    "outputId": "c8c2bf60-409e-44b7-b456-34ca742fb950"
   },
   "outputs": [
    {
     "data": {
      "text/plain": [
       "(87, 3)"
      ]
     },
     "execution_count": 21,
     "metadata": {},
     "output_type": "execute_result"
    }
   ],
   "source": [
    "y_pred = model.predict(test.X)\n",
    "y_pred.shape"
   ]
  },
  {
   "cell_type": "markdown",
   "metadata": {
    "id": "JhYlTqAo2CSv"
   },
   "source": [
    "In addition to `y_pred`, we also need to specify `y_prob` as this benchmark uses the AUROC measure."
   ]
  },
  {
   "cell_type": "code",
   "execution_count": 22,
   "metadata": {
    "colab": {
     "base_uri": "https://localhost:8080/"
    },
    "id": "I0PTjCP72CaZ",
    "outputId": "db7d4cfe-b3fc-4330-f691-58ff84823c20"
   },
   "outputs": [
    {
     "data": {
      "text/plain": [
       "(87, 3, 2)"
      ]
     },
     "execution_count": 22,
     "metadata": {},
     "output_type": "execute_result"
    }
   ],
   "source": [
    "y_prob = model.predict_proba(test.X)\n",
    "y_prob = np.stack(y_prob, axis=1)\n",
    "y_prob.shape"
   ]
  },
  {
   "cell_type": "markdown",
   "metadata": {
    "id": "f0FQjlXQ1e2c"
   },
   "source": [
    "Polaris expects a dictionary, so let's convert our results again."
   ]
  },
  {
   "cell_type": "code",
   "execution_count": 23,
   "metadata": {
    "id": "rjjdjgK01eLt"
   },
   "outputs": [],
   "source": [
    "y_pred = {k: y_pred[:, idx] for idx, k in enumerate(benchmark.target_cols)}\n",
    "y_prob = {k: y_prob[:, idx, 1] for idx, k in enumerate(benchmark.target_cols)}"
   ]
  },
  {
   "cell_type": "markdown",
   "metadata": {
    "id": "9-WULonk1wBn"
   },
   "source": [
    "And let's evaluate our predictions!"
   ]
  },
  {
   "cell_type": "code",
   "execution_count": 24,
   "metadata": {
    "colab": {
     "base_uri": "https://localhost:8080/",
     "height": 835
    },
    "id": "SUtGjiJj1vvz",
    "outputId": "8b5f0338-9d1a-4dc1-b0d6-12977afba289"
   },
   "outputs": [
    {
     "data": {
      "text/html": [
       "<table border=\"1\"><tr><th>name</th><td>None</td></tr><tr><th>description</th><td></td></tr><tr><th>tags</th><td></td></tr><tr><th>user_attributes</th><td></td></tr><tr><th>owner</th><td>None</td></tr><tr><th>polaris_version</th><td>dev</td></tr><tr><th>benchmark_name</th><td>pkis1-kit-wt-mut-c-1</td></tr><tr><th>benchmark_owner</th><td><table border=\"1\"><tr><th>slug</th><td>polaris</td></tr><tr><th>external_id</th><td>org_2gtoaJIVrgRqiIR8Qm5BnpFCbxu</td></tr><tr><th>type</th><td>organization</td></tr></table></td></tr><tr><th>github_url</th><td>None</td></tr><tr><th>paper_url</th><td>None</td></tr><tr><th>contributors</th><td>None</td></tr><tr><th>artifact_id</th><td>None</td></tr><tr><th>benchmark_artifact_id</th><td>polaris/pkis1-kit-wt-mut-c-1</td></tr><tr><th>results</th><td><table border=\"1\"><thead><tr><th>Test set</th><th>Target label</th><th>Metric</th><th>Score</th></tr></thead><tbody><tr><td>test</td><td>CLASS_KIT_(T6701_mutant)</td><td>accuracy</td><td>0.8390804598</td></tr><tr><td>test</td><td>CLASS_KIT_(V560G_mutant)</td><td>accuracy</td><td>0.8620689655</td></tr><tr><td>test</td><td>CLASS_KIT</td><td>accuracy</td><td>0.6206896552</td></tr><tr><td>test</td><td>CLASS_KIT_(T6701_mutant)</td><td>f1</td><td>0.0</td></tr><tr><td>test</td><td>CLASS_KIT_(V560G_mutant)</td><td>f1</td><td>0.0</td></tr><tr><td>test</td><td>CLASS_KIT</td><td>f1</td><td>0.0</td></tr><tr><td>test</td><td>CLASS_KIT_(T6701_mutant)</td><td>roc_auc</td><td>0.6834637965</td></tr><tr><td>test</td><td>CLASS_KIT_(V560G_mutant)</td><td>roc_auc</td><td>0.7055555556</td></tr><tr><td>test</td><td>CLASS_KIT</td><td>roc_auc</td><td>0.7817059484</td></tr><tr><td>test</td><td>CLASS_KIT_(T6701_mutant)</td><td>pr_auc</td><td>0.3456398643</td></tr><tr><td>test</td><td>CLASS_KIT_(V560G_mutant)</td><td>pr_auc</td><td>0.3823925027</td></tr><tr><td>test</td><td>CLASS_KIT</td><td>pr_auc</td><td>0.6465385759</td></tr><tr><td>test</td><td>CLASS_KIT_(T6701_mutant)</td><td>mcc</td><td>0.0</td></tr><tr><td>test</td><td>CLASS_KIT_(V560G_mutant)</td><td>mcc</td><td>0.0</td></tr><tr><td>test</td><td>CLASS_KIT</td><td>mcc</td><td>0.0</td></tr><tr><td>test</td><td>CLASS_KIT_(T6701_mutant)</td><td>cohen_kappa</td><td>0.0</td></tr><tr><td>test</td><td>CLASS_KIT_(V560G_mutant)</td><td>cohen_kappa</td><td>0.0</td></tr><tr><td>test</td><td>CLASS_KIT</td><td>cohen_kappa</td><td>0.0</td></tr></tbody></table></td></tr></table>"
      ],
      "text/plain": [
       "{\n",
       "  \"name\": null,\n",
       "  \"description\": \"\",\n",
       "  \"tags\": [],\n",
       "  \"user_attributes\": {},\n",
       "  \"owner\": null,\n",
       "  \"polaris_version\": \"dev\",\n",
       "  \"benchmark_name\": \"pkis1-kit-wt-mut-c-1\",\n",
       "  \"benchmark_owner\": {\n",
       "    \"slug\": \"polaris\",\n",
       "    \"external_id\": \"org_2gtoaJIVrgRqiIR8Qm5BnpFCbxu\",\n",
       "    \"type\": \"organization\"\n",
       "  },\n",
       "  \"github_url\": null,\n",
       "  \"paper_url\": null,\n",
       "  \"contributors\": null,\n",
       "  \"artifact_id\": null,\n",
       "  \"benchmark_artifact_id\": \"polaris/pkis1-kit-wt-mut-c-1\",\n",
       "  \"results\": [\n",
       "    {\n",
       "      \"Test set\": \"test\",\n",
       "      \"Target label\": \"CLASS_KIT_(T6701_mutant)\",\n",
       "      \"Metric\": \"accuracy\",\n",
       "      \"Score\": 0.8390804598\n",
       "    },\n",
       "    {\n",
       "      \"Test set\": \"test\",\n",
       "      \"Target label\": \"CLASS_KIT_(V560G_mutant)\",\n",
       "      \"Metric\": \"accuracy\",\n",
       "      \"Score\": 0.8620689655\n",
       "    },\n",
       "    {\n",
       "      \"Test set\": \"test\",\n",
       "      \"Target label\": \"CLASS_KIT\",\n",
       "      \"Metric\": \"accuracy\",\n",
       "      \"Score\": 0.6206896552\n",
       "    },\n",
       "    {\n",
       "      \"Test set\": \"test\",\n",
       "      \"Target label\": \"CLASS_KIT_(T6701_mutant)\",\n",
       "      \"Metric\": \"f1\",\n",
       "      \"Score\": 0.0\n",
       "    },\n",
       "    {\n",
       "      \"Test set\": \"test\",\n",
       "      \"Target label\": \"CLASS_KIT_(V560G_mutant)\",\n",
       "      \"Metric\": \"f1\",\n",
       "      \"Score\": 0.0\n",
       "    },\n",
       "    {\n",
       "      \"Test set\": \"test\",\n",
       "      \"Target label\": \"CLASS_KIT\",\n",
       "      \"Metric\": \"f1\",\n",
       "      \"Score\": 0.0\n",
       "    },\n",
       "    {\n",
       "      \"Test set\": \"test\",\n",
       "      \"Target label\": \"CLASS_KIT_(T6701_mutant)\",\n",
       "      \"Metric\": \"roc_auc\",\n",
       "      \"Score\": 0.6834637965\n",
       "    },\n",
       "    {\n",
       "      \"Test set\": \"test\",\n",
       "      \"Target label\": \"CLASS_KIT_(V560G_mutant)\",\n",
       "      \"Metric\": \"roc_auc\",\n",
       "      \"Score\": 0.7055555556\n",
       "    },\n",
       "    {\n",
       "      \"Test set\": \"test\",\n",
       "      \"Target label\": \"CLASS_KIT\",\n",
       "      \"Metric\": \"roc_auc\",\n",
       "      \"Score\": 0.7817059484\n",
       "    },\n",
       "    {\n",
       "      \"Test set\": \"test\",\n",
       "      \"Target label\": \"CLASS_KIT_(T6701_mutant)\",\n",
       "      \"Metric\": \"pr_auc\",\n",
       "      \"Score\": 0.3456398643\n",
       "    },\n",
       "    {\n",
       "      \"Test set\": \"test\",\n",
       "      \"Target label\": \"CLASS_KIT_(V560G_mutant)\",\n",
       "      \"Metric\": \"pr_auc\",\n",
       "      \"Score\": 0.3823925027\n",
       "    },\n",
       "    {\n",
       "      \"Test set\": \"test\",\n",
       "      \"Target label\": \"CLASS_KIT\",\n",
       "      \"Metric\": \"pr_auc\",\n",
       "      \"Score\": 0.6465385759\n",
       "    },\n",
       "    {\n",
       "      \"Test set\": \"test\",\n",
       "      \"Target label\": \"CLASS_KIT_(T6701_mutant)\",\n",
       "      \"Metric\": \"mcc\",\n",
       "      \"Score\": 0.0\n",
       "    },\n",
       "    {\n",
       "      \"Test set\": \"test\",\n",
       "      \"Target label\": \"CLASS_KIT_(V560G_mutant)\",\n",
       "      \"Metric\": \"mcc\",\n",
       "      \"Score\": 0.0\n",
       "    },\n",
       "    {\n",
       "      \"Test set\": \"test\",\n",
       "      \"Target label\": \"CLASS_KIT\",\n",
       "      \"Metric\": \"mcc\",\n",
       "      \"Score\": 0.0\n",
       "    },\n",
       "    {\n",
       "      \"Test set\": \"test\",\n",
       "      \"Target label\": \"CLASS_KIT_(T6701_mutant)\",\n",
       "      \"Metric\": \"cohen_kappa\",\n",
       "      \"Score\": 0.0\n",
       "    },\n",
       "    {\n",
       "      \"Test set\": \"test\",\n",
       "      \"Target label\": \"CLASS_KIT_(V560G_mutant)\",\n",
       "      \"Metric\": \"cohen_kappa\",\n",
       "      \"Score\": 0.0\n",
       "    },\n",
       "    {\n",
       "      \"Test set\": \"test\",\n",
       "      \"Target label\": \"CLASS_KIT\",\n",
       "      \"Metric\": \"cohen_kappa\",\n",
       "      \"Score\": 0.0\n",
       "    }\n",
       "  ]\n",
       "}"
      ]
     },
     "execution_count": 24,
     "metadata": {},
     "output_type": "execute_result"
    }
   ],
   "source": [
    "benchmark.evaluate(y_pred=y_pred, y_prob=y_prob)"
   ]
  },
  {
   "cell_type": "markdown",
   "metadata": {
    "id": "yu-5J7CV2-c8"
   },
   "source": [
    "Although this works, we're not required to train a multi-task model. Polaris doesn't impose any restrictions on the methodology. You could e.g. also train multiple single-task models."
   ]
  },
  {
   "cell_type": "code",
   "execution_count": null,
   "metadata": {
    "id": "4GTqOv1fLlk8"
   },
   "outputs": [],
   "source": [
    "from sklearn.ensemble import RandomForestClassifier\n",
    "\n",
    "models = {target: RandomForestClassifier(max_depth=5) for target in benchmark.target_cols}\n",
    "X = train.X\n",
    "\n",
    "for target, model in models.items():\n",
    "  y = train.y[target]\n",
    "  mask = ~np.isnan(y)\n",
    "  model.fit(X[mask], y[mask])\n",
    "\n",
    "y_prob = {target: model.predict_proba(test.X)[:, 1] for target, model in models.items()}\n",
    "y_pred = {target: model.predict(test.X) for target, model in models.items()}\n",
    "\n",
    "results = benchmark.evaluate(y_pred=y_pred, y_prob=y_prob)"
   ]
  },
  {
   "cell_type": "markdown",
   "metadata": {
    "id": "QXyEVMYx3ayu"
   },
   "source": [
    "Finally, let's upload our results to the Hub again!"
   ]
  },
  {
   "cell_type": "code",
   "execution_count": null,
   "metadata": {
    "id": "EhSM7C4bONxc"
   },
   "outputs": [],
   "source": [
    "results.name = \"my-second-result\"\n",
    "results.description = \"ECFP fingerprints with a Random Forest\""
   ]
  },
  {
   "cell_type": "code",
   "execution_count": null,
   "metadata": {
    "colab": {
     "base_uri": "https://localhost:8080/"
    },
    "id": "W_WeO8Ay3eYu",
    "outputId": "cdf09690-4f47-4ab4-fc67-882934d037a4"
   },
   "outputs": [
    {
     "name": "stderr",
     "output_type": "stream",
     "text": [
      "\u001b[32m2024-06-20 13:00:01.006\u001b[0m | \u001b[32m\u001b[1mSUCCESS \u001b[0m | \u001b[36mpolaris.hub.client\u001b[0m:\u001b[36mupload_results\u001b[0m:\u001b[36m492\u001b[0m - \u001b[32m\u001b[1mYour result has been successfully uploaded to the Hub. View it here: https://polarishub.io/benchmarks/polaris/pkis1-kit-wt-mut-c-1/tWYuqlNYeoXeqKTKNN82D\u001b[0m\n"
     ]
    }
   ],
   "source": [
    "results.upload_to_hub(owner=owner);"
   ]
  },
  {
   "cell_type": "markdown",
   "metadata": {
    "id": "ML2Say8Q5aWn"
   },
   "source": [
    "The End."
   ]
  }
 ],
 "metadata": {
  "colab": {
   "provenance": []
  },
  "kernelspec": {
   "display_name": "Python 3 (ipykernel)",
   "language": "python",
   "name": "python3"
  },
  "language_info": {
   "codemirror_mode": {
    "name": "ipython",
    "version": 3
   },
   "file_extension": ".py",
   "mimetype": "text/x-python",
   "name": "python",
   "nbconvert_exporter": "python",
   "pygments_lexer": "ipython3",
   "version": "3.11.9"
  }
 },
 "nbformat": 4,
 "nbformat_minor": 4
}
