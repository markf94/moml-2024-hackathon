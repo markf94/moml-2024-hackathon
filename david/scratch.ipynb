{
 "cells": [
  {
   "cell_type": "code",
   "execution_count": 1,
   "id": "d535b605-5a16-4317-8cef-821c2b9305dd",
   "metadata": {},
   "outputs": [
    {
     "name": "stdout",
     "output_type": "stream",
     "text": [
      "\u001b[32m2024-06-20 19:30:37.687\u001b[0m | \u001b[1mINFO    \u001b[0m | \u001b[36mpolaris.hub.client\u001b[0m:\u001b[36mlogin\u001b[0m:\u001b[36m285\u001b[0m - \u001b[1mYou are already logged in to the Polaris Hub as yakavetsiv (i.yakavets@gmail.com). Set `overwrite=True` to force re-authentication.\u001b[0m\n"
     ]
    }
   ],
   "source": [
    "!polaris login"
   ]
  },
  {
   "cell_type": "code",
   "execution_count": 7,
   "id": "be128153-b64b-4e37-a6e2-abf92e891065",
   "metadata": {},
   "outputs": [],
   "source": [
    "import polaris as po\n",
    "import datamol as dm\n",
    "import numpy as np\n",
    "\n",
    "import torch\n",
    "import gpytorch"
   ]
  },
  {
   "cell_type": "code",
   "execution_count": 2,
   "id": "e14f2cee-9527-4a14-be44-134320569ede",
   "metadata": {},
   "outputs": [
    {
     "name": "stderr",
     "output_type": "stream",
     "text": [
      "\u001b[32m2024-06-20 20:31:00.517\u001b[0m | \u001b[1mINFO    \u001b[0m | \u001b[36mpolaris._artifact\u001b[0m:\u001b[36m_validate_version\u001b[0m:\u001b[36m66\u001b[0m - \u001b[1mThe version of Polaris that was used to create the artifact (0.0.0) is different from the currently installed version of Polaris (dev).\u001b[0m\n",
      "\u001b[32m2024-06-20 20:31:00.523\u001b[0m | \u001b[1mINFO    \u001b[0m | \u001b[36mpolaris._artifact\u001b[0m:\u001b[36m_validate_version\u001b[0m:\u001b[36m66\u001b[0m - \u001b[1mThe version of Polaris that was used to create the artifact (0.0.0) is different from the currently installed version of Polaris (dev).\u001b[0m\n"
     ]
    }
   ],
   "source": [
    "benchmark = po.load_benchmark(\"polaris/pkis1-kit-wt-mut-c-1\")"
   ]
  },
  {
   "cell_type": "code",
   "execution_count": 3,
   "id": "1b54bd1a-70d6-41bb-a4a7-fe38bd1d3f6a",
   "metadata": {},
   "outputs": [
    {
     "data": {
      "text/html": [
       "<table border=\"1\"><tr><th>name</th><td>pkis1-kit-wt-mut-c-1</td></tr><tr><th>description</th><td>A multitask classification benchmark for KIT wild type, T670I mutant and KV560G_mutant.</td></tr><tr><th>tags</th><td><ul><li>kinase</li><li>hit-discovery</li><li>selectivity</li></ul></td></tr><tr><th>user_attributes</th><td></td></tr><tr><th>owner</th><td>polaris</td></tr><tr><th>polaris_version</th><td>0.0.0</td></tr><tr><th>target_cols</th><td><ul><li>CLASS_KIT_(T6701_mutant)</li><li>CLASS_KIT_(V560G_mutant)</li><li>CLASS_KIT</li></ul></td></tr><tr><th>input_cols</th><td><ul><li>smiles</li></ul></td></tr><tr><th>metrics</th><td><ul><li>accuracy</li><li>f1</li><li>roc_auc</li><li>pr_auc</li><li>mcc</li><li>cohen_kappa</li></ul></td></tr><tr><th>main_metric</th><td>pr_auc</td></tr><tr><th>md5sum</th><td>d5411c8eb9d1753e4306d567d441114c</td></tr><tr><th>readme</th><td>\n",
       "### Background\n",
       "**KIT** (Proto-oncogene c-KIT) receptor plays a crucial role in regulating cell growth, differentiation, and survival. It&#x27;s particularly important in the development of blood cells, melanocytes (the cells that produce melanin, the pigment responsible for skin, hair, and eye color), and certain cells in the gut. Mutations in the KIT gene can lead to uncontrolled cell growth and contribute to the development of certain types of cancer, including gastrointestinal stromal tumors (GISTs) and some types of leukemia\n",
       "\n",
       "### Benchmarking\n",
       "\n",
       "- **KIT wild type**:  In certain cancers, KIT signaling can be activated by other receptors or mutations upstream in the signaling pathway. Targeting these upstream factors can indirectly impact KIT signaling and downstream effects. An example of this is seen in some cases of acute myeloid leukemia (AML) where KIT is expressed without mutations, but other upstream mutations can lead to aberrant KIT activation.\n",
       "- **KIT selectivity**: This dataset includes KIT wild type and reported mutants `KIT T6701`, `KIT V560G`. D816V results in constitutive phosphorylation of Kit, activation of Stat5 signaling (PMID: 19865100, PMID: 18390729), induces mastocytosis and tumor formation in mice (PMID: 21148330) and confers resistance to Kit inhibitors (PMID: 22301675, PMID: 19164557). \n",
       "\n",
       "**The goal** of this benchmark is to perform a multitask, which is to the best predictive model for \n",
       "- Selectivity towards the mutants.\n",
       "- Optimization of the bioactivity % inhibition.\n",
       "- Discovery of potential hits in new chemical space.\n",
       "\n",
       "\n",
       "## Description of readout:\n",
       "- **Readouts**: `CLASS_KIT`, `CLASS_KIT_(T670I_mutant)`, `CLASS_KIT_(V560G_mutant)`\n",
       "- **Bioassay readout**: percentage of inhnibition.\n",
       "- **Number of data points**: train:  277 test:  87\n",
       "- **Thresholds**: \n",
       "    - KIT_(T6701_mutant): &gt; 75\n",
       "    - KIT_(V560G_mutant): &gt; 75\n",
       "    - KIT: &gt; 75\n",
       "- **Optimization objective**: postive label (1)\n",
       "\n",
       "### Data resource: \n",
       "- **Reference**: [PKIS1](https://pubmed.ncbi.nlm.nih.gov/26501955)\n",
       "\n",
       "### Train/test split\n",
       "Given the benchmarking goal, a scaffold-based splitting approach was applied to ensure training and test sets contain distinct chemical structures while maintaining the diversity of scaffolds.\n",
       "\n",
       "**Distribution of the train/test in the chemical space**\n",
       "![image](https://storage.googleapis.com/polaris-public/datasets/kinases/kit/figures/drewry_kit_wt_t670i_v560g_v1_tsne_scaffold_split.png)\n",
       "\n",
       "**For more details of this benchmark** -&gt; [notebook](https://github.com/polaris-hub/polaris-recipes/blob/main/03_Kinases/KIT)\n",
       "\n",
       "## Related benchmarks\n",
       "- polaris/drewry_kit_wt_t670i_v560g_clf_v1\n",
       "&gt; Note: It&#x27;s recommanded to evaluate your methods agaisnt all the benchmarks related to this dataset. \n",
       "</td></tr><tr><th>target_types</th><td><table border=\"1\"><tr><th>CLASS_KIT</th><td>classification</td></tr><tr><th>CLASS_KIT_(T6701_mutant)</th><td>classification</td></tr><tr><th>CLASS_KIT_(V560G_mutant)</th><td>classification</td></tr></table></td></tr><tr><th>artifact_id</th><td>polaris/pkis1-kit-wt-mut-c-1</td></tr><tr><th>n_train_datapoints</th><td>277</td></tr><tr><th>n_test_sets</th><td>1</td></tr><tr><th>n_test_datapoints</th><td><table border=\"1\"><tr><th>test</th><td>87</td></tr></table></td></tr><tr><th>n_classes</th><td><table border=\"1\"><tr><th>CLASS_KIT_(T6701_mutant)</th><td>2</td></tr><tr><th>CLASS_KIT_(V560G_mutant)</th><td>2</td></tr><tr><th>CLASS_KIT</th><td>2</td></tr></table></td></tr><tr><th>task_type</th><td>multi_task</td></tr><tr><th>dataset_name</th><td>kinase-pkis1-1</td></tr></table>"
      ],
      "text/plain": [
       "{\n",
       "  \"name\": \"pkis1-kit-wt-mut-c-1\",\n",
       "  \"description\": \"A multitask classification benchmark for KIT wild type, T670I mutant and KV560G_mutant.\",\n",
       "  \"tags\": [\n",
       "    \"kinase\",\n",
       "    \"hit-discovery\",\n",
       "    \"selectivity\"\n",
       "  ],\n",
       "  \"user_attributes\": {},\n",
       "  \"owner\": \"polaris\",\n",
       "  \"polaris_version\": \"0.0.0\",\n",
       "  \"target_cols\": [\n",
       "    \"CLASS_KIT_(T6701_mutant)\",\n",
       "    \"CLASS_KIT_(V560G_mutant)\",\n",
       "    \"CLASS_KIT\"\n",
       "  ],\n",
       "  \"input_cols\": [\n",
       "    \"smiles\"\n",
       "  ],\n",
       "  \"metrics\": [\n",
       "    \"accuracy\",\n",
       "    \"f1\",\n",
       "    \"roc_auc\",\n",
       "    \"pr_auc\",\n",
       "    \"mcc\",\n",
       "    \"cohen_kappa\"\n",
       "  ],\n",
       "  \"main_metric\": \"pr_auc\",\n",
       "  \"md5sum\": \"d5411c8eb9d1753e4306d567d441114c\",\n",
       "  \"readme\": \"\\n### Background\\n**KIT** (Proto-oncogene c-KIT) receptor plays a crucial role in regulating cell growth, differentiation, and survival. It's particularly important in the development of blood cells, melanocytes (the cells that produce melanin, the pigment responsible for skin, hair, and eye color), and certain cells in the gut. Mutations in the KIT gene can lead to uncontrolled cell growth and contribute to the development of certain types of cancer, including gastrointestinal stromal tumors (GISTs) and some types of leukemia\\n\\n### Benchmarking\\n\\n- **KIT wild type**:  In certain cancers, KIT signaling can be activated by other receptors or mutations upstream in the signaling pathway. Targeting these upstream factors can indirectly impact KIT signaling and downstream effects. An example of this is seen in some cases of acute myeloid leukemia (AML) where KIT is expressed without mutations, but other upstream mutations can lead to aberrant KIT activation.\\n- **KIT selectivity**: This dataset includes KIT wild type and reported mutants `KIT T6701`, `KIT V560G`. D816V results in constitutive phosphorylation of Kit, activation of Stat5 signaling (PMID: 19865100, PMID: 18390729), induces mastocytosis and tumor formation in mice (PMID: 21148330) and confers resistance to Kit inhibitors (PMID: 22301675, PMID: 19164557). \\n\\n**The goal** of this benchmark is to perform a multitask, which is to the best predictive model for \\n- Selectivity towards the mutants.\\n- Optimization of the bioactivity % inhibition.\\n- Discovery of potential hits in new chemical space.\\n\\n\\n## Description of readout:\\n- **Readouts**: `CLASS_KIT`, `CLASS_KIT_(T670I_mutant)`, `CLASS_KIT_(V560G_mutant)`\\n- **Bioassay readout**: percentage of inhnibition.\\n- **Number of data points**: train:  277 test:  87\\n- **Thresholds**: \\n    - KIT_(T6701_mutant): > 75\\n    - KIT_(V560G_mutant): > 75\\n    - KIT: > 75\\n- **Optimization objective**: postive label (1)\\n\\n### Data resource: \\n- **Reference**: [PKIS1](https://pubmed.ncbi.nlm.nih.gov/26501955)\\n\\n### Train/test split\\nGiven the benchmarking goal, a scaffold-based splitting approach was applied to ensure training and test sets contain distinct chemical structures while maintaining the diversity of scaffolds.\\n\\n**Distribution of the train/test in the chemical space**\\n![image](https://storage.googleapis.com/polaris-public/datasets/kinases/kit/figures/drewry_kit_wt_t670i_v560g_v1_tsne_scaffold_split.png)\\n\\n**For more details of this benchmark** -> [notebook](https://github.com/polaris-hub/polaris-recipes/blob/main/03_Kinases/KIT)\\n\\n## Related benchmarks\\n- polaris/drewry_kit_wt_t670i_v560g_clf_v1\\n> Note: It's recommanded to evaluate your methods agaisnt all the benchmarks related to this dataset. \\n\",\n",
       "  \"target_types\": {\n",
       "    \"CLASS_KIT\": \"classification\",\n",
       "    \"CLASS_KIT_(T6701_mutant)\": \"classification\",\n",
       "    \"CLASS_KIT_(V560G_mutant)\": \"classification\"\n",
       "  },\n",
       "  \"artifact_id\": \"polaris/pkis1-kit-wt-mut-c-1\",\n",
       "  \"n_train_datapoints\": 277,\n",
       "  \"n_test_sets\": 1,\n",
       "  \"n_test_datapoints\": {\n",
       "    \"test\": 87\n",
       "  },\n",
       "  \"n_classes\": {\n",
       "    \"CLASS_KIT_(T6701_mutant)\": 2,\n",
       "    \"CLASS_KIT_(V560G_mutant)\": 2,\n",
       "    \"CLASS_KIT\": 2\n",
       "  },\n",
       "  \"task_type\": \"multi_task\",\n",
       "  \"dataset_name\": \"kinase-pkis1-1\"\n",
       "}"
      ]
     },
     "execution_count": 3,
     "metadata": {},
     "output_type": "execute_result"
    }
   ],
   "source": [
    "benchmark"
   ]
  },
  {
   "cell_type": "code",
   "execution_count": 4,
   "id": "96878a22-01cc-41a9-bca5-080952f4aa84",
   "metadata": {},
   "outputs": [
    {
     "data": {
      "text/plain": [
       "(array([0, 0, 0, ..., 0, 0, 0], dtype=uint8),\n",
       " {'CLASS_KIT_(T6701_mutant)': 0.0,\n",
       "  'CLASS_KIT_(V560G_mutant)': 0.0,\n",
       "  'CLASS_KIT': 0.0})"
      ]
     },
     "execution_count": 4,
     "metadata": {},
     "output_type": "execute_result"
    }
   ],
   "source": [
    "train, test = benchmark.get_train_test_split(featurization_fn=dm.to_fp)\n",
    "train[0]"
   ]
  },
  {
   "cell_type": "markdown",
   "id": "ddda8fdb-e146-43b1-ad74-d12f2446b749",
   "metadata": {},
   "source": [
    "We will train a Gaussian Process Model via `gpytorch`:"
   ]
  },
  {
   "cell_type": "code",
   "execution_count": 8,
   "id": "483cfcd5-c0f0-4212-9277-15af860609da",
   "metadata": {},
   "outputs": [],
   "source": [
    "train_X = torch.tensor(train.X)"
   ]
  },
  {
   "cell_type": "code",
   "execution_count": 10,
   "id": "63e3c5c8-2b4a-4825-b939-0b5b2734cb93",
   "metadata": {},
   "outputs": [
    {
     "ename": "RuntimeError",
     "evalue": "Could not infer dtype of dict",
     "output_type": "error",
     "traceback": [
      "\u001b[0;31m---------------------------------------------------------------------------\u001b[0m",
      "\u001b[0;31mRuntimeError\u001b[0m                              Traceback (most recent call last)",
      "Cell \u001b[0;32mIn[10], line 1\u001b[0m\n\u001b[0;32m----> 1\u001b[0m train_y \u001b[38;5;241m=\u001b[39m \u001b[43mtorch\u001b[49m\u001b[38;5;241;43m.\u001b[39;49m\u001b[43mtensor\u001b[49m\u001b[43m(\u001b[49m\u001b[43mtrain\u001b[49m\u001b[38;5;241;43m.\u001b[39;49m\u001b[43my\u001b[49m\u001b[43m)\u001b[49m\n",
      "\u001b[0;31mRuntimeError\u001b[0m: Could not infer dtype of dict"
     ]
    }
   ],
   "source": [
    "train_y = torch.tensor(train.y)"
   ]
  },
  {
   "cell_type": "code",
   "execution_count": null,
   "id": "2cdbff65-2c8a-4180-bb8f-384136089a6a",
   "metadata": {},
   "outputs": [],
   "source": []
  },
  {
   "cell_type": "code",
   "execution_count": 6,
   "id": "a246da2a-9902-4e80-a9b8-5ef1333325ad",
   "metadata": {},
   "outputs": [
    {
     "ename": "RuntimeError",
     "evalue": "Train inputs must be a tensor, or a list/tuple of tensors",
     "output_type": "error",
     "traceback": [
      "\u001b[0;31m---------------------------------------------------------------------------\u001b[0m",
      "\u001b[0;31mRuntimeError\u001b[0m                              Traceback (most recent call last)",
      "Cell \u001b[0;32mIn[6], line 15\u001b[0m\n\u001b[1;32m     13\u001b[0m \u001b[38;5;66;03m# initialize likelihood and model\u001b[39;00m\n\u001b[1;32m     14\u001b[0m likelihood \u001b[38;5;241m=\u001b[39m gpytorch\u001b[38;5;241m.\u001b[39mlikelihoods\u001b[38;5;241m.\u001b[39mGaussianLikelihood()\n\u001b[0;32m---> 15\u001b[0m model \u001b[38;5;241m=\u001b[39m \u001b[43mExactGPModel\u001b[49m\u001b[43m(\u001b[49m\u001b[43mtrain\u001b[49m\u001b[38;5;241;43m.\u001b[39;49m\u001b[43mX\u001b[49m\u001b[43m,\u001b[49m\u001b[43m \u001b[49m\u001b[43mtrain\u001b[49m\u001b[38;5;241;43m.\u001b[39;49m\u001b[43my\u001b[49m\u001b[43m,\u001b[49m\u001b[43m \u001b[49m\u001b[43mlikelihood\u001b[49m\u001b[43m)\u001b[49m\n",
      "Cell \u001b[0;32mIn[6], line 4\u001b[0m, in \u001b[0;36mExactGPModel.__init__\u001b[0;34m(self, train_x, train_y, likelihood)\u001b[0m\n\u001b[1;32m      3\u001b[0m \u001b[38;5;28;01mdef\u001b[39;00m \u001b[38;5;21m__init__\u001b[39m(\u001b[38;5;28mself\u001b[39m, train_x, train_y, likelihood):\n\u001b[0;32m----> 4\u001b[0m     \u001b[38;5;28;43msuper\u001b[39;49m\u001b[43m(\u001b[49m\u001b[43mExactGPModel\u001b[49m\u001b[43m,\u001b[49m\u001b[43m \u001b[49m\u001b[38;5;28;43mself\u001b[39;49m\u001b[43m)\u001b[49m\u001b[38;5;241;43m.\u001b[39;49m\u001b[38;5;21;43m__init__\u001b[39;49m\u001b[43m(\u001b[49m\u001b[43mtrain_x\u001b[49m\u001b[43m,\u001b[49m\u001b[43m \u001b[49m\u001b[43mtrain_y\u001b[49m\u001b[43m,\u001b[49m\u001b[43m \u001b[49m\u001b[43mlikelihood\u001b[49m\u001b[43m)\u001b[49m\n\u001b[1;32m      5\u001b[0m     \u001b[38;5;28mself\u001b[39m\u001b[38;5;241m.\u001b[39mmean_module \u001b[38;5;241m=\u001b[39m gpytorch\u001b[38;5;241m.\u001b[39mmeans\u001b[38;5;241m.\u001b[39mConstantMean()\n\u001b[1;32m      6\u001b[0m     \u001b[38;5;28mself\u001b[39m\u001b[38;5;241m.\u001b[39mcovar_module \u001b[38;5;241m=\u001b[39m gpytorch\u001b[38;5;241m.\u001b[39mkernels\u001b[38;5;241m.\u001b[39mScaleKernel(gpytorch\u001b[38;5;241m.\u001b[39mkernels\u001b[38;5;241m.\u001b[39mRBFKernel())\n",
      "File \u001b[0;32m~/micromamba/envs/moml-david/lib/python3.11/site-packages/gpytorch/models/exact_gp.py:59\u001b[0m, in \u001b[0;36mExactGP.__init__\u001b[0;34m(self, train_inputs, train_targets, likelihood)\u001b[0m\n\u001b[1;32m     57\u001b[0m     train_inputs \u001b[38;5;241m=\u001b[39m (train_inputs,)\n\u001b[1;32m     58\u001b[0m \u001b[38;5;28;01mif\u001b[39;00m train_inputs \u001b[38;5;129;01mis\u001b[39;00m \u001b[38;5;129;01mnot\u001b[39;00m \u001b[38;5;28;01mNone\u001b[39;00m \u001b[38;5;129;01mand\u001b[39;00m \u001b[38;5;129;01mnot\u001b[39;00m \u001b[38;5;28mall\u001b[39m(torch\u001b[38;5;241m.\u001b[39mis_tensor(train_input) \u001b[38;5;28;01mfor\u001b[39;00m train_input \u001b[38;5;129;01min\u001b[39;00m train_inputs):\n\u001b[0;32m---> 59\u001b[0m     \u001b[38;5;28;01mraise\u001b[39;00m \u001b[38;5;167;01mRuntimeError\u001b[39;00m(\u001b[38;5;124m\"\u001b[39m\u001b[38;5;124mTrain inputs must be a tensor, or a list/tuple of tensors\u001b[39m\u001b[38;5;124m\"\u001b[39m)\n\u001b[1;32m     60\u001b[0m \u001b[38;5;28;01mif\u001b[39;00m \u001b[38;5;129;01mnot\u001b[39;00m \u001b[38;5;28misinstance\u001b[39m(likelihood, _GaussianLikelihoodBase):\n\u001b[1;32m     61\u001b[0m     \u001b[38;5;28;01mraise\u001b[39;00m \u001b[38;5;167;01mRuntimeError\u001b[39;00m(\u001b[38;5;124m\"\u001b[39m\u001b[38;5;124mExactGP can only handle Gaussian likelihoods\u001b[39m\u001b[38;5;124m\"\u001b[39m)\n",
      "\u001b[0;31mRuntimeError\u001b[0m: Train inputs must be a tensor, or a list/tuple of tensors"
     ]
    }
   ],
   "source": [
    "# We will use the simplest form of GP model, exact inference\n",
    "class ExactGPModel(gpytorch.models.ExactGP):\n",
    "    def __init__(self, train_x, train_y, likelihood):\n",
    "        super(ExactGPModel, self).__init__(train_x, train_y, likelihood)\n",
    "        self.mean_module = gpytorch.means.ConstantMean()\n",
    "        self.covar_module = gpytorch.kernels.ScaleKernel(gpytorch.kernels.RBFKernel())\n",
    "\n",
    "    def forward(self, x):\n",
    "        mean_x = self.mean_module(x)\n",
    "        covar_x = self.covar_module(x)\n",
    "        return gpytorch.distributions.MultivariateNormal(mean_x, covar_x)\n",
    "\n",
    "# initialize likelihood and model\n",
    "likelihood = gpytorch.likelihoods.GaussianLikelihood()\n",
    "model = ExactGPModel(train.X, train.y, likelihood)"
   ]
  },
  {
   "cell_type": "code",
   "execution_count": null,
   "id": "1b9fb367-3ac4-40ff-b147-30a259ec2774",
   "metadata": {},
   "outputs": [],
   "source": []
  }
 ],
 "metadata": {
  "kernelspec": {
   "display_name": "Python 3 (ipykernel)",
   "language": "python",
   "name": "python3"
  },
  "language_info": {
   "codemirror_mode": {
    "name": "ipython",
    "version": 3
   },
   "file_extension": ".py",
   "mimetype": "text/x-python",
   "name": "python",
   "nbconvert_exporter": "python",
   "pygments_lexer": "ipython3",
   "version": "3.11.9"
  }
 },
 "nbformat": 4,
 "nbformat_minor": 5
}
